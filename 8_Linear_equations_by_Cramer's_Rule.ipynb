{
  "nbformat": 4,
  "nbformat_minor": 0,
  "metadata": {
    "colab": {
      "provenance": [],
      "authorship_tag": "ABX9TyPj1vD35TG6214RuSamacEL",
      "include_colab_link": true
    },
    "kernelspec": {
      "name": "python3",
      "display_name": "Python 3"
    },
    "language_info": {
      "name": "python"
    }
  },
  "cells": [
    {
      "cell_type": "markdown",
      "metadata": {
        "id": "view-in-github",
        "colab_type": "text"
      },
      "source": [
        "<a href=\"https://colab.research.google.com/github/Dubenlaylay1/Math-2024-25-Winter/blob/main/8_Linear_equations_by_Cramer's_Rule.ipynb\" target=\"_parent\"><img src=\"https://colab.research.google.com/assets/colab-badge.svg\" alt=\"Open In Colab\"/></a>"
      ]
    },
    {
      "cell_type": "code",
      "execution_count": 1,
      "metadata": {
        "id": "gknJu5SUWzyG"
      },
      "outputs": [],
      "source": [
        "import sympy as sp\n",
        "\n",
        "# Define symbols\n",
        "x, y, z = sp.symbols('x y z')\n",
        "\n",
        "# Define the system of equations\n",
        "eq1 = sp.Eq(2*x - 3*y, 7)\n",
        "eq2 = sp.Eq(3*x + 5*y, 2)\n",
        "#x1=x, x2=y\n",
        "\n",
        "\n",
        "# Coefficient matrix of the system\n",
        "A = sp.Matrix([[2, 3], [3, 5]])\n",
        "# Free terms vector\n",
        "b = sp.Matrix([7, 2])"
      ]
    },
    {
      "cell_type": "code",
      "source": [
        "A"
      ],
      "metadata": {
        "colab": {
          "base_uri": "https://localhost:8080/",
          "height": 58
        },
        "id": "BVSujyJdZX2l",
        "outputId": "1994bce4-71cc-4e9e-88c7-cdf2db2f36b6"
      },
      "execution_count": 2,
      "outputs": [
        {
          "output_type": "execute_result",
          "data": {
            "text/plain": [
              "Matrix([\n",
              "[2, 3],\n",
              "[3, 5]])"
            ],
            "text/latex": "$\\displaystyle \\left[\\begin{matrix}2 & 3\\\\3 & 5\\end{matrix}\\right]$"
          },
          "metadata": {},
          "execution_count": 2
        }
      ]
    },
    {
      "cell_type": "code",
      "source": [
        "b"
      ],
      "metadata": {
        "colab": {
          "base_uri": "https://localhost:8080/",
          "height": 58
        },
        "id": "a2Zh1oDmZY0E",
        "outputId": "ffc9bb71-e858-454e-b76d-6131fe7ef35c"
      },
      "execution_count": 3,
      "outputs": [
        {
          "output_type": "execute_result",
          "data": {
            "text/plain": [
              "Matrix([\n",
              "[7],\n",
              "[2]])"
            ],
            "text/latex": "$\\displaystyle \\left[\\begin{matrix}7\\\\2\\end{matrix}\\right]$"
          },
          "metadata": {},
          "execution_count": 3
        }
      ]
    },
    {
      "cell_type": "code",
      "source": [
        "# Define matrix A_1\n",
        "A_1 = A.copy() # Copy matrix A\n",
        "A_1[:, 0] = b # Replace the first column of A with vector b\n",
        "A_1 # Check if the replacement was successful"
      ],
      "metadata": {
        "colab": {
          "base_uri": "https://localhost:8080/",
          "height": 58
        },
        "id": "x5VZBVgQZeof",
        "outputId": "b2dafcfd-b5c2-4e63-c14b-a5cad1d445ba"
      },
      "execution_count": 4,
      "outputs": [
        {
          "output_type": "execute_result",
          "data": {
            "text/plain": [
              "Matrix([\n",
              "[7, 3],\n",
              "[2, 5]])"
            ],
            "text/latex": "$\\displaystyle \\left[\\begin{matrix}7 & 3\\\\2 & 5\\end{matrix}\\right]$"
          },
          "metadata": {},
          "execution_count": 4
        }
      ]
    },
    {
      "cell_type": "code",
      "source": [
        "det_A_1 = A_1.det() # Calculate determinant of A_1\n",
        "sol_x = det_A_1 / A.det() # Calculate x_1\n",
        "sol_x # Calculated value of x_1"
      ],
      "metadata": {
        "colab": {
          "base_uri": "https://localhost:8080/",
          "height": 37
        },
        "id": "9BSv4f7qZkBN",
        "outputId": "22e8c030-1887-4d5f-d27a-6a4c5a2af594"
      },
      "execution_count": 5,
      "outputs": [
        {
          "output_type": "execute_result",
          "data": {
            "text/plain": [
              "29"
            ],
            "text/latex": "$\\displaystyle 29$"
          },
          "metadata": {},
          "execution_count": 5
        }
      ]
    },
    {
      "cell_type": "code",
      "source": [
        "# Similarly for y\n",
        "A_2 = A.copy()\n",
        "A_2[:, 1] = b\n",
        "A_2 # Check if the replacement was successful"
      ],
      "metadata": {
        "colab": {
          "base_uri": "https://localhost:8080/",
          "height": 58
        },
        "id": "1f25CIfSZno1",
        "outputId": "8dd7c12f-a275-47aa-8c16-eab026f87584"
      },
      "execution_count": 6,
      "outputs": [
        {
          "output_type": "execute_result",
          "data": {
            "text/plain": [
              "Matrix([\n",
              "[2, 7],\n",
              "[3, 2]])"
            ],
            "text/latex": "$\\displaystyle \\left[\\begin{matrix}2 & 7\\\\3 & 2\\end{matrix}\\right]$"
          },
          "metadata": {},
          "execution_count": 6
        }
      ]
    },
    {
      "cell_type": "code",
      "source": [
        "det_A_2 = A_2.det()\n",
        "sol_y = det_A_2 / A.det()\n",
        "sol_y"
      ],
      "metadata": {
        "colab": {
          "base_uri": "https://localhost:8080/",
          "height": 37
        },
        "id": "XTO2_BUFZq24",
        "outputId": "1ec0207c-3420-4548-c7e8-fa06b17fb629"
      },
      "execution_count": 7,
      "outputs": [
        {
          "output_type": "execute_result",
          "data": {
            "text/plain": [
              "-17"
            ],
            "text/latex": "$\\displaystyle -17$"
          },
          "metadata": {},
          "execution_count": 7
        }
      ]
    },
    {
      "cell_type": "code",
      "source": [
        "# Solve the system of equations\n",
        "sp.solve((eq1, eq2), (x, y))"
      ],
      "metadata": {
        "colab": {
          "base_uri": "https://localhost:8080/"
        },
        "id": "_zVa_BLOZuMT",
        "outputId": "a09598d6-099a-4e01-ddea-34ec2cc6a06d"
      },
      "execution_count": 9,
      "outputs": [
        {
          "output_type": "execute_result",
          "data": {
            "text/plain": [
              "{x: 41/19, y: -17/19}"
            ]
          },
          "metadata": {},
          "execution_count": 9
        }
      ]
    },
    {
      "cell_type": "code",
      "source": [
        "import sympy as sp\n",
        "\n",
        "# Define symbols\n",
        "x, y, z = sp.symbols('x y z')\n",
        "\n",
        "# Define the system of equations\n",
        "eq1 = sp.Eq(2*x + y - z, 1)\n",
        "eq2 = sp.Eq(x - y + 2*z, 4)\n",
        "eq3 = sp.Eq(3*x - z, -1)\n",
        "\n",
        "# Coefficient matrix of the system\n",
        "A = sp.Matrix([[2, 1, 1], [1, 1, 2], [3, 0, -1]])\n",
        "# Free terms vector\n",
        "b = sp.Matrix([1, 4, -1])"
      ],
      "metadata": {
        "id": "Tdh0HGzRZwkf"
      },
      "execution_count": 11,
      "outputs": []
    },
    {
      "cell_type": "code",
      "source": [
        "A"
      ],
      "metadata": {
        "colab": {
          "base_uri": "https://localhost:8080/",
          "height": 78
        },
        "id": "hFHF9musaYGP",
        "outputId": "dda5cf31-7618-407f-b1cb-87e49b67ca9c"
      },
      "execution_count": 12,
      "outputs": [
        {
          "output_type": "execute_result",
          "data": {
            "text/plain": [
              "Matrix([\n",
              "[2, 1,  1],\n",
              "[1, 1,  2],\n",
              "[3, 0, -1]])"
            ],
            "text/latex": "$\\displaystyle \\left[\\begin{matrix}2 & 1 & 1\\\\1 & 1 & 2\\\\3 & 0 & -1\\end{matrix}\\right]$"
          },
          "metadata": {},
          "execution_count": 12
        }
      ]
    },
    {
      "cell_type": "code",
      "source": [
        "b"
      ],
      "metadata": {
        "colab": {
          "base_uri": "https://localhost:8080/",
          "height": 78
        },
        "id": "Lq4DxhzBasF2",
        "outputId": "73b7fb7b-22b7-4363-f4fe-f775044d42c8"
      },
      "execution_count": 13,
      "outputs": [
        {
          "output_type": "execute_result",
          "data": {
            "text/plain": [
              "Matrix([\n",
              "[ 1],\n",
              "[ 4],\n",
              "[-1]])"
            ],
            "text/latex": "$\\displaystyle \\left[\\begin{matrix}1\\\\4\\\\-1\\end{matrix}\\right]$"
          },
          "metadata": {},
          "execution_count": 13
        }
      ]
    },
    {
      "cell_type": "code",
      "source": [
        "# Define matrix A_1\n",
        "A_1 = A.copy() # Copy matrix A\n",
        "A_1[:, 0] = b # Replace the first column of A with vector b\n",
        "A_1 # Check if the replacement was successful"
      ],
      "metadata": {
        "colab": {
          "base_uri": "https://localhost:8080/",
          "height": 78
        },
        "id": "ZNXGMqkCasmZ",
        "outputId": "f70cba3e-20e3-44f4-9df0-98fb921a535c"
      },
      "execution_count": 14,
      "outputs": [
        {
          "output_type": "execute_result",
          "data": {
            "text/plain": [
              "Matrix([\n",
              "[ 1, 1,  1],\n",
              "[ 4, 1,  2],\n",
              "[-1, 0, -1]])"
            ],
            "text/latex": "$\\displaystyle \\left[\\begin{matrix}1 & 1 & 1\\\\4 & 1 & 2\\\\-1 & 0 & -1\\end{matrix}\\right]$"
          },
          "metadata": {},
          "execution_count": 14
        }
      ]
    },
    {
      "cell_type": "code",
      "source": [
        "det_A_1 = A_1.det() # Calculate determinant of A_1\n",
        "sol_x = det_A_1 / A.det() # Calculate x_1\n",
        "sol_x # Calculated value of x_1"
      ],
      "metadata": {
        "colab": {
          "base_uri": "https://localhost:8080/",
          "height": 37
        },
        "id": "DYyQirPIavoW",
        "outputId": "7af2a509-a3ef-4965-e0a6-71e26919c46d"
      },
      "execution_count": 15,
      "outputs": [
        {
          "output_type": "execute_result",
          "data": {
            "text/plain": [
              "1"
            ],
            "text/latex": "$\\displaystyle 1$"
          },
          "metadata": {},
          "execution_count": 15
        }
      ]
    },
    {
      "cell_type": "code",
      "source": [
        "# Similarly for y\n",
        "A_2 = A.copy()\n",
        "A_2[:, 1] = b\n",
        "A_2 # Check if the replacement was successful"
      ],
      "metadata": {
        "colab": {
          "base_uri": "https://localhost:8080/",
          "height": 78
        },
        "id": "dTPlMIspayOL",
        "outputId": "e05b6c04-378d-4d2a-eb95-c1aac08e0a93"
      },
      "execution_count": 16,
      "outputs": [
        {
          "output_type": "execute_result",
          "data": {
            "text/plain": [
              "Matrix([\n",
              "[2,  1,  1],\n",
              "[1,  4,  2],\n",
              "[3, -1, -1]])"
            ],
            "text/latex": "$\\displaystyle \\left[\\begin{matrix}2 & 1 & 1\\\\1 & 4 & 2\\\\3 & -1 & -1\\end{matrix}\\right]$"
          },
          "metadata": {},
          "execution_count": 16
        }
      ]
    },
    {
      "cell_type": "code",
      "source": [
        "det_A_2 = A_2.det()\n",
        "sol_y = det_A_2 / A.det()\n",
        "sol_y"
      ],
      "metadata": {
        "colab": {
          "base_uri": "https://localhost:8080/",
          "height": 37
        },
        "id": "90Yu6Mfea0aK",
        "outputId": "2b1736a3-d1fe-4a22-d6cc-997864764cbe"
      },
      "execution_count": 17,
      "outputs": [
        {
          "output_type": "execute_result",
          "data": {
            "text/plain": [
              "-5"
            ],
            "text/latex": "$\\displaystyle -5$"
          },
          "metadata": {},
          "execution_count": 17
        }
      ]
    },
    {
      "cell_type": "code",
      "source": [
        "# Finally for z\n",
        "A_3 = A.copy()\n",
        "A_3[:, 2] = b\n",
        "det_A_3 = A_3.det()\n",
        "sol_z = det_A_3 / A.det()\n",
        "sol_z"
      ],
      "metadata": {
        "colab": {
          "base_uri": "https://localhost:8080/",
          "height": 37
        },
        "id": "80K3OcJSa2yf",
        "outputId": "1ac94827-d40f-412d-853a-9435086293e4"
      },
      "execution_count": 18,
      "outputs": [
        {
          "output_type": "execute_result",
          "data": {
            "text/plain": [
              "4"
            ],
            "text/latex": "$\\displaystyle 4$"
          },
          "metadata": {},
          "execution_count": 18
        }
      ]
    },
    {
      "cell_type": "code",
      "source": [
        "# Solve the system of equations\n",
        "sp.solve((eq1, eq2, eq3), (x, y, z))"
      ],
      "metadata": {
        "colab": {
          "base_uri": "https://localhost:8080/"
        },
        "id": "iVnTTdGIa4-g",
        "outputId": "57d49a64-6196-4cf4-c8e2-f714d8c38a42"
      },
      "execution_count": 19,
      "outputs": [
        {
          "output_type": "execute_result",
          "data": {
            "text/plain": [
              "{x: 2/3, y: 8/3, z: 3}"
            ]
          },
          "metadata": {},
          "execution_count": 19
        }
      ]
    },
    {
      "cell_type": "code",
      "source": [
        "import sympy as sp\n",
        "\n",
        "# Define symbols\n",
        "x, y, z, t = sp.symbols('x y z t')\n",
        "\n",
        "# Define the system of equations\n",
        "eq1 = sp.Eq(x + y + z - t, 2)\n",
        "eq2 = sp.Eq(x - z + t, 6)\n",
        "eq3 = sp.Eq(2*x - 3*y + t, 4)\n",
        "eq4 = sp.Eq(3*x + y + 3*z - 4*t, -2)\n",
        "\n",
        "# Coefficient matrix of the system\n",
        "A = sp.Matrix([[1, 1, 1, 1], [1, 0, -1, 2], [2, -3, 0,  1], [3, 1, 3, 4]])\n",
        "# Free terms vector\n",
        "b = sp.Matrix([2, 6, 4, -2])"
      ],
      "metadata": {
        "id": "8c2dlreAa6u5"
      },
      "execution_count": 23,
      "outputs": []
    },
    {
      "cell_type": "code",
      "source": [
        "A"
      ],
      "metadata": {
        "colab": {
          "base_uri": "https://localhost:8080/",
          "height": 98
        },
        "id": "z82ck6-9cq1u",
        "outputId": "a031cfbd-d6fb-467c-eabb-990a352fb12c"
      },
      "execution_count": 24,
      "outputs": [
        {
          "output_type": "execute_result",
          "data": {
            "text/plain": [
              "Matrix([\n",
              "[1,  1,  1, 1],\n",
              "[1,  0, -1, 2],\n",
              "[2, -3,  0, 1],\n",
              "[3,  1,  3, 4]])"
            ],
            "text/latex": "$\\displaystyle \\left[\\begin{matrix}1 & 1 & 1 & 1\\\\1 & 0 & -1 & 2\\\\2 & -3 & 0 & 1\\\\3 & 1 & 3 & 4\\end{matrix}\\right]$"
          },
          "metadata": {},
          "execution_count": 24
        }
      ]
    },
    {
      "cell_type": "code",
      "source": [
        "b"
      ],
      "metadata": {
        "colab": {
          "base_uri": "https://localhost:8080/",
          "height": 98
        },
        "id": "I4RrfGCQc53f",
        "outputId": "5fe6c691-116f-4c22-a37a-4d5d87b21196"
      },
      "execution_count": 25,
      "outputs": [
        {
          "output_type": "execute_result",
          "data": {
            "text/plain": [
              "Matrix([\n",
              "[ 2],\n",
              "[ 6],\n",
              "[ 4],\n",
              "[-2]])"
            ],
            "text/latex": "$\\displaystyle \\left[\\begin{matrix}2\\\\6\\\\4\\\\-2\\end{matrix}\\right]$"
          },
          "metadata": {},
          "execution_count": 25
        }
      ]
    },
    {
      "cell_type": "code",
      "source": [
        "# Define matrix A_1\n",
        "A_1 = A.copy() # Copy matrix A\n",
        "A_1[:, 0] = b # Replace the first column of A with vector b\n",
        "A_1 # Check if the replacement was successful"
      ],
      "metadata": {
        "colab": {
          "base_uri": "https://localhost:8080/",
          "height": 98
        },
        "id": "gnNFnpNQc6VI",
        "outputId": "18151d3d-92a4-4cd3-c131-01b753766403"
      },
      "execution_count": 26,
      "outputs": [
        {
          "output_type": "execute_result",
          "data": {
            "text/plain": [
              "Matrix([\n",
              "[ 2,  1,  1, 1],\n",
              "[ 6,  0, -1, 2],\n",
              "[ 4, -3,  0, 1],\n",
              "[-2,  1,  3, 4]])"
            ],
            "text/latex": "$\\displaystyle \\left[\\begin{matrix}2 & 1 & 1 & 1\\\\6 & 0 & -1 & 2\\\\4 & -3 & 0 & 1\\\\-2 & 1 & 3 & 4\\end{matrix}\\right]$"
          },
          "metadata": {},
          "execution_count": 26
        }
      ]
    },
    {
      "cell_type": "code",
      "source": [
        "det_A_1 = A_1.det() # Calculate determinant of A_1\n",
        "sol_x = det_A_1 / A.det() # Calculate x_1\n",
        "sol_x # Calculated value of x_1"
      ],
      "metadata": {
        "colab": {
          "base_uri": "https://localhost:8080/",
          "height": 51
        },
        "id": "7L0tsWiGc9JZ",
        "outputId": "b477ab35-4cb4-46be-9c26-120a0d180c2d"
      },
      "execution_count": 27,
      "outputs": [
        {
          "output_type": "execute_result",
          "data": {
            "text/plain": [
              "29/4"
            ],
            "text/latex": "$\\displaystyle \\frac{29}{4}$"
          },
          "metadata": {},
          "execution_count": 27
        }
      ]
    },
    {
      "cell_type": "code",
      "source": [
        "\n",
        "# Similarly for y\n",
        "A_2 = A.copy()\n",
        "A_2[:, 1] = b\n",
        "A_2 # Check if the replacement was successful"
      ],
      "metadata": {
        "colab": {
          "base_uri": "https://localhost:8080/",
          "height": 98
        },
        "id": "g11Hy1Duc_JG",
        "outputId": "28b6dab3-8c8c-4211-cc52-61927322940e"
      },
      "execution_count": 28,
      "outputs": [
        {
          "output_type": "execute_result",
          "data": {
            "text/plain": [
              "Matrix([\n",
              "[1,  2,  1, 1],\n",
              "[1,  6, -1, 2],\n",
              "[2,  4,  0, 1],\n",
              "[3, -2,  3, 4]])"
            ],
            "text/latex": "$\\displaystyle \\left[\\begin{matrix}1 & 2 & 1 & 1\\\\1 & 6 & -1 & 2\\\\2 & 4 & 0 & 1\\\\3 & -2 & 3 & 4\\end{matrix}\\right]$"
          },
          "metadata": {},
          "execution_count": 28
        }
      ]
    },
    {
      "cell_type": "code",
      "source": [
        "det_A_2 = A_2.det()\n",
        "sol_y = det_A_2 / A.det()\n",
        "sol_y"
      ],
      "metadata": {
        "colab": {
          "base_uri": "https://localhost:8080/",
          "height": 51
        },
        "id": "S4CVsXQAdBIO",
        "outputId": "f78a44de-98dd-47f3-94de-3ef5d46309c0"
      },
      "execution_count": 29,
      "outputs": [
        {
          "output_type": "execute_result",
          "data": {
            "text/plain": [
              "5/2"
            ],
            "text/latex": "$\\displaystyle \\frac{5}{2}$"
          },
          "metadata": {},
          "execution_count": 29
        }
      ]
    },
    {
      "cell_type": "code",
      "source": [
        "\n",
        "# Similarly for z\n",
        "A_3 = A.copy()\n",
        "A_3[:, 2] = b\n",
        "det_A_3 = A_3.det()\n",
        "sol_z = det_A_3 / A.det()\n",
        "sol_z"
      ],
      "metadata": {
        "colab": {
          "base_uri": "https://localhost:8080/",
          "height": 51
        },
        "id": "6YO0b3gidDEO",
        "outputId": "5ac8773b-b144-4464-c099-ec4897ddf47e"
      },
      "execution_count": 30,
      "outputs": [
        {
          "output_type": "execute_result",
          "data": {
            "text/plain": [
              "-19/4"
            ],
            "text/latex": "$\\displaystyle - \\frac{19}{4}$"
          },
          "metadata": {},
          "execution_count": 30
        }
      ]
    },
    {
      "cell_type": "code",
      "source": [
        "# Finally for t\n",
        "A_4 = A.copy()\n",
        "A_4[:, 2] = b\n",
        "det_A_4 = A_4.det()\n",
        "sol_t = det_A_4 / A.det()\n",
        "sol_t"
      ],
      "metadata": {
        "colab": {
          "base_uri": "https://localhost:8080/",
          "height": 51
        },
        "id": "2zxafRf7dLF7",
        "outputId": "ed7136ce-e56e-46bb-900b-ae64e82b8dda"
      },
      "execution_count": 31,
      "outputs": [
        {
          "output_type": "execute_result",
          "data": {
            "text/plain": [
              "-19/4"
            ],
            "text/latex": "$\\displaystyle - \\frac{19}{4}$"
          },
          "metadata": {},
          "execution_count": 31
        }
      ]
    },
    {
      "cell_type": "code",
      "source": [
        "# Solve the system of equations\n",
        "sp.solve((eq1, eq2, eq3, eq4), (x, y, z, t))"
      ],
      "metadata": {
        "colab": {
          "base_uri": "https://localhost:8080/"
        },
        "id": "o7VeyXdadiIZ",
        "outputId": "d3b88425-354c-44d4-cc14-582a3bd0a561"
      },
      "execution_count": 32,
      "outputs": [
        {
          "output_type": "execute_result",
          "data": {
            "text/plain": [
              "{t: 4, x: 3, y: 2, z: 1}"
            ]
          },
          "metadata": {},
          "execution_count": 32
        }
      ]
    },
    {
      "cell_type": "code",
      "source": [
        "####matrix  A is zero, this system of equations cannot be solved using Cramer rule\n"
      ],
      "metadata": {
        "id": "Fk4Lud64dpDm"
      },
      "execution_count": 35,
      "outputs": []
    }
  ]
}