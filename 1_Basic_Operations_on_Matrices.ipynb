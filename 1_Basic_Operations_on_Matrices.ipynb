{
  "nbformat": 4,
  "nbformat_minor": 0,
  "metadata": {
    "colab": {
      "provenance": [],
      "authorship_tag": "ABX9TyOY91sHmosVjLXLC5ilWws9",
      "include_colab_link": true
    },
    "kernelspec": {
      "name": "python3",
      "display_name": "Python 3"
    },
    "language_info": {
      "name": "python"
    }
  },
  "cells": [
    {
      "cell_type": "markdown",
      "metadata": {
        "id": "view-in-github",
        "colab_type": "text"
      },
      "source": [
        "<a href=\"https://colab.research.google.com/github/Dubenlaylay1/Math-2024-25-Winter/blob/main/1_Basic_Operations_on_Matrices.ipynb\" target=\"_parent\"><img src=\"https://colab.research.google.com/assets/colab-badge.svg\" alt=\"Open In Colab\"/></a>"
      ]
    },
    {
      "cell_type": "code",
      "execution_count": 1,
      "metadata": {
        "id": "mjlcV-lYeTa_"
      },
      "outputs": [],
      "source": [
        "####1. Basic Operations on Matrices"
      ]
    },
    {
      "cell_type": "code",
      "source": [
        "\n",
        "# prompt: A = [1, 2], [3,4]\n",
        "# B = [5,6], [7,8]\n",
        "# [6, 8], [10, 12] = A + B\n",
        "\n",
        "import numpy as np\n",
        "\n",
        "A = np.array([[1, 2], [3, 4]])\n",
        "B = np.array([[5, 6], [7, 8]])\n",
        "\n",
        "# Addition of matrices A and B\n",
        "result = A + B\n",
        "\n",
        "result"
      ],
      "metadata": {
        "colab": {
          "base_uri": "https://localhost:8080/"
        },
        "id": "BDIDBzwVeZtu",
        "outputId": "e26e9aed-dd4e-4ed9-e87e-69e8fa74359e"
      },
      "execution_count": 2,
      "outputs": [
        {
          "output_type": "execute_result",
          "data": {
            "text/plain": [
              "array([[ 6,  8],\n",
              "       [10, 12]])"
            ]
          },
          "metadata": {},
          "execution_count": 2
        }
      ]
    },
    {
      "cell_type": "code",
      "source": [
        "import numpy as np\n",
        "\n",
        "A = np.array([[4, 2], [12, 4]])\n",
        "# Note that we are creating a new array with the specified values.\n",
        "# Multiplying a numpy array by a scalar multiplies each element.\n",
        "result = A * (1/2)\n",
        "\n",
        "# Expected result for verification\n",
        "expected_result = np.array([[2, 1], [6, 2]])\n",
        "\n",
        "# Check if the calculated result matches the expected result\n",
        "is_equal = np.array_equal(result, expected_result)\n",
        "\n",
        "result, is_equal\n"
      ],
      "metadata": {
        "colab": {
          "base_uri": "https://localhost:8080/"
        },
        "id": "DJ2wYZA6ecEO",
        "outputId": "7fee776f-b72f-4217-bfac-da056ee5057d"
      },
      "execution_count": 3,
      "outputs": [
        {
          "output_type": "execute_result",
          "data": {
            "text/plain": [
              "(array([[2., 1.],\n",
              "        [6., 2.]]),\n",
              " True)"
            ]
          },
          "metadata": {},
          "execution_count": 3
        }
      ]
    },
    {
      "cell_type": "code",
      "source": [
        "# prompt: A = np.array([[3, 2], [2, 4]])\n",
        "# B = np.array([[4, 1], [0, 4]])\n",
        "# result = np.dot(A, B)\n",
        "# expected_result = np.array([[18, 11], [16, 18]])\n",
        "# is_correct = np.array_equal(result, expected_result)\n",
        "\n",
        "import numpy as np\n",
        "\n",
        "A = np.array([[3, 2], [2, 4]])\n",
        "B = np.array([[4, 1], [0, 4]])\n",
        "result = np.dot(A, B)\n",
        "expected_result = np.array([[18, 11], [16, 18]])\n",
        "is_correct = np.array_equal(result, expected_result)\n",
        "\n",
        "print(f\"Result of matrix multiplication:\\n{result}\")\n",
        "print(f\"Is the result correct?: {is_correct}\")"
      ],
      "metadata": {
        "colab": {
          "base_uri": "https://localhost:8080/"
        },
        "id": "g_0Y52fXemeh",
        "outputId": "734310f3-0add-46c9-9154-30c88cbd9dbb"
      },
      "execution_count": 4,
      "outputs": [
        {
          "output_type": "stream",
          "name": "stdout",
          "text": [
            "Result of matrix multiplication:\n",
            "[[12 11]\n",
            " [ 8 18]]\n",
            "Is the result correct?: False\n"
          ]
        }
      ]
    },
    {
      "cell_type": "code",
      "source": [],
      "metadata": {
        "id": "Ty1DN-HHep8R"
      },
      "execution_count": null,
      "outputs": []
    }
  ]
}