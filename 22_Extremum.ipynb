{
  "nbformat": 4,
  "nbformat_minor": 0,
  "metadata": {
    "colab": {
      "provenance": [],
      "authorship_tag": "ABX9TyO0XZq3fvlv7PBs5JAwIQDf",
      "include_colab_link": true
    },
    "kernelspec": {
      "name": "python3",
      "display_name": "Python 3"
    },
    "language_info": {
      "name": "python"
    }
  },
  "cells": [
    {
      "cell_type": "markdown",
      "metadata": {
        "id": "view-in-github",
        "colab_type": "text"
      },
      "source": [
        "<a href=\"https://colab.research.google.com/github/Dubenlaylay1/FarizChalovMath-2024-25-Winter/blob/main/22_Extremum.ipynb\" target=\"_parent\"><img src=\"https://colab.research.google.com/assets/colab-badge.svg\" alt=\"Open In Colab\"/></a>"
      ]
    },
    {
      "cell_type": "code",
      "execution_count": 1,
      "metadata": {
        "colab": {
          "base_uri": "https://localhost:8080/"
        },
        "id": "RHjujkysa_fB",
        "outputId": "48fbd3bd-b1bc-4f9b-81b6-d32fb64ad98b"
      },
      "outputs": [
        {
          "output_type": "stream",
          "name": "stdout",
          "text": [
            "The number of units that maximize profit is 25/2, with a maximum profit of 25/2.\n"
          ]
        }
      ],
      "source": [
        "#6\n",
        "import sympy as sp\n",
        "\n",
        "# Define the variable and the function\n",
        "u = sp.symbols('u')\n",
        "P = -2 * u**2 + 50 * u - 300\n",
        "\n",
        "# Find the derivative of the profit function\n",
        "P_prime = sp.diff(P, u)\n",
        "\n",
        "# Solve the derivative equation for the critical points\n",
        "critical_points = sp.solve(P_prime, u)\n",
        "\n",
        "# Evaluate the profit function at the critical points to find the maximum\n",
        "max_profit_value = None\n",
        "max_profit_units = None\n",
        "\n",
        "for point in critical_points:\n",
        "    profit_value = P.subs(u, point)\n",
        "    if max_profit_value is None or profit_value > max_profit_value:\n",
        "        max_profit_value = profit_value\n",
        "        max_profit_units = point\n",
        "\n",
        "print(f\"The number of units that maximize profit is {max_profit_units}, with a maximum profit of {max_profit_value}.\")\n"
      ]
    },
    {
      "cell_type": "code",
      "source": [
        "#7\n",
        "from sympy import symbols, Eq, solve\n",
        "\n",
        "# Define the variables\n",
        "x, y = symbols('x y')\n",
        "\n",
        "# Equation for the perimeter of the rectangle\n",
        "perimeter_eq = Eq(2*x + 2*y, 10)\n",
        "\n",
        "# Express y in terms of x using the perimeter equation\n",
        "y_expr = solve(perimeter_eq, y)[0]\n",
        "\n",
        "# Area of the rectangle\n",
        "area_expr = x * y_expr\n",
        "\n",
        "# Find the derivative of the area with respect to x\n",
        "area_derivative = area_expr.diff(x)\n",
        "\n",
        "# Solve the derivative equation to find the critical points\n",
        "critical_points = solve(area_derivative, x)\n",
        "\n",
        "# Evaluate y at the critical points\n",
        "optimal_x = critical_points[0]\n",
        "optimal_y = y_expr.subs(x, optimal_x)\n",
        "\n",
        "print(f\"The dimensions of the rectangle that enclose the largest area are {optimal_x} meters by {optimal_y} meters.\")\n"
      ],
      "metadata": {
        "colab": {
          "base_uri": "https://localhost:8080/"
        },
        "id": "vCV4ikp7bgfX",
        "outputId": "7a6c274f-5cb3-44ec-cb00-91fffc74dd06"
      },
      "execution_count": 2,
      "outputs": [
        {
          "output_type": "stream",
          "name": "stdout",
          "text": [
            "The dimensions of the rectangle that enclose the largest area are 5/2 meters by 5/2 meters.\n"
          ]
        }
      ]
    },
    {
      "cell_type": "code",
      "source": [
        "#8\n",
        "from sympy import symbols, diff, solve\n",
        "\n",
        "# Define the variable and the function\n",
        "x = symbols('x')\n",
        "f = x**2 + 3*x - 5\n",
        "\n",
        "# Find the derivative of the function\n",
        "f_prime = diff(f, x)\n",
        "\n",
        "# Solve the derivative equation for the critical points\n",
        "critical_points = solve(f_prime, x)\n",
        "\n",
        "# Evaluate the second derivative to determine the nature of the critical points\n",
        "f_double_prime = diff(f_prime, x)\n",
        "\n",
        "extrema = []\n",
        "for point in critical_points:\n",
        "    second_derivative_value = f_double_prime.subs(x, point)\n",
        "    if second_derivative_value > 0:\n",
        "        extremum_type = \"minimum\"\n",
        "    elif second_derivative_value < 0:\n",
        "        extremum_type = \"maximum\"\n",
        "    else:\n",
        "        extremum_type = \"inflection point\"\n",
        "    extrema.append((point, extremum_type))\n",
        "\n",
        "# Display the results\n",
        "for point, extremum_type in extrema:\n",
        "    print(f\"The function has a {extremum_type} at x = {point}.\")\n",
        "\n",
        "# Evaluate the function at the critical points\n",
        "extremum_values = [f.subs(x, point) for point, _ in extrema]\n",
        "\n",
        "# Display the function values at the critical points\n",
        "for point, value in zip(critical_points, extremum_values):\n",
        "    print(f\"The value of the function at x = {point} is {value}.\")\n"
      ],
      "metadata": {
        "colab": {
          "base_uri": "https://localhost:8080/"
        },
        "id": "Bohsu-Heb_p1",
        "outputId": "ab5aa1e8-948d-4ab1-8a0d-e0042398b7eb"
      },
      "execution_count": 3,
      "outputs": [
        {
          "output_type": "stream",
          "name": "stdout",
          "text": [
            "The function has a minimum at x = -3/2.\n",
            "The value of the function at x = -3/2 is -29/4.\n"
          ]
        }
      ]
    },
    {
      "cell_type": "code",
      "source": [
        "#9\n",
        "from sympy import symbols, diff, solve\n",
        "\n",
        "# Define the variable and the function\n",
        "x = symbols('x')\n",
        "f = (x**2 + 2*x + 1) / (x - 1)\n",
        "\n",
        "# Find the derivative of the function\n",
        "f_prime = diff(f, x)\n",
        "\n",
        "# Solve the derivative equation for the critical points\n",
        "critical_points = solve(f_prime, x)\n",
        "\n",
        "# Evaluate the second derivative to determine the nature of the critical points\n",
        "f_double_prime = diff(f_prime, x)\n",
        "\n",
        "extrema = []\n",
        "for point in critical_points:\n",
        "    second_derivative_value = f_double_prime.subs(x, point)\n",
        "    if second_derivative_value > 0:\n",
        "        extremum_type = \"minimum\"\n",
        "    elif second_derivative_value < 0:\n",
        "        extremum_type = \"maximum\"\n",
        "    else:\n",
        "        extremum_type = \"inflection point\"\n",
        "    extrema.append((point, extremum_type))\n",
        "\n",
        "# Display the results\n",
        "for point, extremum_type in extrema:\n",
        "    print(f\"The function has a {extremum_type} at x = {point}.\")\n",
        "\n",
        "# Evaluate the function at the critical points\n",
        "extremum_values = [f.subs(x, point) for point, _ in extrema]\n",
        "\n",
        "# Display the function values at the critical points\n",
        "for point, value in zip(critical_points, extremum_values):\n",
        "    print(f\"The value of the function at x = {point} is {value}.\")\n"
      ],
      "metadata": {
        "colab": {
          "base_uri": "https://localhost:8080/"
        },
        "id": "fqM0sWzMcM6u",
        "outputId": "fa958df4-0936-45c9-c68f-ee28855fc61f"
      },
      "execution_count": 4,
      "outputs": [
        {
          "output_type": "stream",
          "name": "stdout",
          "text": [
            "The function has a maximum at x = -1.\n",
            "The function has a minimum at x = 3.\n",
            "The value of the function at x = -1 is 0.\n",
            "The value of the function at x = 3 is 8.\n"
          ]
        }
      ]
    },
    {
      "cell_type": "code",
      "source": [],
      "metadata": {
        "id": "bCBZb19Zccpj"
      },
      "execution_count": null,
      "outputs": []
    }
  ]
}