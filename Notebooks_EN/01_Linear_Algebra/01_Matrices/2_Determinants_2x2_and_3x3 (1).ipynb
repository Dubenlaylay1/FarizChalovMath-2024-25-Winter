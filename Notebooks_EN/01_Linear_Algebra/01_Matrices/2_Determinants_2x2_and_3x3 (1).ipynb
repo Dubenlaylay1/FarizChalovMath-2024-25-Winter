{
  "nbformat": 4,
  "nbformat_minor": 0,
  "metadata": {
    "colab": {
      "provenance": []
    },
    "kernelspec": {
      "name": "python3",
      "display_name": "Python 3"
    },
    "language_info": {
      "name": "python"
    }
  },
  "cells": [
    {
      "cell_type": "code",
      "execution_count": null,
      "metadata": {
        "colab": {
          "base_uri": "https://localhost:8080/",
          "height": 58
        },
        "id": "QCIFeWDAgoKm",
        "outputId": "f2c49761-01b3-4fb7-c0d2-a8c5a62ab186"
      },
      "outputs": [
        {
          "output_type": "execute_result",
          "data": {
            "text/plain": [
              "Matrix([\n",
              "[2, 3],\n",
              "[1, 4]])"
            ],
            "text/latex": "$\\displaystyle \\left[\\begin{matrix}2 & 3\\\\1 & 4\\end{matrix}\\right]$"
          },
          "metadata": {},
          "execution_count": 6
        }
      ],
      "source": [
        "import sympy as sp\n",
        "\n",
        "# Define the matrix\n",
        "A = sp.Matrix([[2, 3], [1, 4]])\n",
        "A # display the matrix"
      ]
    },
    {
      "cell_type": "markdown",
      "source": [
        "The discriminant is typically associated with quadratic equations, not matrices. If you meant the **determinant** of the given 2×2 matrix $A$, here is the calculation:\n",
        "\n",
        "### Given Matrix:\n",
        "$$\n",
        "A = \\begin{pmatrix} 2 & 3 \\\\ 1 & 4 \\end{pmatrix}\n",
        "$$\n",
        "\n",
        "### Formula for Determinant:\n",
        "For a matrix $A = \\begin{pmatrix} a & b \\\\ c & d \\end{pmatrix}$, the determinant is:\n",
        "$$\n",
        "\\det(A) = ad - bc\n",
        "$$\n",
        "\n",
        "### Calculation:\n",
        "$$\n",
        "\\det(A) = (2 \\times 4) - (3 \\times 1) = 8 - 3 = \\boxed{5}\n",
        "$$\n",
        "\n",
        "Thus, the determinant of matrix $A$ is **5**."
      ],
      "metadata": {
        "id": "FrlM9q3pAERD"
      }
    },
    {
      "cell_type": "code",
      "source": [
        "(2*4 - 3*1) == A.det()"
      ],
      "metadata": {
        "colab": {
          "base_uri": "https://localhost:8080/"
        },
        "id": "DXEt2V3wgvBl",
        "outputId": "1f9e64dd-4495-402a-d422-9ba6cd110dd2"
      },
      "execution_count": null,
      "outputs": [
        {
          "output_type": "execute_result",
          "data": {
            "text/plain": [
              "True"
            ]
          },
          "metadata": {},
          "execution_count": 7
        }
      ]
    },
    {
      "cell_type": "code",
      "source": [
        "import sympy as sp\n",
        "\n",
        "# Define the matrix\n",
        "A = sp.Matrix([[5, 6], [7, 8]])\n",
        "A # display the matrix"
      ],
      "metadata": {
        "colab": {
          "base_uri": "https://localhost:8080/",
          "height": 58
        },
        "id": "67BDXTCogx7a",
        "outputId": "1e662f04-5067-46de-89a3-368e894559e6"
      },
      "execution_count": null,
      "outputs": [
        {
          "output_type": "execute_result",
          "data": {
            "text/plain": [
              "Matrix([\n",
              "[5, 6],\n",
              "[7, 8]])"
            ],
            "text/latex": "$\\displaystyle \\left[\\begin{matrix}5 & 6\\\\7 & 8\\end{matrix}\\right]$"
          },
          "metadata": {},
          "execution_count": 4
        }
      ]
    },
    {
      "cell_type": "markdown",
      "source": [
        "The determinant of the given 2×2 matrix $B$ is calculated as follows:\n",
        "\n",
        "### Given Matrix:\n",
        "$$\n",
        "B = \\begin{pmatrix} 5 & 6 \\\\ 7 & 8 \\end{pmatrix}\n",
        "$$\n",
        "\n",
        "### Formula for Determinant:\n",
        "For a matrix $B = \\begin{pmatrix} a & b \\\\ c & d \\end{pmatrix}$, the determinant is:\n",
        "$$\n",
        "\\det(B) = ad - bc\n",
        "$$\n",
        "\n",
        "### Calculation:\n",
        "$$\n",
        "\\det(B) = (5 \\times 8) - (6 \\times 7) = 40 - 42 = \\boxed{-2}\n",
        "$$\n",
        "\n",
        "Thus, the determinant of matrix $B$ is **-2**."
      ],
      "metadata": {
        "id": "m-XtSit7D859"
      }
    },
    {
      "cell_type": "code",
      "source": [
        "(5*8 - 6*7) == A.det()"
      ],
      "metadata": {
        "colab": {
          "base_uri": "https://localhost:8080/"
        },
        "id": "qYDCyKCfg1X8",
        "outputId": "f1278b90-6373-425a-a295-07492708bbcd"
      },
      "execution_count": null,
      "outputs": [
        {
          "output_type": "execute_result",
          "data": {
            "text/plain": [
              "True"
            ]
          },
          "metadata": {},
          "execution_count": 5
        }
      ]
    },
    {
      "cell_type": "code",
      "source": [
        "import sympy as sp\n",
        "\n",
        "# Define the matrix\n",
        "A = sp.Matrix([[-1, 2], [3, 0]])\n",
        "A # display the matrix"
      ],
      "metadata": {
        "colab": {
          "base_uri": "https://localhost:8080/",
          "height": 58
        },
        "id": "inN-brAnhAPA",
        "outputId": "80978479-30d2-45a7-a7d3-867953dc76e4"
      },
      "execution_count": null,
      "outputs": [
        {
          "output_type": "execute_result",
          "data": {
            "text/plain": [
              "Matrix([\n",
              "[-1, 2],\n",
              "[ 3, 0]])"
            ],
            "text/latex": "$\\displaystyle \\left[\\begin{matrix}-1 & 2\\\\3 & 0\\end{matrix}\\right]$"
          },
          "metadata": {},
          "execution_count": 8
        }
      ]
    },
    {
      "cell_type": "markdown",
      "source": [
        "The determinant of the given 2×2 matrix $C$ is calculated as follows:\n",
        "\n",
        "### Given Matrix:\n",
        "$$\n",
        "C = \\begin{pmatrix} -1 & 2 \\\\ 3 & 0 \\end{pmatrix}\n",
        "$$\n",
        "\n",
        "### Formula for Determinant:\n",
        "For a matrix $C = \\begin{pmatrix} a & b \\\\ c & d \\end{pmatrix}$, the determinant is:\n",
        "$$\n",
        "\\det(C) = ad - bc\n",
        "$$\n",
        "\n",
        "### Calculation:\n",
        "$$\n",
        "\\det(C) = (-1 \\times 0) - (2 \\times 3) = 0 - 6 = \\boxed{-6}\n",
        "$$\n",
        "\n",
        "Thus, the determinant of matrix $C$ is **-6**."
      ],
      "metadata": {
        "id": "wZqkWb6wEDEP"
      }
    },
    {
      "cell_type": "code",
      "source": [
        "(-1*0 - 3*2) == A.det()"
      ],
      "metadata": {
        "colab": {
          "base_uri": "https://localhost:8080/"
        },
        "id": "MiRtsTpahItL",
        "outputId": "13ca163b-7c43-46cf-a703-6ddc870c5a66"
      },
      "execution_count": null,
      "outputs": [
        {
          "output_type": "execute_result",
          "data": {
            "text/plain": [
              "True"
            ]
          },
          "metadata": {},
          "execution_count": 9
        }
      ]
    },
    {
      "cell_type": "code",
      "source": [
        "####3x3 Matrices\n",
        "import sympy as sp\n",
        "\n",
        "# Define the matrix\n",
        "A = sp.Matrix([[1, 0, 2], [-1, 3, 1], [2, 4, -2]])\n",
        "A # display the matrix"
      ],
      "metadata": {
        "colab": {
          "base_uri": "https://localhost:8080/",
          "height": 78
        },
        "id": "qMkRWB-ghK0k",
        "outputId": "5ab7e8cf-53ab-431b-98b4-ad15dedeceab"
      },
      "execution_count": null,
      "outputs": [
        {
          "output_type": "execute_result",
          "data": {
            "text/plain": [
              "Matrix([\n",
              "[ 1, 0,  2],\n",
              "[-1, 3,  1],\n",
              "[ 2, 4, -2]])"
            ],
            "text/latex": "$\\displaystyle \\left[\\begin{matrix}1 & 0 & 2\\\\-1 & 3 & 1\\\\2 & 4 & -2\\end{matrix}\\right]$"
          },
          "metadata": {},
          "execution_count": 10
        }
      ]
    },
    {
      "cell_type": "markdown",
      "source": [
        "The determinant of the given 3×3 matrix $D$ is calculated as follows:\n",
        "\n",
        "### Given Matrix:\n",
        "$$\n",
        "D = \\begin{pmatrix} 1 & 0 & 2 \\\\ -1 & 3 & 1 \\\\ 2 & 4 & -2 \\end{pmatrix}\n",
        "$$\n",
        "\n",
        "### Formula for Determinant (3×3 Matrix):\n",
        "For a matrix \\( D = \\begin{pmatrix} a & b & c \\\\ d & e & f \\\\ g & h & i \\end{pmatrix} \\), the determinant is:\n",
        "$$\n",
        "\\det(D) = a(ei - fh) - b(di - fg) + c(dh - eg)\n",
        "$$\n",
        "\n",
        "### Calculation:\n",
        "1. **First term** (\\( a(ei - fh) \\)):\n",
        "   $\n",
        "   1 \\cdot \\left( 3 \\cdot (-2) - 1 \\cdot 4 \\right) = 1 \\cdot (-6 - 4) = -10\n",
        "   $\n",
        "\n",
        "2. **Second term** (\\( -b(di - fg) \\)):\n",
        "   $\n",
        "   -0 \\cdot \\left( (-1) \\cdot (-2) - 1 \\cdot 2 \\right) = 0 \\quad (\\text{no contribution})\n",
        "   $\n",
        "\n",
        "3. **Third term** (\\( c(dh - eg) \\)):\n",
        "   $\n",
        "   2 \\cdot \\left( (-1) \\cdot 4 - 3 \\cdot 2 \\right) = 2 \\cdot (-4 - 6) = -20\n",
        "   $\n",
        "\n",
        "**Sum all terms**:\n",
        "$\n",
        "\\det(D) = -10 + 0 - 20 = \\boxed{-30}\n",
        "$\n",
        "\n",
        "Thus, the determinant of matrix $D$ is **-30**."
      ],
      "metadata": {
        "id": "fy2m-GcxEamU"
      }
    },
    {
      "cell_type": "code",
      "source": [
        "# Select the first row [1, 0, 2]\n",
        "# Define the appropriate minors\n",
        "M11 = sp.Matrix([[3, 1], [4, -2]])\n",
        "M12 = sp.Matrix([[-1, 1], [2, -2]])\n",
        "M13 = sp.Matrix([[-1, 3], [2, 4]])\n",
        "\n",
        "# Calculate the determinant\n",
        "d = 1*M11.det() - 0*M12.det() + 2*M13.det()\n",
        "\n",
        "d == A.det()"
      ],
      "metadata": {
        "colab": {
          "base_uri": "https://localhost:8080/"
        },
        "id": "GfUbUIG4hNuC",
        "outputId": "8e4998aa-ac81-4708-c66e-89b6806fb584"
      },
      "execution_count": null,
      "outputs": [
        {
          "output_type": "execute_result",
          "data": {
            "text/plain": [
              "True"
            ]
          },
          "metadata": {},
          "execution_count": 11
        }
      ]
    },
    {
      "cell_type": "code",
      "source": [
        "import sympy as sp\n",
        "\n",
        "# Define the matrix\n",
        "A = sp.Matrix([[3, 1, -1], [0, 2, 4], [5, 3, 2]])\n",
        "A # display the matrix"
      ],
      "metadata": {
        "colab": {
          "base_uri": "https://localhost:8080/",
          "height": 78
        },
        "id": "vUjyORYQhP6W",
        "outputId": "7ca9a788-d866-4a68-f5ae-f4b13d32c8c1"
      },
      "execution_count": null,
      "outputs": [
        {
          "output_type": "execute_result",
          "data": {
            "text/plain": [
              "Matrix([\n",
              "[3, 1, -1],\n",
              "[0, 2,  4],\n",
              "[5, 3,  2]])"
            ],
            "text/latex": "$\\displaystyle \\left[\\begin{matrix}3 & 1 & -1\\\\0 & 2 & 4\\\\5 & 3 & 2\\end{matrix}\\right]$"
          },
          "metadata": {},
          "execution_count": 12
        }
      ]
    },
    {
      "cell_type": "markdown",
      "source": [
        "The determinant of the given 3×3 matrix $E$ is calculated as follows:\n",
        "\n",
        "### Given Matrix:\n",
        "$$\n",
        "E = \\begin{pmatrix} 3 & 1 & -1 \\\\ 0 & 2 & 4 \\\\ 5 & 3 & 2 \\end{pmatrix}\n",
        "$$\n",
        "\n",
        "### Formula for Determinant (3×3 Matrix):\n",
        "For a matrix $E = \\begin{pmatrix} a & b & c \\\\ d & e & f \\\\ g & h & i \\end{pmatrix}$, the determinant is:\n",
        "$$\n",
        "\\det(E) = a(ei - fh) - b(di - fg) + c(dh - eg)\n",
        "$$\n",
        "\n",
        "### Calculation:\n",
        "1. **First term** ($a(ei - fh)$):\n",
        "   $$\n",
        "   3 \\cdot \\left( 2 \\cdot 2 - 4 \\cdot 3 \\right) = 3 \\cdot (4 - 12) = 3 \\cdot (-8) = -24\n",
        "   $$\n",
        "\n",
        "2. **Second term** ($-b(di - fg)$):\n",
        "   $$\n",
        "   -1 \\cdot \\left( 0 \\cdot 2 - 4 \\cdot 5 \\right) = -1 \\cdot (0 - 20) = -1 \\cdot (-20) = 20\n",
        "   $$\n",
        "\n",
        "3. **Third term** ($c(dh - eg)$):\n",
        "   $$\n",
        "   -1 \\cdot \\left( 0 \\cdot 3 - 2 \\cdot 5 \\right) = -1 \\cdot (0 - 10) = -1 \\cdot (-10) = 10\n",
        "   $$\n",
        "\n",
        "**Sum all terms**:\n",
        "$$\n",
        "\\det(E) = -24 + 20 + 10 = \\boxed{6}\n",
        "$$\n",
        "\n",
        "Thus, the determinant of matrix $E$ is **6**."
      ],
      "metadata": {
        "id": "2PJFUIEBFHCb"
      }
    },
    {
      "cell_type": "code",
      "source": [
        "# Select the first row [1, 0, 2]\n",
        "# Define the appropriate minors\n",
        "M11 = sp.Matrix([[2, 4], [3, 2]])\n",
        "M12 = sp.Matrix([[0, 4], [5, 2]])\n",
        "M13 = sp.Matrix([[0, 2], [5, 3]])\n",
        "\n",
        "# Calculate the determinant\n",
        "d = 3*M11.det() - 1*M12.det() + -1*M13.det()\n",
        "\n",
        "d == A.det()"
      ],
      "metadata": {
        "colab": {
          "base_uri": "https://localhost:8080/"
        },
        "id": "01FPAp_UhSBh",
        "outputId": "15545fc6-9a46-4080-b84b-2a4926907cc0"
      },
      "execution_count": null,
      "outputs": [
        {
          "output_type": "execute_result",
          "data": {
            "text/plain": [
              "True"
            ]
          },
          "metadata": {},
          "execution_count": 13
        }
      ]
    },
    {
      "cell_type": "code",
      "source": [
        "import sympy as sp\n",
        "\n",
        "# Define the matrix\n",
        "A = sp.Matrix([[2, -3, 1], [1, 4, -2], [1, 5, 3]])\n",
        "A # display the matrix"
      ],
      "metadata": {
        "colab": {
          "base_uri": "https://localhost:8080/",
          "height": 78
        },
        "id": "rs-VmV0OhT8K",
        "outputId": "7eb61a32-4a8c-41ad-e86e-6745d09bc4f4"
      },
      "execution_count": null,
      "outputs": [
        {
          "output_type": "execute_result",
          "data": {
            "text/plain": [
              "Matrix([\n",
              "[2, -3,  1],\n",
              "[1,  4, -2],\n",
              "[1,  5,  3]])"
            ],
            "text/latex": "$\\displaystyle \\left[\\begin{matrix}2 & -3 & 1\\\\1 & 4 & -2\\\\1 & 5 & 3\\end{matrix}\\right]$"
          },
          "metadata": {},
          "execution_count": 14
        }
      ]
    },
    {
      "cell_type": "markdown",
      "source": [
        "The determinant of the given 3×3 matrix $F$ is calculated as follows:\n",
        "\n",
        "### Given Matrix:\n",
        "$$\n",
        "F = \\begin{pmatrix} 2 & -3 & 1 \\\\ 1 & 4 & -2 \\\\ 1 & 5 & 3 \\end{pmatrix}\n",
        "$$\n",
        "\n",
        "### Formula for Determinant (3×3 Matrix):\n",
        "For a matrix $F = \\begin{pmatrix} a & b & c \\\\ d & e & f \\\\ g & h & i \\end{pmatrix}$, the determinant is:\n",
        "$$\n",
        "\\det(F) = a(ei - fh) - b(di - fg) + c(dh - eg)\n",
        "$$\n",
        "\n",
        "### Calculation:\n",
        "1. **First term** ($a(ei - fh)$):\n",
        "   $$\n",
        "   2 \\cdot \\left( 4 \\cdot 3 - (-2) \\cdot 5 \\right) = 2 \\cdot (12 + 10) = 2 \\cdot 22 = 44\n",
        "   $$\n",
        "\n",
        "2. **Second term** ($-b(di - fg)$):\n",
        "   $$\n",
        "   -(-3) \\cdot \\left( 1 \\cdot 3 - (-2) \\cdot 1 \\right) = 3 \\cdot (3 + 2) = 3 \\cdot 5 = 15\n",
        "   $$\n",
        "\n",
        "3. **Third term** ($c(dh - eg)$):\n",
        "   $$\n",
        "   1 \\cdot \\left( 1 \\cdot 5 - 4 \\cdot 1 \\right) = 1 \\cdot (5 - 4) = 1 \\cdot 1 = 1\n",
        "   $$\n",
        "\n",
        "**Sum all terms**:\n",
        "$$\n",
        "\\det(F) = 44 + 15 + 1 = \\boxed{60}\n",
        "$$\n",
        "\n",
        "Thus, the determinant of matrix $F$ is **60**."
      ],
      "metadata": {
        "id": "xx7qc4WeFeZh"
      }
    },
    {
      "cell_type": "code",
      "source": [
        "# Select the first row [2, -3, 1]\n",
        "# Define the appropriate minors\n",
        "M11 = sp.Matrix([[4, -2], [5, 3]])\n",
        "M12 = sp.Matrix([[1, -2], [1, 3]])\n",
        "M13 = sp.Matrix([[1, 4], [1, 5]])\n",
        "\n",
        "# Calculate the determinant\n",
        "d = 2*M11.det() - -3*M12.det() + 1*M13.det()\n",
        "\n",
        "d == A.det()"
      ],
      "metadata": {
        "colab": {
          "base_uri": "https://localhost:8080/"
        },
        "id": "ZITTf-2vhWmc",
        "outputId": "d7192e74-8a8f-4733-ae54-8410775313fb"
      },
      "execution_count": null,
      "outputs": [
        {
          "output_type": "execute_result",
          "data": {
            "text/plain": [
              "True"
            ]
          },
          "metadata": {},
          "execution_count": 15
        }
      ]
    },
    {
      "cell_type": "code",
      "source": [],
      "metadata": {
        "id": "Yd7BilCQhZO9"
      },
      "execution_count": null,
      "outputs": []
    },
    {
      "cell_type": "markdown",
      "source": [
        "# New Section"
      ],
      "metadata": {
        "id": "jtP_4RM9hlfK"
      }
    }
  ]
}