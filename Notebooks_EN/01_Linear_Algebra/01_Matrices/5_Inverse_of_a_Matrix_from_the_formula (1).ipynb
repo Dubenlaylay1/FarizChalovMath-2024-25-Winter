{
  "nbformat": 4,
  "nbformat_minor": 0,
  "metadata": {
    "colab": {
      "provenance": []
    },
    "kernelspec": {
      "name": "python3",
      "display_name": "Python 3"
    },
    "language_info": {
      "name": "python"
    }
  },
  "cells": [
    {
      "cell_type": "code",
      "execution_count": null,
      "metadata": {
        "colab": {
          "base_uri": "https://localhost:8080/",
          "height": 78
        },
        "id": "QZjWaPjUkf17",
        "outputId": "f0382d04-eab0-4a96-94be-729e8c224400"
      },
      "outputs": [
        {
          "output_type": "execute_result",
          "data": {
            "text/plain": [
              "Matrix([\n",
              "[2, 0, 1],\n",
              "[0, 1, 0],\n",
              "[1, 2, 0]])"
            ],
            "text/latex": "$\\displaystyle \\left[\\begin{matrix}2 & 0 & 1\\\\0 & 1 & 0\\\\1 & 2 & 0\\end{matrix}\\right]$"
          },
          "metadata": {},
          "execution_count": 1
        }
      ],
      "source": [
        "import sympy as sp # import sympy library\n",
        "k1 = sp.Matrix([[2, 0, 1], [0, 1, 0], [1, 2, 0]]) # create matrix k1\n",
        "k1"
      ]
    },
    {
      "cell_type": "code",
      "source": [
        "inverse_k1 = k1.inv() # calculate the inverse of matrix k1\n",
        "inverse_k1"
      ],
      "metadata": {
        "colab": {
          "base_uri": "https://localhost:8080/",
          "height": 78
        },
        "id": "dqOYQ__fknsG",
        "outputId": "6411c074-3f51-4b04-cf6d-272fc29f2ca5"
      },
      "execution_count": null,
      "outputs": [
        {
          "output_type": "execute_result",
          "data": {
            "text/plain": [
              "Matrix([\n",
              "[0, -2,  1],\n",
              "[0,  1,  0],\n",
              "[1,  4, -2]])"
            ],
            "text/latex": "$\\displaystyle \\left[\\begin{matrix}0 & -2 & 1\\\\0 & 1 & 0\\\\1 & 4 & -2\\end{matrix}\\right]$"
          },
          "metadata": {},
          "execution_count": 2
        }
      ]
    },
    {
      "cell_type": "code",
      "source": [
        "k1 * inverse_k1 # verify if multiplying the matrix by its inverse yields the identity matrix"
      ],
      "metadata": {
        "colab": {
          "base_uri": "https://localhost:8080/",
          "height": 78
        },
        "id": "dtcsZ1-GksKf",
        "outputId": "a907ce1b-148b-4005-e522-1af586c5bf8c"
      },
      "execution_count": null,
      "outputs": [
        {
          "output_type": "execute_result",
          "data": {
            "text/plain": [
              "Matrix([\n",
              "[1, 0, 0],\n",
              "[0, 1, 0],\n",
              "[0, 0, 1]])"
            ],
            "text/latex": "$\\displaystyle \\left[\\begin{matrix}1 & 0 & 0\\\\0 & 1 & 0\\\\0 & 0 & 1\\end{matrix}\\right]$"
          },
          "metadata": {},
          "execution_count": 3
        }
      ]
    },
    {
      "cell_type": "code",
      "source": [
        "# Minor of matrix $A$ is the determinant of the matrix obtained by removing the $i$-th row and $j$-th column. We denote it by $M_{ij}$.\n",
        "k2 = sp.Matrix([[4, -3, 7], [-1, 6, 3], [2, 9, 1]])\n",
        "k2"
      ],
      "metadata": {
        "colab": {
          "base_uri": "https://localhost:8080/",
          "height": 78
        },
        "id": "vVUwGTRokvaX",
        "outputId": "1974cd46-1c2c-4c25-8d7b-6162e319c5e9"
      },
      "execution_count": null,
      "outputs": [
        {
          "output_type": "execute_result",
          "data": {
            "text/plain": [
              "Matrix([\n",
              "[ 4, -3, 7],\n",
              "[-1,  6, 3],\n",
              "[ 2,  9, 1]])"
            ],
            "text/latex": "$\\displaystyle \\left[\\begin{matrix}4 & -3 & 7\\\\-1 & 6 & 3\\\\2 & 9 & 1\\end{matrix}\\right]$"
          },
          "metadata": {},
          "execution_count": 4
        }
      ]
    },
    {
      "cell_type": "code",
      "source": [
        "M01 = k2.minor_submatrix(0, 1) # calculate minor M01\n",
        "M01"
      ],
      "metadata": {
        "colab": {
          "base_uri": "https://localhost:8080/",
          "height": 58
        },
        "id": "tOTcH3aykyUG",
        "outputId": "0eee5c6e-8bbd-4bca-e0c1-b1903ca27a76"
      },
      "execution_count": null,
      "outputs": [
        {
          "output_type": "execute_result",
          "data": {
            "text/plain": [
              "Matrix([\n",
              "[-1, 3],\n",
              "[ 2, 1]])"
            ],
            "text/latex": "$\\displaystyle \\left[\\begin{matrix}-1 & 3\\\\2 & 1\\end{matrix}\\right]$"
          },
          "metadata": {},
          "execution_count": 5
        }
      ]
    },
    {
      "cell_type": "code",
      "source": [
        "M22 = k2.minor_submatrix(2, 2) # calculate minor M22\n",
        "M22"
      ],
      "metadata": {
        "colab": {
          "base_uri": "https://localhost:8080/",
          "height": 58
        },
        "id": "BFERDItTk8sY",
        "outputId": "60083117-5e46-481f-84bd-e653f935ec64"
      },
      "execution_count": null,
      "outputs": [
        {
          "output_type": "execute_result",
          "data": {
            "text/plain": [
              "Matrix([\n",
              "[ 4, -3],\n",
              "[-1,  6]])"
            ],
            "text/latex": "$\\displaystyle \\left[\\begin{matrix}4 & -3\\\\-1 & 6\\end{matrix}\\right]$"
          },
          "metadata": {},
          "execution_count": 6
        }
      ]
    },
    {
      "cell_type": "code",
      "source": [
        "#The rank of a matrix is equal to the number of linearly independent rows or columns in the matrix\n",
        "k2.rank() # calculate the rank of matrix k2"
      ],
      "metadata": {
        "id": "9TwA5CFSk-qy",
        "outputId": "6af3d513-e4c1-4b6e-f0c7-ad60b1ee7b02",
        "colab": {
          "base_uri": "https://localhost:8080/"
        }
      },
      "execution_count": null,
      "outputs": [
        {
          "output_type": "execute_result",
          "data": {
            "text/plain": [
              "3"
            ]
          },
          "metadata": {},
          "execution_count": 7
        }
      ]
    },
    {
      "cell_type": "code",
      "source": [],
      "metadata": {
        "id": "kTT0Gj7AlAkJ"
      },
      "execution_count": null,
      "outputs": []
    },
    {
      "cell_type": "markdown",
      "source": [
        "# Inverse of a Matrix Using Cofactor Method\n",
        "\n",
        "## Given Matrix:\n",
        "$A = \\begin{bmatrix} 2 & 0 & 1 \\\\ 0 & 1 & 2 \\\\ 1 & 0 & 0 \\end{bmatrix}$\n",
        "\n",
        "## Step 1: Compute the Determinant of $A$\n",
        "The inverse of a matrix exists only if its determinant is non-zero. From the previous calculation, we know:\n",
        "\n",
        "$\\det(A) = -1 \\neq 0$\n",
        "\n",
        "Thus, the inverse exists.\n",
        "\n",
        "## Step 2: Compute the Adjugate Matrix\n",
        "The adjugate matrix is the transpose of the cofactor matrix. First, compute the cofactor matrix.\n",
        "\n",
        "### Cofactor Matrix:\n",
        "$C = \\begin{bmatrix}\n",
        "0 & 0 & -1 \\\\\n",
        "2 & -1 & -4 \\\\\n",
        "-1 & 0 & 2\n",
        "\\end{bmatrix}$\n",
        "\n",
        "### Adjugate Matrix:\n",
        "The adjugate is the transpose of the cofactor matrix:\n",
        "\n",
        "$\\text{adj}(A) = C^T = \\begin{bmatrix}\n",
        "0 & 2 & -1 \\\\\n",
        "0 & -1 & 0 \\\\\n",
        "-1 & -4 & 2\n",
        "\\end{bmatrix}$\n",
        "\n",
        "## Step 3: Compute the Inverse Matrix\n",
        "The inverse of $A$ is given by:\n",
        "\n",
        "$A^{-1} = \\frac{1}{\\det(A)} \\cdot \\text{adj}(A)$\n",
        "\n",
        "Substituting $\\det(A) = -1$ and $\\text{adj}(A)$:\n",
        "\n",
        "$A^{-1} = \\frac{1}{-1} \\cdot \\begin{bmatrix}\n",
        "0 & 2 & -1 \\\\\n",
        "0 & -1 & 0 \\\\\n",
        "-1 & -4 & 2\n",
        "\\end{bmatrix}$\n",
        "\n",
        "$A^{-1} = \\begin{bmatrix}\n",
        "0 & -2 & 1 \\\\\n",
        "0 & 1 & 0 \\\\\n",
        "1 & 4 & -2\n",
        "\\end{bmatrix}$\n",
        "\n",
        "## Step 4: Verify the Inverse\n",
        "Multiply $A$ and $A^{-1}$ to verify that the result is the identity matrix:\n",
        "\n",
        "$A \\cdot A^{-1} =\n",
        "\\begin{bmatrix}\n",
        "2 & 0 & 1 \\\\\n",
        "0 & 1 & 2 \\\\\n",
        "1 & 0 & 0\n",
        "\\end{bmatrix}\n",
        "\\cdot\n",
        "\\begin{bmatrix}\n",
        "0 & -2 & 1 \\\\\n",
        "0 & 1 & 0 \\\\\n",
        "1 & 4 & -2\n",
        "\\end{bmatrix}$\n",
        "\n",
        "Performing the multiplication:\n",
        "\n",
        "$A \\cdot A^{-1} =\n",
        "\\begin{bmatrix}\n",
        "1 & 0 & 0 \\\\\n",
        "0 & 1 & 0 \\\\\n",
        "0 & 0 & 1\n",
        "\\end{bmatrix} = I$\n",
        "\n",
        "Thus, the inverse is correct.\n",
        "\n",
        "## Final Answer:\n",
        "The inverse of matrix $A$ is:\n",
        "\n",
        "$A^{-1} = \\begin{bmatrix}\n",
        "0 & -2 & 1 \\\\\n",
        "0 & 1 & 0 \\\\\n",
        "1 & 4 & -2\n",
        "\\end{bmatrix}$\n"
      ],
      "metadata": {
        "id": "6-zyF5NuGMX1"
      }
    },
    {
      "cell_type": "code",
      "source": [],
      "metadata": {
        "id": "COdxJxhJNtV5"
      },
      "execution_count": null,
      "outputs": []
    },
    {
      "cell_type": "markdown",
      "source": [
        "# Rank of a Matrix Using Row Echelon Form\n",
        "\n",
        "## Given Matrix:\n",
        "$B = \\begin{bmatrix} 4 & -3 & 7 \\\\ -1 & 6 & 3 \\\\ 2 & 9 & 1 \\end{bmatrix}$\n",
        "\n",
        "## Step 1: Transform to Row Echelon Form (REF)\n",
        "Perform row operations to simplify the matrix.\n",
        "\n",
        "### Row Operation 1:\n",
        "Swap $R_1$ and $R_2$ to make the first element non-zero:\n",
        "\n",
        "$B' = \\begin{bmatrix} -1 & 6 & 3 \\\\ 4 & -3 & 7 \\\\ 2 & 9 & 1 \\end{bmatrix}$\n",
        "\n",
        "### Row Operation 2:\n",
        "Multiply $R_1$ by $-1$ to make the leading coefficient positive:\n",
        "\n",
        "$B'' = \\begin{bmatrix} 1 & -6 & -3 \\\\ 4 & -3 & 7 \\\\ 2 & 9 & 1 \\end{bmatrix}$\n",
        "\n",
        "### Row Operation 3:\n",
        "Subtract $4 \\cdot R_1$ from $R_2$ and $2 \\cdot R_1$ from $R_3$ to eliminate the first element in $R_2$ and $R_3$:\n",
        "\n",
        "$R_2 \\to R_2 - 4 \\cdot R_1 = (4, -3, 7) - 4 \\cdot (1, -6, -3) = (0, 21, 19)$\n",
        "\n",
        "$R_3 \\to R_3 - 2 \\cdot R_1 = (2, 9, 1) - 2 \\cdot (1, -6, -3) = (0, 21, 7)$\n",
        "\n",
        "The matrix becomes:\n",
        "\n",
        "$B''' = \\begin{bmatrix} 1 & -6 & -3 \\\\ 0 & 21 & 19 \\\\ 0 & 21 & 7 \\end{bmatrix}$\n",
        "\n",
        "### Row Operation 4:\n",
        "Subtract $R_2$ from $R_3$ to eliminate the second element in $R_3$:\n",
        "\n",
        "$R_3 \\to R_3 - R_2 = (0, 21, 7) - (0, 21, 19) = (0, 0, -12)$\n",
        "\n",
        "The matrix becomes:\n",
        "\n",
        "$B'''' = \\begin{bmatrix} 1 & -6 & -3 \\\\ 0 & 21 & 19 \\\\ 0 & 0 & -12 \\end{bmatrix}$\n",
        "\n",
        "## Step 2: Determine the Rank\n",
        "The rank of a matrix is the number of non-zero rows in its row echelon form. In the final matrix:\n",
        "\n",
        "$B'''' = \\begin{bmatrix} 1 & -6 & -3 \\\\ 0 & 21 & 19 \\\\ 0 & 0 & -12 \\end{bmatrix}$\n",
        "\n",
        "All three rows are non-zero. Therefore, the rank of matrix $B$ is **3**.\n",
        "\n",
        "## Final Answer:\n",
        "The rank of matrix $B$ is:\n",
        "\n",
        "$\\mathbf{3}$\n"
      ],
      "metadata": {
        "id": "edZP-dnvNuDq"
      }
    }
  ]
}