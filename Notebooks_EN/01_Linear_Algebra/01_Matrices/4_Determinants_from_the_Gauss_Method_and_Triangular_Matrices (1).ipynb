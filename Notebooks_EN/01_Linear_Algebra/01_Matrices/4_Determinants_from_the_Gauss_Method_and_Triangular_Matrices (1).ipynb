{
  "nbformat": 4,
  "nbformat_minor": 0,
  "metadata": {
    "colab": {
      "provenance": []
    },
    "kernelspec": {
      "name": "python3",
      "display_name": "Python 3"
    },
    "language_info": {
      "name": "python"
    }
  },
  "cells": [
    {
      "cell_type": "code",
      "execution_count": null,
      "metadata": {
        "id": "nnlM2dfEiR8d",
        "colab": {
          "base_uri": "https://localhost:8080/",
          "height": 223
        },
        "outputId": "51ce2ca2-bd55-4502-fb84-34e57b849ab4"
      },
      "outputs": [
        {
          "output_type": "display_data",
          "data": {
            "text/plain": [
              "<IPython.core.display.Markdown object>"
            ],
            "text/markdown": "**Initial Matrix:**"
          },
          "metadata": {}
        },
        {
          "output_type": "display_data",
          "data": {
            "text/plain": [
              "Matrix([\n",
              "[ 12,  3],\n",
              "[-18, -4]])"
            ],
            "text/latex": "$\\displaystyle \\left[\\begin{matrix}12 & 3\\\\-18 & -4\\end{matrix}\\right]$"
          },
          "metadata": {}
        },
        {
          "output_type": "display_data",
          "data": {
            "text/plain": [
              "<IPython.core.display.Markdown object>"
            ],
            "text/markdown": "**Operation:** r2 = r2 + 3/2*r1"
          },
          "metadata": {}
        },
        {
          "output_type": "display_data",
          "data": {
            "text/plain": [
              "Matrix([\n",
              "[12,   3],\n",
              "[ 0, 1/2]])"
            ],
            "text/latex": "$\\displaystyle \\left[\\begin{matrix}12 & 3\\\\0 & \\frac{1}{2}\\end{matrix}\\right]$"
          },
          "metadata": {}
        },
        {
          "output_type": "stream",
          "name": "stdout",
          "text": [
            "Determinant of the matrix: 6\n"
          ]
        },
        {
          "output_type": "display_data",
          "data": {
            "text/plain": [
              "<IPython.core.display.Markdown object>"
            ],
            "text/markdown": "**Performed Operations:**"
          },
          "metadata": {}
        },
        {
          "output_type": "stream",
          "name": "stdout",
          "text": [
            "r2 = r2 + 3/2*r1\n"
          ]
        }
      ],
      "source": [
        "import sympy as sp\n",
        "from sympy import Matrix, Rational\n",
        "from IPython.display import display, Markdown\n",
        "\n",
        "class SymbolicMatrix:\n",
        "    def __init__(self, matrix):\n",
        "        self.matrix = Matrix(matrix).applyfunc(Rational)\n",
        "        self.operations = []\n",
        "        display(Markdown(\"**Initial Matrix:**\"))\n",
        "        display(self.matrix)  # Display the matrix upon initialization\n",
        "\n",
        "    def __repr__(self):\n",
        "        return repr(self.matrix)  # Use Matrix's repr\n",
        "\n",
        "    def __str__(self):\n",
        "        return str(self.matrix)  # Use Matrix's str\n",
        "\n",
        "    def _repr_latex_(self):\n",
        "        return self.matrix._repr_latex_()  # Delegate LaTeX display\n",
        "\n",
        "    def _validate_row_number(self, row):\n",
        "        if not isinstance(row, int):\n",
        "            raise TypeError(\"Row number must be an integer.\")\n",
        "        if row < 1 or row > self.matrix.rows:\n",
        "            raise IndexError(f\"Row number must be in the range from 1 to {self.matrix.rows}.\")\n",
        "        return row - 1\n",
        "\n",
        "    def _validate_col_number(self, col):\n",
        "        if not isinstance(col, int):\n",
        "            raise TypeError(\"Column number must be an integer.\")\n",
        "        if col < 1 or col > self.matrix.cols:\n",
        "            raise IndexError(f\"Column number must be in the range from 1 to {self.matrix.cols}.\")\n",
        "        return col - 1\n",
        "\n",
        "    # Row operations\n",
        "    def add_row(self, target_row, source_row, coefficient):\n",
        "        target_idx = self._validate_row_number(target_row)\n",
        "        source_idx = self._validate_row_number(source_row)\n",
        "        coefficient = Rational(coefficient)\n",
        "\n",
        "        self.matrix.row_op(target_idx, lambda v, j: v + coefficient * self.matrix[source_idx, j])\n",
        "        operation_str = f\"r{target_row} = r{target_row} + {coefficient}*r{source_row}\"\n",
        "        self.operations.append(operation_str)\n",
        "        display(Markdown(f\"**Operation:** {operation_str}\"))\n",
        "        display(self.matrix)\n",
        "\n",
        "    def multiply_row(self, row, coefficient):\n",
        "        row_idx = self._validate_row_number(row)\n",
        "        coefficient = Rational(coefficient)\n",
        "        self.matrix.row_op(row_idx, lambda v, _: coefficient * v)\n",
        "        operation_str = f\"r{row} = {coefficient}*r{row}\"\n",
        "        self.operations.append(operation_str)\n",
        "        display(Markdown(f\"**Operation:** {operation_str}\"))\n",
        "        display(self.matrix)\n",
        "\n",
        "    def swap_rows(self, row1, row2):\n",
        "        row1_idx = self._validate_row_number(row1)\n",
        "        row2_idx = self._validate_row_number(row2)\n",
        "        self.matrix.row_swap(row1_idx, row2_idx)\n",
        "        operation_str = f\"Swap r{row1} <-> r{row2}\"\n",
        "        self.operations.append(operation_str)\n",
        "        display(Markdown(f\"**Operation:** {operation_str}\"))\n",
        "        display(self.matrix)\n",
        "\n",
        "    # Column operations\n",
        "    def add_col(self, target_col, source_col, coefficient):\n",
        "        target_idx = self._validate_col_number(target_col)\n",
        "        source_idx = self._validate_col_number(source_col)\n",
        "        self.matrix.col_op(target_idx, lambda v, i: v + coefficient * self.matrix[i, source_idx])\n",
        "        operation_str = f\"c{target_col} = c{target_col} + {coefficient}*c{source_col}\"\n",
        "        self.operations.append(operation_str)\n",
        "        display(Markdown(f\"**Operation:** {operation_str}\"))\n",
        "        display(self.matrix)\n",
        "\n",
        "    def multiply_col(self, col, coefficient):\n",
        "        col_idx = self._validate_col_number(col)\n",
        "        self.matrix.col_op(col_idx, lambda v, _: coefficient * v)\n",
        "        operation_str = f\"c{col} = {coefficient}*c{col}\"\n",
        "        self.operations.append(operation_str)\n",
        "        display(Markdown(f\"**Operation:** {operation_str}\"))\n",
        "        display(self.matrix)\n",
        "\n",
        "    def swap_cols(self, col1, col2):\n",
        "        col1_idx = self._validate_col_number(col1)\n",
        "        col2_idx = self._validate_col_number(col2)\n",
        "        self.matrix.col_swap(col1_idx, col2_idx)\n",
        "        operation_str = f\"Swap c{col1} <-> c{col2}\"\n",
        "        self.operations.append(operation_str)\n",
        "        display(Markdown(f\"**Operation:** {operation_str}\"))\n",
        "        display(self.matrix)\n",
        "\n",
        "    # Display the operations performed\n",
        "    def print_operations(self):\n",
        "        display(Markdown(\"**Performed Operations:**\"))\n",
        "        for op in self.operations:\n",
        "            print(op)\n",
        "\n",
        "# Perform operations on the given matrix\n",
        "mat = [[12, 3], [-18, -4]]\n",
        "m = SymbolicMatrix(mat)\n",
        "\n",
        "# Row operations\n",
        "m.add_row(2, 1, 18/12)  # r2 = r2 + (18/12)*r1\n",
        "\n",
        "# Calculate the determinant by multiplying the diagonal elements\n",
        "diagonal_elements = [m.matrix[i, i] for i in range(m.matrix.rows)]\n",
        "determinant = sp.Mul(*diagonal_elements)\n",
        "print(f\"Determinant of the matrix: {determinant}\")\n",
        "\n",
        "m.print_operations()\n"
      ]
    },
    {
      "cell_type": "markdown",
      "source": [
        "# Determinant Calculation Using Gauss Method\n",
        "\n",
        "## Given Matrix:\n",
        "$ A = \\begin{bmatrix} 12 & 3 \\\\ -18 & -4 \\end{bmatrix} $\n",
        "\n",
        "## Step 1: Apply the Gauss Method\n",
        "The goal is to transform matrix $ A $ into an upper triangular matrix using row operations.  \n",
        "The determinant of a triangular matrix is the product of its diagonal elements.\n",
        "\n",
        "### Row Operation:\n",
        "Add $ \\frac{18}{12} = 1.5 $ times the first row to the second row to eliminate the element in the second row, first column:\n",
        "\n",
        "$ R_2 \\to R_2 + 1.5 \\cdot R_1 $\n",
        "\n",
        "### New Second Row:\n",
        "$ R_2 = (-18, -4) + 1.5 \\cdot (12, 3) = (-18 + 18, -4 + 4.5) = (0, 0.5) $\n",
        "\n",
        "### Transformed Matrix:\n",
        "After the row operation, the matrix becomes:\n",
        "\n",
        "$ A' = \\begin{bmatrix} 12 & 3 \\\\ 0 & 0.5 \\end{bmatrix} $\n",
        "\n",
        "## Step 2: Compute the Determinant\n",
        "For a triangular matrix, the determinant is the product of the diagonal elements:\n",
        "\n",
        "$ \\det(A) = 12 \\times 0.5 = 6 $\n",
        "\n",
        "## Final Answer:\n",
        "$ \\boxed{6} $\n"
      ],
      "metadata": {
        "id": "nxVffInoEzfF"
      }
    },
    {
      "cell_type": "code",
      "source": [
        "import sympy as sp\n",
        "from sympy import Matrix, Rational\n",
        "from IPython.display import display, Markdown\n",
        "\n",
        "class SymbolicMatrix:\n",
        "    def __init__(self, matrix):\n",
        "        self.matrix = Matrix(matrix).applyfunc(Rational)\n",
        "        self.operations = []\n",
        "        display(Markdown(\"**Initial Matrix:**\"))\n",
        "        display(self.matrix)  # Display the matrix upon initialization\n",
        "\n",
        "    def __repr__(self):\n",
        "        return repr(self.matrix)  # Use Matrix's repr\n",
        "\n",
        "    def __str__(self):\n",
        "        return str(self.matrix)  # Use Matrix's str\n",
        "\n",
        "    def _repr_latex_(self):\n",
        "        return self.matrix._repr_latex_()  # Delegate LaTeX display\n",
        "\n",
        "    def _validate_row_number(self, row):\n",
        "        if not isinstance(row, int):\n",
        "            raise TypeError(\"Row number must be an integer.\")\n",
        "        if row < 1 or row > self.matrix.rows:\n",
        "            raise IndexError(f\"Row number must be in the range from 1 to {self.matrix.rows}.\")\n",
        "        return row - 1\n",
        "\n",
        "    def _validate_col_number(self, col):\n",
        "        if not isinstance(col, int):\n",
        "            raise TypeError(\"Column number must be an integer.\")\n",
        "        if col < 1 or col > self.matrix.cols:\n",
        "            raise IndexError(f\"Column number must be in the range from 1 to {self.matrix.cols}.\")\n",
        "        return col - 1\n",
        "\n",
        "    # Row operations\n",
        "    def add_row(self, target_row, source_row, coefficient):\n",
        "        target_idx = self._validate_row_number(target_row)\n",
        "        source_idx = self._validate_row_number(source_row)\n",
        "        coefficient = Rational(coefficient)\n",
        "\n",
        "        self.matrix.row_op(target_idx, lambda v, j: v + coefficient * self.matrix[source_idx, j])\n",
        "        operation_str = f\"r{target_row} = r{target_row} + {coefficient}*r{source_row}\"\n",
        "        self.operations.append(operation_str)\n",
        "        display(Markdown(f\"**Operation:** {operation_str}\"))\n",
        "        display(self.matrix)\n",
        "\n",
        "    def multiply_row(self, row, coefficient):\n",
        "        row_idx = self._validate_row_number(row)\n",
        "        coefficient = Rational(coefficient)\n",
        "        self.matrix.row_op(row_idx, lambda v, _: coefficient * v)\n",
        "        operation_str = f\"r{row} = {coefficient}*r{row}\"\n",
        "        self.operations.append(operation_str)\n",
        "        display(Markdown(f\"**Operation:** {operation_str}\"))\n",
        "        display(self.matrix)\n",
        "\n",
        "    def swap_rows(self, row1, row2):\n",
        "        row1_idx = self._validate_row_number(row1)\n",
        "        row2_idx = self._validate_row_number(row2)\n",
        "        self.matrix.row_swap(row1_idx, row2_idx)\n",
        "        operation_str = f\"Swap r{row1} <-> r{row2}\"\n",
        "        self.operations.append(operation_str)\n",
        "        display(Markdown(f\"**Operation:** {operation_str}\"))\n",
        "        display(self.matrix)\n",
        "\n",
        "    # Column operations\n",
        "    def add_col(self, target_col, source_col, coefficient):\n",
        "        target_idx = self._validate_col_number(target_col)\n",
        "        source_idx = self._validate_col_number(source_col)\n",
        "        self.matrix.col_op(target_idx, lambda v, i: v + coefficient * self.matrix[i, source_idx])\n",
        "        operation_str = f\"c{target_col} = c{target_col} + {coefficient}*c{source_col}\"\n",
        "        self.operations.append(operation_str)\n",
        "        display(Markdown(f\"**Operation:** {operation_str}\"))\n",
        "        display(self.matrix)\n",
        "\n",
        "    def multiply_col(self, col, coefficient):\n",
        "        col_idx = self._validate_col_number(col)\n",
        "        self.matrix.col_op(col_idx, lambda v, _: coefficient * v)\n",
        "        operation_str = f\"c{col} = {coefficient}*c{col}\"\n",
        "        self.operations.append(operation_str)\n",
        "        display(Markdown(f\"**Operation:** {operation_str}\"))\n",
        "        display(self.matrix)\n",
        "\n",
        "    def swap_cols(self, col1, col2):\n",
        "        col1_idx = self._validate_col_number(col1)\n",
        "        col2_idx = self._validate_col_number(col2)\n",
        "        self.matrix.col_swap(col1_idx, col2_idx)\n",
        "        operation_str = f\"Swap c{col1} <-> c{col2}\"\n",
        "        self.operations.append(operation_str)\n",
        "        display(Markdown(f\"**Operation:** {operation_str}\"))\n",
        "        display(self.matrix)\n",
        "\n",
        "    # Display the operations performed\n",
        "    def print_operations(self):\n",
        "        display(Markdown(\"**Performed Operations:**\"))\n",
        "        for op in self.operations:\n",
        "            print(op)\n",
        "\n",
        "# Given matrix\n",
        "mat = [[1, 2, 3], [4, 5, 6], [7, 8, 9]]\n",
        "m = SymbolicMatrix(mat)\n",
        "\n",
        "# Row operations to get upper triangular form\n",
        "m.add_row(2, 1, -4/1)  # r2 = r2 - 4*r1\n",
        "m.add_row(3, 1, -7/1)  # r3 = r3 - 7*r1\n",
        "m.add_row(3, 2, 1)     # r3 = r3 - r2\n",
        "\n",
        "# Calculate determinant by multiplying diagonal elements\n",
        "diagonal_elements = [m.matrix[i, i] for i in range(m.matrix.rows)]\n",
        "determinant = sp.Mul(*diagonal_elements)\n",
        "print(f\"Determinant of the matrix: {determinant}\")\n",
        "\n",
        "m.print_operations()\n"
      ],
      "metadata": {
        "id": "OoLd6JnGibi1",
        "colab": {
          "base_uri": "https://localhost:8080/",
          "height": 480
        },
        "outputId": "06c340e7-fbb8-4f13-b72c-29b5641b4630"
      },
      "execution_count": null,
      "outputs": [
        {
          "output_type": "display_data",
          "data": {
            "text/plain": [
              "<IPython.core.display.Markdown object>"
            ],
            "text/markdown": "**Initial Matrix:**"
          },
          "metadata": {}
        },
        {
          "output_type": "display_data",
          "data": {
            "text/plain": [
              "Matrix([\n",
              "[1, 2, 3],\n",
              "[4, 5, 6],\n",
              "[7, 8, 9]])"
            ],
            "text/latex": "$\\displaystyle \\left[\\begin{matrix}1 & 2 & 3\\\\4 & 5 & 6\\\\7 & 8 & 9\\end{matrix}\\right]$"
          },
          "metadata": {}
        },
        {
          "output_type": "display_data",
          "data": {
            "text/plain": [
              "<IPython.core.display.Markdown object>"
            ],
            "text/markdown": "**Operation:** r2 = r2 + -4*r1"
          },
          "metadata": {}
        },
        {
          "output_type": "display_data",
          "data": {
            "text/plain": [
              "Matrix([\n",
              "[1,  2,  3],\n",
              "[0, -3, -6],\n",
              "[7,  8,  9]])"
            ],
            "text/latex": "$\\displaystyle \\left[\\begin{matrix}1 & 2 & 3\\\\0 & -3 & -6\\\\7 & 8 & 9\\end{matrix}\\right]$"
          },
          "metadata": {}
        },
        {
          "output_type": "display_data",
          "data": {
            "text/plain": [
              "<IPython.core.display.Markdown object>"
            ],
            "text/markdown": "**Operation:** r3 = r3 + -7*r1"
          },
          "metadata": {}
        },
        {
          "output_type": "display_data",
          "data": {
            "text/plain": [
              "Matrix([\n",
              "[1,  2,   3],\n",
              "[0, -3,  -6],\n",
              "[0, -6, -12]])"
            ],
            "text/latex": "$\\displaystyle \\left[\\begin{matrix}1 & 2 & 3\\\\0 & -3 & -6\\\\0 & -6 & -12\\end{matrix}\\right]$"
          },
          "metadata": {}
        },
        {
          "output_type": "display_data",
          "data": {
            "text/plain": [
              "<IPython.core.display.Markdown object>"
            ],
            "text/markdown": "**Operation:** r3 = r3 + 1*r2"
          },
          "metadata": {}
        },
        {
          "output_type": "display_data",
          "data": {
            "text/plain": [
              "Matrix([\n",
              "[1,  2,   3],\n",
              "[0, -3,  -6],\n",
              "[0, -9, -18]])"
            ],
            "text/latex": "$\\displaystyle \\left[\\begin{matrix}1 & 2 & 3\\\\0 & -3 & -6\\\\0 & -9 & -18\\end{matrix}\\right]$"
          },
          "metadata": {}
        },
        {
          "output_type": "stream",
          "name": "stdout",
          "text": [
            "Determinant of the matrix: 54\n"
          ]
        },
        {
          "output_type": "display_data",
          "data": {
            "text/plain": [
              "<IPython.core.display.Markdown object>"
            ],
            "text/markdown": "**Performed Operations:**"
          },
          "metadata": {}
        },
        {
          "output_type": "stream",
          "name": "stdout",
          "text": [
            "r2 = r2 + -4*r1\n",
            "r3 = r3 + -7*r1\n",
            "r3 = r3 + 1*r2\n"
          ]
        }
      ]
    },
    {
      "cell_type": "markdown",
      "source": [
        "# Determinant Calculation Using Gauss Method\n",
        "\n",
        "## Given Matrix:\n",
        "$ B = \\begin{bmatrix} 1 & 2 & 3 \\\\ 4 & 5 & 6 \\\\ 7 & 8 & 9 \\end{bmatrix} $\n",
        "\n",
        "## Step 1: Apply the Gauss Method\n",
        "The goal is to transform matrix $ B $ into an upper triangular matrix using row operations.  \n",
        "The determinant of a triangular matrix is the product of its diagonal elements.\n",
        "\n",
        "### Row Operation 1:\n",
        "Subtract $ 4 $ times the first row from the second row to eliminate the element in the second row, first column:\n",
        "\n",
        "$ R_2 \\to R_2 - 4 \\cdot R_1 $\n",
        "\n",
        "#### New Second Row:\n",
        "$ R_2 = (4, 5, 6) - 4 \\cdot (1, 2, 3) = (4-4, 5-8, 6-12) = (0, -3, -6) $\n",
        "\n",
        "### Row Operation 2:\n",
        "Subtract $ 7 $ times the first row from the third row to eliminate the element in the third row, first column:\n",
        "\n",
        "$ R_3 \\to R_3 - 7 \\cdot R_1 $\n",
        "\n",
        "#### New Third Row:\n",
        "$ R_3 = (7, 8, 9) - 7 \\cdot (1, 2, 3) = (7-7, 8-14, 9-21) = (0, -6, -12) $\n",
        "\n",
        "### Transformed Matrix:\n",
        "After the row operations, the matrix becomes:\n",
        "\n",
        "$ B' =\n",
        "\\begin{bmatrix}\n",
        "1 & 2 & 3 \\\\\n",
        "0 & -3 & -6 \\\\\n",
        "0 & -6 & -12\n",
        "\\end{bmatrix} $\n",
        "\n",
        "### Row Operation 3:\n",
        "Subtract $ 2 $ times the second row from the third row to eliminate the element in the third row, second column:\n",
        "\n",
        "$ R_3 \\to R_3 - 2 \\cdot R_2 $\n",
        "\n",
        "#### New Third Row:\n",
        "$ R_3 = (0, -6, -12) - 2 \\cdot (0, -3, -6) = (0, -6+6, -12+12) = (0, 0, 0) $\n",
        "\n",
        "### Final Triangular Matrix:\n",
        "After the final row operation, the matrix becomes:\n",
        "\n",
        "$ B'' =\n",
        "\\begin{bmatrix}\n",
        "1 & 2 & 3 \\\\\n",
        "0 & -3 & -6 \\\\\n",
        "0 & 0 & 0\n",
        "\\end{bmatrix} $\n",
        "\n",
        "## Step 2: Compute the Determinant\n",
        "For a triangular matrix, the determinant is the product of the diagonal elements:\n",
        "\n",
        "$ \\det(B) = 1 \\times (-3) \\times 0 = 0 $\n",
        "\n",
        "## Final Answer:\n",
        "$ \\boxed{0} $\n"
      ],
      "metadata": {
        "id": "jIYYP5DoE3XU"
      }
    },
    {
      "cell_type": "code",
      "source": [],
      "metadata": {
        "id": "aWpbnsH8kNth"
      },
      "execution_count": null,
      "outputs": []
    }
  ]
}