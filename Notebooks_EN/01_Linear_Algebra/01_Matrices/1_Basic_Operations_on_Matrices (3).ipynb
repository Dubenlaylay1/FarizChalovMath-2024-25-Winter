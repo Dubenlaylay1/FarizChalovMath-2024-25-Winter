{
  "nbformat": 4,
  "nbformat_minor": 0,
  "metadata": {
    "colab": {
      "provenance": []
    },
    "kernelspec": {
      "name": "python3",
      "display_name": "Python 3"
    },
    "language_info": {
      "name": "python"
    }
  },
  "cells": [
    {
      "cell_type": "code",
      "execution_count": null,
      "metadata": {
        "id": "mjlcV-lYeTa_"
      },
      "outputs": [],
      "source": []
    },
    {
      "cell_type": "code",
      "source": [
        "\n",
        "# prompt: A = [1, 2], [3,4]\n",
        "# B = [5,6], [7,8]\n",
        "# [6, 8], [10, 12] = A + B\n",
        "\n",
        "import numpy as np\n",
        "\n",
        "A = np.array([[1, 2], [3, 4]])\n",
        "B = np.array([[5, 6], [7, 8]])\n",
        "\n",
        "# Addition of matrices A and B\n",
        "result = A + B\n",
        "\n",
        "result"
      ],
      "metadata": {
        "colab": {
          "base_uri": "https://localhost:8080/"
        },
        "id": "BDIDBzwVeZtu",
        "outputId": "e26e9aed-dd4e-4ed9-e87e-69e8fa74359e"
      },
      "execution_count": null,
      "outputs": [
        {
          "output_type": "execute_result",
          "data": {
            "text/plain": [
              "array([[ 6,  8],\n",
              "       [10, 12]])"
            ]
          },
          "metadata": {},
          "execution_count": 2
        }
      ]
    },
    {
      "cell_type": "markdown",
      "source": [
        "**Write the Matrices Side by Side:** First, let's write matrices A and B side by side:\n",
        "\n",
        "$$\n",
        "A = \\begin{bmatrix}\n",
        "1 & 2 \\\\\n",
        "3 & 4\n",
        "\\end{bmatrix}\n",
        "$$\n",
        "\n",
        "$$\n",
        "B = \\begin{bmatrix}\n",
        "5 & 6 \\\\\n",
        "7 & 8\n",
        "\\end{bmatrix}\n",
        "$$\n",
        "\n",
        "**Add Corresponding Elements:** Now, let's add the elements in the same row and column:\n",
        "\n",
        "$$\n",
        "C = \\begin{bmatrix}\n",
        "1 + 5 & 2 + 6 \\\\\n",
        "3 + 7 & 4 + 8\n",
        "\\end{bmatrix}\n",
        "$$\n",
        "\n",
        "\n",
        "**Result:**\n",
        "\n",
        "The sum of matrices A and B is:\n",
        "\n",
        "$ C = \\begin{bmatrix}\n",
        "6 & 8 \\\\\n",
        "10 & 12\n",
        "\\end{bmatrix} $\n",
        "\n"
      ],
      "metadata": {
        "id": "P0fl__S0XiSh"
      }
    },
    {
      "cell_type": "code",
      "source": [
        "import numpy as np\n",
        "\n",
        "A = np.array([[4, 2], [12, 4]])\n",
        "# Note that we are creating a new array with the specified values.\n",
        "# Multiplying a numpy array by a scalar multiplies each element.\n",
        "result = A * (1/2)\n",
        "\n",
        "# Expected result for verification\n",
        "expected_result = np.array([[2, 1], [6, 2]])\n",
        "\n",
        "# Check if the calculated result matches the expected result\n",
        "is_equal = np.array_equal(result, expected_result)\n",
        "\n",
        "result, is_equal\n"
      ],
      "metadata": {
        "colab": {
          "base_uri": "https://localhost:8080/"
        },
        "id": "DJ2wYZA6ecEO",
        "outputId": "7fee776f-b72f-4217-bfac-da056ee5057d"
      },
      "execution_count": null,
      "outputs": [
        {
          "output_type": "execute_result",
          "data": {
            "text/plain": [
              "(array([[2., 1.],\n",
              "        [6., 2.]]),\n",
              " True)"
            ]
          },
          "metadata": {},
          "execution_count": 3
        }
      ]
    },
    {
      "cell_type": "markdown",
      "source": [
        "**Given Matrix:**\n",
        "\n",
        "$$\n",
        "A = \\begin{bmatrix}\n",
        "4 & 2 \\\\\n",
        "12 & 4\n",
        "\\end{bmatrix}\n",
        "$$\n",
        "\n",
        "**Multiplication by $\\frac{1}{2}$**\n",
        "\n",
        "Let's multiply each element of the matrix by 1/2:\n",
        "\n",
        "$\\frac{1}{2}$  * $  \\begin{bmatrix}\n",
        "4 & 2 \\\\\n",
        "12 & 4\n",
        "\\end{bmatrix}$\n",
        "\n",
        "**Result:**\n",
        "$$\n",
        "B = \\begin{bmatrix}\n",
        "2 & 1 \\\\\n",
        "6 & 2\n",
        "\\end{bmatrix}$$\n",
        "\n",
        "\n",
        "\n",
        "**Explanation:**\n",
        "\n",
        "**Why Multiply Each Element?**\n",
        "\n",
        "When we multiply a matrix by a scalar, we effectively scale the matrix by that scalar factor. Therefore, we multiply each element by the same scalar to maintain this proportion.\n"
      ],
      "metadata": {
        "id": "ojLHjn1VbHYC"
      }
    },
    {
      "cell_type": "code",
      "source": [
        "import numpy as np\n",
        "\n",
        "A = np.array([[3, 2], [2, 4]])\n",
        "B = np.array([[4, 1], [0, 4]])\n",
        "result = np.dot(A, B)\n",
        "expected_result = np.array([[12, 11], [8, 18]])\n",
        "is_correct = np.array_equal(result, expected_result)\n",
        "\n",
        "print(f\"Result of matrix multiplication:\\n{result}\")\n",
        "print(f\"Is the result correct?: {is_correct}\")\n"
      ],
      "metadata": {
        "colab": {
          "base_uri": "https://localhost:8080/"
        },
        "id": "Ty1DN-HHep8R",
        "outputId": "e0326e25-88e3-43e4-cb5f-1fc7b86bf311"
      },
      "execution_count": null,
      "outputs": [
        {
          "output_type": "stream",
          "name": "stdout",
          "text": [
            "Result of matrix multiplication:\n",
            "[[12 11]\n",
            " [ 8 18]]\n",
            "Is the result correct?: True\n"
          ]
        }
      ]
    },
    {
      "cell_type": "markdown",
      "source": [
        "**Multiplication:**\n",
        "$$\n",
        "A \\cdot B = \\begin{bmatrix}\n",
        "3 & 2 \\\\\n",
        "2 & 4\n",
        "\\end{bmatrix}\n",
        "\\cdot\n",
        "\\begin{bmatrix}\n",
        "4 & 1 \\\\\n",
        "0 & 4\n",
        "\\end{bmatrix}\n",
        "=\n",
        "\\begin{bmatrix}\n",
        "(3 \\cdot 4 + 2 \\cdot 0) & (3 \\cdot 1 + 2 \\cdot 4) \\\\\n",
        "(2 \\cdot 4 + 4 \\cdot 0) & (2 \\cdot 1 + 4 \\cdot 4)\n",
        "\\end{bmatrix}\n",
        "=\n",
        "\\begin{bmatrix}\n",
        "12 & 11 \\\\\n",
        "8 & 18\n",
        "\\end{bmatrix}\n",
        "$$\n",
        "\n",
        "**Resulting Matrix:**\n",
        "\n",
        "$$ C = \\begin{bmatrix}\n",
        "12 & 11 \\\\\n",
        "8 & 18\n",
        "\\end{bmatrix} $$\n",
        "\n",
        "\n"
      ],
      "metadata": {
        "id": "RXJzzm-6lOIo"
      }
    },
    {
      "cell_type": "code",
      "source": [],
      "metadata": {
        "id": "kFY5FpUHfvb8"
      },
      "execution_count": null,
      "outputs": []
    }
  ]
}