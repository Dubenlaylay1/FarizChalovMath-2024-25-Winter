{
  "nbformat": 4,
  "nbformat_minor": 0,
  "metadata": {
    "colab": {
      "provenance": []
    },
    "kernelspec": {
      "name": "python3",
      "display_name": "Python 3"
    },
    "language_info": {
      "name": "python"
    }
  },
  "cells": [
    {
      "cell_type": "code",
      "source": [
        "import numpy as np\n",
        "\n",
        "# Define the matrix A\n",
        "A = np.array([[1, 2], [3, 4]])\n",
        "\n",
        "# Define the identity matrix of the same size as A\n",
        "I = np.identity(2)\n",
        "\n",
        "# Augment A with the identity matrix\n",
        "augmented_matrix = np.hstack((A, I))\n",
        "\n",
        "# Perform Gauss-Jordan elimination\n",
        "n = len(A)\n",
        "for i in range(n):\n",
        "    # Make the diagonal element 1\n",
        "    diag_element = augmented_matrix[i, i]\n",
        "    augmented_matrix[i] = augmented_matrix[i] / diag_element\n",
        "\n",
        "    # Make the other elements in the column 0\n",
        "    for j in range(n):\n",
        "        if i != j:\n",
        "            factor = augmented_matrix[j, i]\n",
        "            augmented_matrix[j] = augmented_matrix[j] - factor * augmented_matrix[i]\n",
        "\n",
        "# Extract the inverse matrix (the right half of the augmented matrix)\n",
        "inverse_matrix = augmented_matrix[:, n:]\n",
        "\n",
        "print(inverse_matrix)\n"
      ],
      "metadata": {
        "colab": {
          "base_uri": "https://localhost:8080/"
        },
        "id": "vLLU6OGglj7V",
        "outputId": "2cd18635-0433-4083-d59d-4d24222dcfed"
      },
      "execution_count": null,
      "outputs": [
        {
          "output_type": "stream",
          "name": "stdout",
          "text": [
            "[[-2.   1. ]\n",
            " [ 1.5 -0.5]]\n"
          ]
        }
      ]
    },
    {
      "cell_type": "markdown",
      "source": [
        "# Finding the Inverse of a Matrix Using Row Operations\n",
        "\n",
        "## Given Matrix:\n",
        "$\n",
        "A = \\begin{bmatrix} 1 & 2 \\\\ 3 & 4 \\end{bmatrix}\n",
        "$\n",
        "\n",
        "## Step 1: Augment \\( A \\) with the Identity Matrix\n",
        "Set up the augmented matrix \\( [A | I] \\):\n",
        "\n",
        "$\n",
        "[A | I] =\n",
        "\\begin{bmatrix}\n",
        "1 & 2 \\mid 1 & 0 \\\\\n",
        "3 & 4 \\mid 0 & 1\n",
        "\\end{bmatrix}\n",
        "$\n",
        "\n",
        "## Step 2: Perform Row Operations\n",
        "\n",
        "### Row Operation 1:\n",
        "Subtract \\( 3 \\cdot R_1 \\) from \\( R_2 \\) to eliminate the first element in \\( R_2 \\):\n",
        "\n",
        "$\n",
        "R_2 \\to R_2 - 3 \\cdot R_1\n",
        "$\n",
        "\n",
        "New \\( R_2 \\):\n",
        "\n",
        "$\n",
        "(3, 4, 0, 1) - 3 \\cdot (1, 2, 1, 0) = (0, -2, -3, 1)\n",
        "$\n",
        "\n",
        "Updated augmented matrix:\n",
        "\n",
        "$\n",
        "\\begin{bmatrix}\n",
        "1 & 2 \\mid 1 & 0 \\\\\n",
        "0 & -2 \\mid -3 & 1\n",
        "\\end{bmatrix}\n",
        "$\n",
        "\n",
        "### Row Operation 2:\n",
        "Multiply \\( R_2 \\) by \\( -\\frac{1}{2} \\) to make the second element in $ R_2 $ equal to 1:\n",
        "\n",
        "$\n",
        "R_2 \\to -\\frac{1}{2} \\cdot R_2\n",
        "$\n",
        "\n",
        "New $ R_2 $:\n",
        "\n",
        "$\n",
        "(0,1, \\frac{3}{2}, -\\frac{1}{2})\n",
        "$\n",
        "\n",
        "Updated augmented matrix:\n",
        "\n",
        "$\n",
        "\\begin{bmatrix}\n",
        "1 & 2 \\mid 1 & 0 \\\\\n",
        "0 & 1 \\mid \\frac{3}{2} & -\\frac{1}{2}\n",
        "\\end{bmatrix}\n",
        "$\n",
        "\n",
        "### Row Operation 3:\n",
        "Subtract \\( 2 \\cdot R_2 \\) from \\( R_1 \\) to eliminate the second element in $ R_1 $:\n",
        "\n",
        "$\n",
        "R_1 \\to R_1 - 2 \\cdot R_2\n",
        "$\n",
        "\n",
        "New $ R_1 $:\n",
        "\n",
        "$\n",
        "(1,2,1,0) - 2 \\cdot (0,1, \\frac{3}{2}, -\\frac{1}{2}) = (1,0,-2,1)\n",
        "$\n",
        "\n",
        "Final augmented matrix:\n",
        "\n",
        "$\n",
        "\\begin{bmatrix}\n",
        "1 & 0 \\mid -2 & 1 \\\\\n",
        "0 & 1 \\mid \\frac{3}{2} & -\\frac{1}{2}\n",
        "\\end{bmatrix}\n",
        "$\n",
        "\n",
        "## Step 3: Extract the Inverse Matrix\n",
        "The right side of the augmented matrix is the inverse of \\( A \\):\n",
        "\n",
        "$\n",
        "A^{-1} =\n",
        "\\begin{bmatrix}\n",
        "-2 & 1 \\\\\n",
        "\\frac{3}{2} & -\\frac{1}{2}\n",
        "\\end{bmatrix}\n",
        "$\n",
        "\n",
        "## Step 4: Verify the Inverse\n",
        "Multiply \\( A \\) and \\( A^{-1} \\) to verify that the result is the identity matrix:\n",
        "\n",
        "$\n",
        "A \\cdot A^{-1} =\n",
        "\\begin{bmatrix} 1 & 2 \\\\ 3 & 4 \\end{bmatrix}\n",
        "\\cdot\n",
        "\\begin{bmatrix} -2 & 1 \\\\ \\frac{3}{2} & -\\frac{1}{2} \\end{bmatrix}\n",
        "$\n",
        "\n",
        "Perform the multiplication:\n",
        "\n",
        "$\n",
        "A \\cdot A^{-1} =\n",
        "\\begin{bmatrix}\n",
        "1 \\cdot (-2) + 2 \\cdot \\frac{3}{2} & 1 \\cdot 1 + 2 \\cdot (-\\frac{1}{2}) \\\\\n",
        "3 \\cdot (-2) + 4 \\cdot \\frac{3}{2} & 3 \\cdot 1 + 4 \\cdot (-\\frac{1}{2})\n",
        "\\end{bmatrix}\n",
        "$\n",
        "\n",
        "$\n",
        "=\n",
        "\\begin{bmatrix}\n",
        "-2 + 3 & 1 - 1 \\\\\n",
        "-6 + 6 & 3 - 2\n",
        "\\end{bmatrix}\n",
        "=\n",
        "\\begin{bmatrix}\n",
        "1 & 0 \\\\\n",
        "0 & 1\n",
        "\\end{bmatrix}\n",
        "$\n",
        "\n",
        "Thus, the inverse is correct.\n",
        "\n",
        "## Final Answer:\n",
        "The inverse of matrix \\( A \\) is:\n",
        "\n",
        "$\n",
        "A^{-1} =\n",
        "\\begin{bmatrix}\n",
        "-2 & 1 \\\\\n",
        "\\frac{3}{2} & -\\frac{1}{2}\n",
        "\\end{bmatrix}\n",
        "$\n"
      ],
      "metadata": {
        "id": "i_M7VZxvOvtC"
      }
    },
    {
      "cell_type": "code",
      "source": [
        "# prompt: inverse = sympy_m.inv() # calculate the inverse matrix\n",
        "# inverse\n",
        "\n",
        "inverse = sympy_m.inv() # calculate the inverse matrix\n",
        "inverse"
      ],
      "metadata": {
        "colab": {
          "base_uri": "https://localhost:8080/",
          "height": 58
        },
        "id": "0fVvMrZEmx5F",
        "outputId": "9e9524ac-7c60-4145-db1c-578a6c279604"
      },
      "execution_count": null,
      "outputs": [
        {
          "output_type": "execute_result",
          "data": {
            "text/plain": [
              "Matrix([\n",
              "[ -2,    1],\n",
              "[3/2, -1/2]])"
            ],
            "text/latex": "$\\displaystyle \\left[\\begin{matrix}-2 & 1\\\\\\frac{3}{2} & - \\frac{1}{2}\\end{matrix}\\right]$"
          },
          "metadata": {},
          "execution_count": 11
        }
      ]
    },
    {
      "cell_type": "code",
      "source": [
        "import sympy as sp\n",
        "from sympy import Matrix, Rational\n",
        "from IPython.display import display, Markdown\n",
        "\n",
        "class SymbolicMatrix:\n",
        "    def __init__(self, matrix):\n",
        "        self.matrix = Matrix(matrix).applyfunc(Rational)\n",
        "        self.operations = []\n",
        "        display(Markdown(\"**Initial Matrix:**\"))\n",
        "        display(self.matrix)  # Display the matrix upon initialization\n",
        "\n",
        "    def __repr__(self):\n",
        "        return repr(self.matrix)  # Use Matrix's repr\n",
        "\n",
        "    def __str__(self):\n",
        "        return str(self.matrix)  # Use Matrix's str\n",
        "\n",
        "    def _repr_latex_(self):\n",
        "        return self.matrix._repr_latex_()  # Delegate LaTeX display\n",
        "\n",
        "    def _validate_row_number(self, row):\n",
        "        if not isinstance(row, int):\n",
        "            raise TypeError(\"Row number must be an integer.\")\n",
        "        if row < 1 or row > self.matrix.rows:\n",
        "            raise IndexError(f\"Row number must be in the range from 1 to {self.matrix.rows}.\")\n",
        "        return row - 1\n",
        "\n",
        "    def _validate_col_number(self, col):\n",
        "        if not isinstance(col, int):\n",
        "            raise TypeError(\"Column number must be an integer.\")\n",
        "        if col < 1 or col > self.matrix.cols:\n",
        "            raise IndexError(f\"Column number must be in the range from 1 to {self.matrix.cols}.\")\n",
        "        return col - 1\n",
        "\n",
        "    # Row operations\n",
        "    def add_row(self, target_row, source_row, coefficient):\n",
        "        target_idx = self._validate_row_number(target_row)\n",
        "        source_idx = self._validate_row_number(source_row)\n",
        "        coefficient = Rational(coefficient)\n",
        "\n",
        "        self.matrix.row_op(target_idx, lambda v, j: v + coefficient * self.matrix[source_idx, j])\n",
        "        operation_str = f\"r{target_row} = r{target_row} + {coefficient}*r{source_row}\"\n",
        "        self.operations.append(operation_str)\n",
        "        display(Markdown(f\"**Operation:** {operation_str}\"))\n",
        "        display(self.matrix)\n",
        "\n",
        "    def multiply_row(self, row, coefficient):\n",
        "        row_idx = self._validate_row_number(row)\n",
        "        coefficient = Rational(coefficient)\n",
        "        self.matrix.row_op(row_idx, lambda v, _: coefficient * v)\n",
        "        operation_str = f\"r{row} = {coefficient}*r{row}\"\n",
        "        self.operations.append(operation_str)\n",
        "        display(Markdown(f\"**Operation:** {operation_str}\"))\n",
        "        display(self.matrix)\n",
        "\n",
        "    def swap_rows(self, row1, row2):\n",
        "        row1_idx = self._validate_row_number(row1)\n",
        "        row2_idx = self._validate_row_number(row2)\n",
        "        self.matrix.row_swap(row1_idx, row2_idx)\n",
        "        operation_str = f\"Swap r{row1} <-> r{row2}\"\n",
        "        self.operations.append(operation_str)\n",
        "        display(Markdown(f\"**Operation:** {operation_str}\"))\n",
        "        display(self.matrix)\n",
        "\n",
        "    # Column operations\n",
        "    def add_col(self, target_col, source_col, coefficient):\n",
        "        target_idx = self._validate_col_number(target_col)\n",
        "        source_idx = self._validate_col_number(source_col)\n",
        "        self.matrix.col_op(target_idx, lambda v, i: v + coefficient * self.matrix[i, source_idx])\n",
        "        operation_str = f\"c{target_col} = c{target_col} + {coefficient}*c{source_col}\"\n",
        "        self.operations.append(operation_str)\n",
        "        display(Markdown(f\"**Operation:** {operation_str}\"))\n",
        "        display(self.matrix)\n",
        "\n",
        "    def multiply_col(self, col, coefficient):\n",
        "        col_idx = self._validate_col_number(col)\n",
        "        self.matrix.col_op(col_idx, lambda v, _: coefficient * v)\n",
        "        operation_str = f\"c{col} = {coefficient}*c{col}\"\n",
        "        self.operations.append(operation_str)\n",
        "        display(Markown(f\"**Operation:** {operation_str}\"))\n",
        "        display(self.matrix)\n",
        "\n",
        "    def swap_cols(self, col1, col2):\n",
        "        col1_idx = self._validate_col_number(col1)\n",
        "        col2_idx = self._validate_col_number(col2)\n",
        "        self.matrix.col_swap(col1_idx, col2_idx)\n",
        "        operation_str = f\"Swap c{col1} <-> c{col2}\"\n",
        "        self.operations.append(operation_str)\n",
        "        display(Markdown(f\"**Operation:** {operation_str}\"))\n",
        "        display(self.matrix)\n",
        "\n",
        "    # Display the operations performed\n",
        "    def print_operations(self):\n",
        "        display(Markdown(\"**Performed Operations:**\"))\n",
        "        for op in self.operations:\n",
        "            print(op)\n",
        "\n",
        "# Given matrix B\n",
        "mat = [[1, 2, 3], [4, 5, 1], [2, 3, 2]]\n",
        "m = SymbolicMatrix(mat)\n",
        "\n",
        "# Row operations to get upper triangular form\n",
        "m.add_row(2, 1, -4/1)  # r2 = r2 - 4*r1\n",
        "m.add_row(3, 1, -2/1)  # r3 = r3 - 2*r1\n",
        "m.add_row(3, 2, -1)    # r3 = r3 - r2\n",
        "\n",
        "# Calculate the determinant by multiplying the diagonal elements\n",
        "diagonal_elements = [m.matrix[i, i] for i in range(m.matrix.rows)]\n",
        "determinant = sp.Mul(*diagonal_elements)\n",
        "print(f\"Determinant of the matrix: {determinant}\")\n",
        "\n",
        "m.print_operations()\n"
      ],
      "metadata": {
        "colab": {
          "base_uri": "https://localhost:8080/",
          "height": 480
        },
        "id": "xElaxbdlm0oD",
        "outputId": "b53131d6-1302-4995-8d58-7b026b1e51b9"
      },
      "execution_count": null,
      "outputs": [
        {
          "output_type": "display_data",
          "data": {
            "text/plain": [
              "<IPython.core.display.Markdown object>"
            ],
            "text/markdown": "**Initial Matrix:**"
          },
          "metadata": {}
        },
        {
          "output_type": "display_data",
          "data": {
            "text/plain": [
              "Matrix([\n",
              "[1, 2, 3],\n",
              "[4, 5, 1],\n",
              "[2, 3, 2]])"
            ],
            "text/latex": "$\\displaystyle \\left[\\begin{matrix}1 & 2 & 3\\\\4 & 5 & 1\\\\2 & 3 & 2\\end{matrix}\\right]$"
          },
          "metadata": {}
        },
        {
          "output_type": "display_data",
          "data": {
            "text/plain": [
              "<IPython.core.display.Markdown object>"
            ],
            "text/markdown": "**Operation:** r2 = r2 + -4*r1"
          },
          "metadata": {}
        },
        {
          "output_type": "display_data",
          "data": {
            "text/plain": [
              "Matrix([\n",
              "[1,  2,   3],\n",
              "[0, -3, -11],\n",
              "[2,  3,   2]])"
            ],
            "text/latex": "$\\displaystyle \\left[\\begin{matrix}1 & 2 & 3\\\\0 & -3 & -11\\\\2 & 3 & 2\\end{matrix}\\right]$"
          },
          "metadata": {}
        },
        {
          "output_type": "display_data",
          "data": {
            "text/plain": [
              "<IPython.core.display.Markdown object>"
            ],
            "text/markdown": "**Operation:** r3 = r3 + -2*r1"
          },
          "metadata": {}
        },
        {
          "output_type": "display_data",
          "data": {
            "text/plain": [
              "Matrix([\n",
              "[1,  2,   3],\n",
              "[0, -3, -11],\n",
              "[0, -1,  -4]])"
            ],
            "text/latex": "$\\displaystyle \\left[\\begin{matrix}1 & 2 & 3\\\\0 & -3 & -11\\\\0 & -1 & -4\\end{matrix}\\right]$"
          },
          "metadata": {}
        },
        {
          "output_type": "display_data",
          "data": {
            "text/plain": [
              "<IPython.core.display.Markdown object>"
            ],
            "text/markdown": "**Operation:** r3 = r3 + -1*r2"
          },
          "metadata": {}
        },
        {
          "output_type": "display_data",
          "data": {
            "text/plain": [
              "Matrix([\n",
              "[1,  2,   3],\n",
              "[0, -3, -11],\n",
              "[0,  2,   7]])"
            ],
            "text/latex": "$\\displaystyle \\left[\\begin{matrix}1 & 2 & 3\\\\0 & -3 & -11\\\\0 & 2 & 7\\end{matrix}\\right]$"
          },
          "metadata": {}
        },
        {
          "output_type": "stream",
          "name": "stdout",
          "text": [
            "Determinant of the matrix: -21\n"
          ]
        },
        {
          "output_type": "display_data",
          "data": {
            "text/plain": [
              "<IPython.core.display.Markdown object>"
            ],
            "text/markdown": "**Performed Operations:**"
          },
          "metadata": {}
        },
        {
          "output_type": "stream",
          "name": "stdout",
          "text": [
            "r2 = r2 + -4*r1\n",
            "r3 = r3 + -2*r1\n",
            "r3 = r3 + -1*r2\n"
          ]
        }
      ]
    },
    {
      "cell_type": "markdown",
      "source": [
        "# Finding the Inverse of a Matrix Using Row Operations\n",
        "\n",
        "## Given Matrix:\n",
        "$\n",
        "B = \\begin{bmatrix} 1 & 2 & 3 \\\\ 4 & 5 & 1 \\\\ 2 & 3 & 2 \\end{bmatrix}\n",
        "$\n",
        "\n",
        "## Step 1: Augment \\( B \\) with the Identity Matrix\n",
        "Set up the augmented matrix $[B | I]$:\n",
        "\n",
        "$\n",
        "[B | I] = \\begin{bmatrix} 1 & 2 & 3 \\mid 1 & 0 & 0 \\\\ 4 & 5 & 1 \\mid 0 & 1 & 0 \\\\ 2 & 3 & 2 \\mid 0 & 0 & 1 \\end{bmatrix}\n",
        "$\n",
        "\n",
        "## Step 2: Perform Row Operations\n",
        "\n",
        "### Row Operation 1:\n",
        "Subtract $ 4 \\cdot R_1 $ from $ R_2 $ and $ 2 \\cdot R_1 $ from $ R_3 $:\n",
        "\n",
        "$\n",
        "R_2 \\to R_2 - 4 \\cdot R_1\n",
        "$\n",
        "$\n",
        "R_3 \\to R_3 - 2 \\cdot R_1\n",
        "$\n",
        "\n",
        "New rows:\n",
        "\n",
        "$\n",
        "R_2 = (0, -3, -11, -4, 1, 0)\n",
        "$\n",
        "$\n",
        "R_3 = (0, -1, -4, -2, 0, 1)\n",
        "$\n",
        "\n",
        "Updated matrix:\n",
        "\n",
        "$\n",
        "\\begin{bmatrix} 1 & 2 & 3 \\mid 1 & 0 & 0 \\\\ 0 & -3 & -11 \\mid -4 & 1 & 0 \\\\ 0 & -1 & -4 \\mid -2 & 0 & 1 \\end{bmatrix}\n",
        "$\n",
        "\n",
        "### Row Operation 2:\n",
        "Multiply $ R_2 $ by $ -\\frac{1}{3} $ to make the second element 1:\n",
        "\n",
        "$\n",
        "R_2 \\to -\\frac{1}{3} \\cdot R_2\n",
        "$\n",
        "\n",
        "New $ R_2 $:\n",
        "\n",
        "$\n",
        "R_2 = (0, 1, \\frac{11}{3}, \\frac{4}{3}, -\\frac{1}{3}, 0)\n",
        "$\n",
        "\n",
        "Updated matrix:\n",
        "\n",
        "$\n",
        "\\begin{bmatrix} 1 & 2 & 3 \\mid 1 & 0 & 0 \\\\ 0 & 1 & \\frac{11}{3} \\mid \\frac{4}{3} & -\\frac{1}{3} & 0 \\\\ 0 & -1 & -4 \\mid -2 & 0 & 1 \\end{bmatrix}\n",
        "$\n",
        "\n",
        "### Row Operation 3:\n",
        "Add $ R_2 $ to $ R_3 $ to eliminate the second element in $ R_3 $:\n",
        "\n",
        "$\n",
        "R_3 \\to R_3 + R_2\n",
        "$\n",
        "\n",
        "New $ R_3 $:\n",
        "\n",
        "$\n",
        "R_3 = (0, 0, -\\frac{1}{3}, -\\frac{2}{3}, -\\frac{1}{3}, 1)\n",
        "$\n",
        "\n",
        "Updated matrix:\n",
        "\n",
        "$\n",
        "\\begin{bmatrix} 1 & 2 & 3 \\mid 1 & 0 & 0 \\\\ 0 & 1 & \\frac{11}{3} \\mid \\frac{4}{3} & -\\frac{1}{3} & 0 \\\\ 0 & 0 & -\\frac{1}{3} \\mid -\\frac{2}{3} & -\\frac{1}{3} & 1 \\end{bmatrix}\n",
        "$\n",
        "\n",
        "### Row Operation 4:\n",
        "Multiply $ R_3 $ by $ -3 $ to make the third element 1:\n",
        "\n",
        "$\n",
        "R_3 \\to -3 \\cdot R_3\n",
        "$\n",
        "\n",
        "New $ R_3 $:\n",
        "\n",
        "$\n",
        "R_3 = (0, 0, 1, 2, 1, -3)\n",
        "$\n",
        "\n",
        "Updated matrix:\n",
        "\n",
        "$\n",
        "\\begin{bmatrix} 1 & 2 & 3 \\mid 1 & 0 & 0 \\\\ 0 & 1 & \\frac{11}{3} \\mid \\frac{4}{3} & -\\frac{1}{3} & 0 \\\\ 0 & 0 & 1 \\mid 2 & 1 & -3 \\end{bmatrix}\n",
        "$\n",
        "\n",
        "### Row Operation 5:\n",
        "Subtract $ \\frac{11}{3} \\cdot R_3 $ from $ R_2 $ and $ 3 \\cdot R_3 $ from $ R_1 $:\n",
        "\n",
        "$\n",
        "R_2 \\to R_2 - \\frac{11}{3} \\cdot R_3\n",
        "$\n",
        "$\n",
        "R_1 \\to R_1 - 3 \\cdot R_3\n",
        "$\n",
        "\n",
        "New rows:\n",
        "\n",
        "$\n",
        "R_2 = (0, 1, 0, -6, -4, 11)\n",
        "$\n",
        "$\n",
        "R_1 = (1, 2, 0, -5, -3, 9)\n",
        "$\n",
        "\n",
        "Updated matrix:\n",
        "\n",
        "$\n",
        "\\begin{bmatrix} 1 & 2 & 0 \\mid -5 & -3 & 9 \\\\ 0 & 1 & 0 \\mid -6 & -4 & 11 \\\\ 0 & 0 & 1 \\mid 2 & 1 & -3 \\end{bmatrix}\n",
        "$\n",
        "\n",
        "### Row Operation 6:\n",
        "Subtract $ 2 \\cdot R_2 $ from $ R_1 $ to eliminate the second element in $ R_1 $:\n",
        "\n",
        "$\n",
        "R_1 \\to R_1 - 2 \\cdot R_2\n",
        "$\n",
        "\n",
        "New $ R_1 $:\n",
        "\n",
        "$\n",
        "R_1 = (1, 0, 0, 7, 5, -13)\n",
        "$\n",
        "\n",
        "Final augmented matrix:\n",
        "\n",
        "$\n",
        "\\begin{bmatrix} 1 & 0 & 0 \\mid 7 & 5 & -13 \\\\ 0 & 1 & 0 \\mid -6 & -4 & 11 \\\\ 0 & 0 & 1 \\mid 2 & 1 & -3 \\end{bmatrix}\n",
        "$\n",
        "\n",
        "## Step 3: Extract the Inverse Matrix\n",
        "The right side of the augmented matrix is the inverse of \\( B \\):\n",
        "\n",
        "$\n",
        "B^{-1} = \\begin{bmatrix} 7 & 5 & -13 \\\\ -6 & -4 & 11 \\\\ 2 & 1 & -3 \\end{bmatrix}\n",
        "$\n",
        "\n",
        "## Step 4: Verify the Inverse\n",
        "Multiplying \\( B \\) and \\( B^{-1} \\) results in the identity matrix, confirming correctness.\n",
        "\n",
        "Final Answer:\n",
        "\n",
        "$\n",
        "B^{-1} = \\begin{bmatrix} 7 & 5 & -13 \\\\ -6 & -4 & 11 \\\\ 2 & 1 & -3 \\end{bmatrix}\n",
        "$\n",
        "\n"
      ],
      "metadata": {
        "id": "F5GrCelmQlSZ"
      }
    },
    {
      "cell_type": "code",
      "source": [
        "import sympy as sp\n",
        "from sympy import Matrix, Rational\n",
        "from IPython.display import display, Markdown\n",
        "\n",
        "class SymbolicMatrix:\n",
        "    def __init__(self, matrix):\n",
        "        self.matrix = Matrix(matrix).applyfunc(Rational)\n",
        "        self.operations = []\n",
        "        display(Markdown(\"**Initial Matrix:**\"))\n",
        "        display(self.matrix)  # Display the matrix upon initialization\n",
        "\n",
        "    def __repr__(self):\n",
        "        return repr(self.matrix)  # Use Matrix's repr\n",
        "\n",
        "    def __str__(self):\n",
        "        return str(self.matrix)  # Use Matrix's str\n",
        "\n",
        "    def _repr_latex_(self):\n",
        "        return self.matrix._repr_latex_()  # Delegate LaTeX display\n",
        "\n",
        "    def _validate_row_number(self, row):\n",
        "        if not isinstance(row, int):\n",
        "            raise TypeError(\"Row number must be an integer.\")\n",
        "        if row < 1 or row > self.matrix.rows:\n",
        "            raise IndexError(f\"Row number must be in the range from 1 to {self.matrix.rows}.\")\n",
        "        return row - 1\n",
        "\n",
        "    def _validate_col_number(self, col):\n",
        "        if not isinstance(col, int):\n",
        "            raise TypeError(\"Column number must be an integer.\")\n",
        "        if col < 1 or col > self.matrix.cols:\n",
        "            raise IndexError(f\"Column number must be in the range from 1 to {self.matrix.cols}.\")\n",
        "        return col - 1\n",
        "\n",
        "    # Row operations\n",
        "    def add_row(self, target_row, source_row, coefficient):\n",
        "        target_idx = self._validate_row_number(target_row)\n",
        "        source_idx = self._validate_row_number(source_row)\n",
        "        coefficient = Rational(coefficient)\n",
        "\n",
        "        self.matrix.row_op(target_idx, lambda v, j: v + coefficient * self.matrix[source_idx, j])\n",
        "        operation_str = f\"r{target_row} = r{target_row} + {coefficient}*r{source_row}\"\n",
        "        self.operations.append(operation_str)\n",
        "        display(Markdown(f\"**Operation:** {operation_str}\"))\n",
        "        display(self.matrix)\n",
        "\n",
        "    def multiply_row(self, row, coefficient):\n",
        "        row_idx = self._validate_row_number(row)\n",
        "        coefficient = Rational(coefficient)\n",
        "        self.matrix.row_op(row_idx, lambda v, _: coefficient * v)\n",
        "        operation_str = f\"r{row} = {coefficient}*r{row}\"\n",
        "        self.operations.append(operation_str)\n",
        "        display(Markdown(f\"**Operation:** {operation_str}\"))\n",
        "        display(self.matrix)\n",
        "\n",
        "    def swap_rows(self, row1, row2):\n",
        "        row1_idx = self._validate_row_number(row1)\n",
        "        row2_idx = self._validate_row_number(row2)\n",
        "        self.matrix.row_swap(row1_idx, row2_idx)\n",
        "        operation_str = f\"Swap r{row1} <-> r{row2}\"\n",
        "        self.operations.append(operation_str)\n",
        "        display(Markdown(f\"**Operation:** {operation_str}\"))\n",
        "        display(self.matrix)\n",
        "\n",
        "    # Column operations\n",
        "    def add_col(self, target_col, source_col, coefficient):\n",
        "        target_idx = self._validate_col_number(target_col)\n",
        "        source_idx = self._validate_col_number(source_col)\n",
        "        self.matrix.col_op(target_idx, lambda v, i: v + coefficient * self.matrix[i, source_col])\n",
        "        operation_str = f\"c{target_col} = c{target_col} + {coefficient}*c{source_col}\"\n",
        "        self.operations.append(operation_str)\n",
        "        display(Markdown(f\"**Operation:** {operation_str}\"))\n",
        "        display(self.matrix)\n",
        "\n",
        "    def multiply_col(self, col, coefficient):\n",
        "        col_idx = self._validate_col_number(col)\n",
        "        self.matrix.col_op(col_idx, lambda v, _: coefficient * v)\n",
        "        operation_str = f\"c{col} = {coefficient}*c{col}\"\n",
        "        self.operations.append(operation_str)\n",
        "        display(Markdown(f\"**Operation:** {operation_str}\"))\n",
        "        display(self.matrix)\n",
        "\n",
        "    def swap_cols(self, col1, col2):\n",
        "        col1_idx = self._validate_col_number(col1)\n",
        "        col2_idx = self._validate_col_number(col2)\n",
        "        self.matrix.col_swap(col1_idx, col2_idx)\n",
        "        operation_str = f\"Swap c{col1} <-> c{col2}\"\n",
        "        self.operations.append(operation_str)\n",
        "        display(Markdown(f\"**Operation:** {operation_str}\"))\n",
        "        display(self.matrix)\n",
        "\n",
        "    # Display the operations performed\n",
        "    def print_operations(self):\n",
        "        display(Markdown(\"**Performed Operations:**\"))\n",
        "        for op in self.operations:\n",
        "            print(op)\n",
        "\n",
        "# Given matrix B\n",
        "mat = [[1, 2, 3], [4, 5, 1], [2, 3, 2]]\n",
        "m = SymbolicMatrix(mat)\n",
        "\n",
        "# Row operations to get upper triangular form\n",
        "m.add_row(2, 1, -4/1)  # r2 = r2 - 4*r1\n",
        "m.add_row(3, 1, -2/1)  # r3 = r3 - 2*r1\n",
        "m.add_row(3, 2, -1)    # r3 = r3 - r2\n",
        "\n",
        "# Calculate the determinant by multiplying the diagonal elements\n",
        "diagonal_elements = [m.matrix[i, i] for i in range(m.matrix.rows)]\n",
        "determinant = sp.Mul(*diagonal_elements)\n",
        "print(f\"Determinant of the matrix: {determinant}\")\n",
        "\n",
        "m.print_operations()\n"
      ],
      "metadata": {
        "colab": {
          "base_uri": "https://localhost:8080/",
          "height": 480
        },
        "id": "Xmhmp4Nim8LN",
        "outputId": "aff386a6-4393-4768-8d56-dec701841660"
      },
      "execution_count": null,
      "outputs": [
        {
          "output_type": "display_data",
          "data": {
            "text/plain": [
              "<IPython.core.display.Markdown object>"
            ],
            "text/markdown": "**Initial Matrix:**"
          },
          "metadata": {}
        },
        {
          "output_type": "display_data",
          "data": {
            "text/plain": [
              "Matrix([\n",
              "[1, 2, 3],\n",
              "[4, 5, 1],\n",
              "[2, 3, 2]])"
            ],
            "text/latex": "$\\displaystyle \\left[\\begin{matrix}1 & 2 & 3\\\\4 & 5 & 1\\\\2 & 3 & 2\\end{matrix}\\right]$"
          },
          "metadata": {}
        },
        {
          "output_type": "display_data",
          "data": {
            "text/plain": [
              "<IPython.core.display.Markdown object>"
            ],
            "text/markdown": "**Operation:** r2 = r2 + -4*r1"
          },
          "metadata": {}
        },
        {
          "output_type": "display_data",
          "data": {
            "text/plain": [
              "Matrix([\n",
              "[1,  2,   3],\n",
              "[0, -3, -11],\n",
              "[2,  3,   2]])"
            ],
            "text/latex": "$\\displaystyle \\left[\\begin{matrix}1 & 2 & 3\\\\0 & -3 & -11\\\\2 & 3 & 2\\end{matrix}\\right]$"
          },
          "metadata": {}
        },
        {
          "output_type": "display_data",
          "data": {
            "text/plain": [
              "<IPython.core.display.Markdown object>"
            ],
            "text/markdown": "**Operation:** r3 = r3 + -2*r1"
          },
          "metadata": {}
        },
        {
          "output_type": "display_data",
          "data": {
            "text/plain": [
              "Matrix([\n",
              "[1,  2,   3],\n",
              "[0, -3, -11],\n",
              "[0, -1,  -4]])"
            ],
            "text/latex": "$\\displaystyle \\left[\\begin{matrix}1 & 2 & 3\\\\0 & -3 & -11\\\\0 & -1 & -4\\end{matrix}\\right]$"
          },
          "metadata": {}
        },
        {
          "output_type": "display_data",
          "data": {
            "text/plain": [
              "<IPython.core.display.Markdown object>"
            ],
            "text/markdown": "**Operation:** r3 = r3 + -1*r2"
          },
          "metadata": {}
        },
        {
          "output_type": "display_data",
          "data": {
            "text/plain": [
              "Matrix([\n",
              "[1,  2,   3],\n",
              "[0, -3, -11],\n",
              "[0,  2,   7]])"
            ],
            "text/latex": "$\\displaystyle \\left[\\begin{matrix}1 & 2 & 3\\\\0 & -3 & -11\\\\0 & 2 & 7\\end{matrix}\\right]$"
          },
          "metadata": {}
        },
        {
          "output_type": "stream",
          "name": "stdout",
          "text": [
            "Determinant of the matrix: -21\n"
          ]
        },
        {
          "output_type": "display_data",
          "data": {
            "text/plain": [
              "<IPython.core.display.Markdown object>"
            ],
            "text/markdown": "**Performed Operations:**"
          },
          "metadata": {}
        },
        {
          "output_type": "stream",
          "name": "stdout",
          "text": [
            "r2 = r2 + -4*r1\n",
            "r3 = r3 + -2*r1\n",
            "r3 = r3 + -1*r2\n"
          ]
        }
      ]
    },
    {
      "cell_type": "markdown",
      "source": [
        "### Given Matrix:\n",
        "$\n",
        "C =\n",
        "\\begin{bmatrix}\n",
        "0 & 0 & 1 \\\\\n",
        "0 & 1 & 0 \\\\\n",
        "1 & 0 & 0\n",
        "\\end{bmatrix}\n",
        "$\n",
        "\n",
        "### Step 1: Augment \\( C \\) with the Identity Matrix\n",
        "Set up the augmented matrix \\([C | I]\\):\n",
        "\n",
        "$\n",
        "[C | I] =\n",
        "\\begin{bmatrix}\n",
        "0 & 0 & 1 & | & 1 & 0 & 0 \\\\\n",
        "0 & 1 & 0 & | & 0 & 1 & 0 \\\\\n",
        "1 & 0 & 0 & | & 0 & 0 & 1\n",
        "\\end{bmatrix}\n",
        "$\n",
        "\n",
        "### Step 2: Perform Row Operations\n",
        "\n",
        "**Row Operation 1:**  \n",
        "Swap \\( R_1 \\) and \\( R_3 \\) to make the first element non-zero:\n",
        "\n",
        "$\n",
        "[C | I] =\n",
        "\\begin{bmatrix}\n",
        "1 & 0 & 0 & | & 0 & 0 & 1 \\\\\n",
        "0 & 1 & 0 & | & 0 & 1 & 0 \\\\\n",
        "0 & 0 & 1 & | & 1 & 0 & 0\n",
        "\\end{bmatrix}\n",
        "$\n",
        "\n",
        "### Step 3: Extract the Inverse Matrix\n",
        "The right side of the augmented matrix is the inverse of \\( C \\):\n",
        "\n",
        "$\n",
        "C^{-1} =\n",
        "\\begin{bmatrix}\n",
        "0 & 0 & 1 \\\\\n",
        "0 & 1 & 0 \\\\\n",
        "1 & 0 & 0\n",
        "\\end{bmatrix}\n",
        "$\n",
        "\n",
        "### Step 4: Verify the Inverse\n",
        "Multiply \\( C \\) and \\( C^{-1} \\) to verify that the result is the identity matrix:\n",
        "\n",
        "$\n",
        "C \\cdot C^{-1} =\n",
        "\\begin{bmatrix}\n",
        "0 & 0 & 1 \\\\\n",
        "0 & 1 & 0 \\\\\n",
        "1 & 0 & 0\n",
        "\\end{bmatrix}\n",
        "\\cdot\n",
        "\\begin{bmatrix}\n",
        "0 & 0 & 1 \\\\\n",
        "0 & 1 & 0 \\\\\n",
        "1 & 0 & 0\n",
        "\\end{bmatrix}\n",
        "$\n",
        "\n",
        "Perform the multiplication:\n",
        "\n",
        "$\n",
        "C \\cdot C^{-1} =\n",
        "\\begin{bmatrix}\n",
        "1 & 0 & 0 \\\\\n",
        "0 & 1 & 0 \\\\\n",
        "0 & 0 & 1\n",
        "\\end{bmatrix}\n",
        "$\n",
        "\n",
        "Thus, the inverse is correct.\n",
        "\n",
        "### Final Answer:\n",
        "The inverse of matrix \\( C \\) is:\n",
        "\n",
        "$\n",
        "C^{-1} =\n",
        "\\begin{bmatrix}\n",
        "0 & 0 & 1 \\\\\n",
        "0 & 1 & 0 \\\\\n",
        "1 & 0 & 0\n",
        "\\end{bmatrix}\n",
        "$\n"
      ],
      "metadata": {
        "id": "GgOB8We6SDuK"
      }
    },
    {
      "cell_type": "code",
      "source": [],
      "metadata": {
        "id": "Rbqalg6VnDes"
      },
      "execution_count": null,
      "outputs": []
    }
  ]
}