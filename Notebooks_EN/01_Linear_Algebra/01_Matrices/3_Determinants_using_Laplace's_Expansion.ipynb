{
  "nbformat": 4,
  "nbformat_minor": 0,
  "metadata": {
    "colab": {
      "provenance": [],
      "authorship_tag": "ABX9TyPGqcxCwGDOOpUj3aAb2Gi+",
      "include_colab_link": true
    },
    "kernelspec": {
      "name": "python3",
      "display_name": "Python 3"
    },
    "language_info": {
      "name": "python"
    }
  },
  "cells": [
    {
      "cell_type": "markdown",
      "metadata": {
        "id": "view-in-github",
        "colab_type": "text"
      },
      "source": [
        "<a href=\"https://colab.research.google.com/github/Dubenlaylay1/Math-2024-25-Winter/blob/main/3_Determinants_using_Laplace's_Expansion.ipynb\" target=\"_parent\"><img src=\"https://colab.research.google.com/assets/colab-badge.svg\" alt=\"Open In Colab\"/></a>"
      ]
    },
    {
      "cell_type": "code",
      "execution_count": 1,
      "metadata": {
        "colab": {
          "base_uri": "https://localhost:8080/",
          "height": 78
        },
        "id": "XvEsgpV1htOS",
        "outputId": "0ff4d48f-18ff-45cc-e70e-b1e4fa9025f1"
      },
      "outputs": [
        {
          "output_type": "execute_result",
          "data": {
            "text/plain": [
              "Matrix([\n",
              "[2, 3, 1],\n",
              "[1, 4, 0],\n",
              "[3, 2, 1]])"
            ],
            "text/latex": "$\\displaystyle \\left[\\begin{matrix}2 & 3 & 1\\\\1 & 4 & 0\\\\3 & 2 & 1\\end{matrix}\\right]$"
          },
          "metadata": {},
          "execution_count": 1
        }
      ],
      "source": [
        "import sympy as sp\n",
        "\n",
        "# Define the matrix\n",
        "A = sp.Matrix([[2, 3, 1], [1, 4, 0], [3, 2, 1]])\n",
        "A # display the matrix"
      ]
    },
    {
      "cell_type": "code",
      "source": [
        "# Select the first row [2, 3, 1]\n",
        "# Define the appropriate minors\n",
        "M11 = sp.Matrix([[4, 0], [2, 1]])\n",
        "M12 = sp.Matrix([[1, 0], [2, 1]])\n",
        "M13 = sp.Matrix([[1, 4], [3, 2]])\n",
        "\n",
        "# Calculate the determinant\n",
        "d = 2*M11.det() - 3*M12.det() + 1*M13.det()\n",
        "\n",
        "d == A.det()"
      ],
      "metadata": {
        "colab": {
          "base_uri": "https://localhost:8080/"
        },
        "id": "d5-qBDCbh2Cg",
        "outputId": "729eaf51-9769-498d-a6fe-6290cacf1dda"
      },
      "execution_count": 2,
      "outputs": [
        {
          "output_type": "execute_result",
          "data": {
            "text/plain": [
              "True"
            ]
          },
          "metadata": {},
          "execution_count": 2
        }
      ]
    },
    {
      "cell_type": "code",
      "source": [
        "# Define the matrix\n",
        "C = sp.Matrix([[2, 3, 1, 4,], [1, 0, 0, 6], [3, 2, 1, 5], [2, 1, 4, 0]])\n",
        "C # display the matrix"
      ],
      "metadata": {
        "colab": {
          "base_uri": "https://localhost:8080/",
          "height": 98
        },
        "id": "zkOaZOaKh6nF",
        "outputId": "83e1456f-97f4-4b3e-e9f7-9678673f3c86"
      },
      "execution_count": 3,
      "outputs": [
        {
          "output_type": "execute_result",
          "data": {
            "text/plain": [
              "Matrix([\n",
              "[2, 3, 1, 4],\n",
              "[1, 0, 0, 6],\n",
              "[3, 2, 1, 5],\n",
              "[2, 1, 4, 0]])"
            ],
            "text/latex": "$\\displaystyle \\left[\\begin{matrix}2 & 3 & 1 & 4\\\\1 & 0 & 0 & 6\\\\3 & 2 & 1 & 5\\\\2 & 1 & 4 & 0\\end{matrix}\\right]$"
          },
          "metadata": {},
          "execution_count": 3
        }
      ]
    },
    {
      "cell_type": "code",
      "source": [
        "# Verify the correctness of the calculations\n",
        "M11 = sp.Matrix([[0, 0, 6], [2, 1, 5], [1, 4, 0]])\n",
        "M12 = sp.Matrix([[1, 0, 6], [3, 1, 5], [2, 4, 0]])\n",
        "M13 = sp.Matrix([[1, 0, 6], [3, 2, 5], [2, 1, 0]])\n",
        "M14 = sp.Matrix([[1, 0, 0], [3, 2, 1], [2, 1, 4]])\n",
        "\n",
        "(2*M11.det() - 3*M12.det() + 1*M13.det() - 4*M14.det()) == C.det()\n",
        "\n",
        "d = 2*M11.det() - 3*M12.det() + 1*M13.det() - 4*M14.det()\n",
        "d == C.det()"
      ],
      "metadata": {
        "colab": {
          "base_uri": "https://localhost:8080/"
        },
        "id": "JbsE_VBth9SD",
        "outputId": "4740d0fc-8dbf-4dd7-aab1-827f25e3e854"
      },
      "execution_count": 4,
      "outputs": [
        {
          "output_type": "execute_result",
          "data": {
            "text/plain": [
              "True"
            ]
          },
          "metadata": {},
          "execution_count": 4
        }
      ]
    },
    {
      "cell_type": "code",
      "source": [
        "\n",
        "\n",
        "# 5x5 Matrix\n",
        "D = sp.Matrix([[2, 3, 1, 4, 5], [1, 4, 0, 0, 7], [3, 0, 0, 0, 0], [2, 1, 4, 3, 2], [1, 2, 3, 4, 5]]) # Separate each row with a comma\n",
        "D"
      ],
      "metadata": {
        "colab": {
          "base_uri": "https://localhost:8080/",
          "height": 119
        },
        "id": "zdBlgUByh_qT",
        "outputId": "71797637-3554-4caf-920a-06a5091c133e"
      },
      "execution_count": 5,
      "outputs": [
        {
          "output_type": "execute_result",
          "data": {
            "text/plain": [
              "Matrix([\n",
              "[2, 3, 1, 4, 5],\n",
              "[1, 4, 0, 0, 7],\n",
              "[3, 0, 0, 0, 0],\n",
              "[2, 1, 4, 3, 2],\n",
              "[1, 2, 3, 4, 5]])"
            ],
            "text/latex": "$\\displaystyle \\left[\\begin{matrix}2 & 3 & 1 & 4 & 5\\\\1 & 4 & 0 & 0 & 7\\\\3 & 0 & 0 & 0 & 0\\\\2 & 1 & 4 & 3 & 2\\\\1 & 2 & 3 & 4 & 5\\end{matrix}\\right]$"
          },
          "metadata": {},
          "execution_count": 5
        }
      ]
    },
    {
      "cell_type": "code",
      "source": [
        "# Verify the correctness of the calculations\n",
        "M11 = sp.Matrix([[4, 0, 0, 7], [0, 0, 0, 0,], [1, 4, 3, 2], [2, 3, 4, 5]])\n",
        "M12 = sp.Matrix([[1, 0, 0, 7], [3,0, 0, 0], [2, 4, 3, 2], [1, 3, 4, 5]])\n",
        "M13 = sp.Matrix([[1, 4, 0, 7], [3, 0, 0, 0], [2, 1, 3, 2], [1, 2, 4, 5]])\n",
        "M14 = sp.Matrix([[1, 4, 0, 7], [3, 0, 0, 0], [2, 1, 4, 2], [1, 2, 3, 5]])\n",
        "M15 = sp.Matrix([[1, 4, 0, 0], [3, 0, 0, 0], [2, 1, 4, 3], [1, 2, 3, 4]])\n",
        "\n",
        "(2*M11.det() - 3*M12.det() + 1*M13.det() - 4*M14.det() + 5*M15.det()) == D.det()\n",
        "d = 2*M11.det() - 3*M12.det() + 1*M13.det() - 4*M14.det() + 5*M15.det()\n",
        "d == D.det()"
      ],
      "metadata": {
        "colab": {
          "base_uri": "https://localhost:8080/"
        },
        "id": "xoQaeH_ciDTX",
        "outputId": "bd1824f0-7e3d-4303-a191-e5d9691f232f"
      },
      "execution_count": 6,
      "outputs": [
        {
          "output_type": "execute_result",
          "data": {
            "text/plain": [
              "True"
            ]
          },
          "metadata": {},
          "execution_count": 6
        }
      ]
    },
    {
      "cell_type": "code",
      "source": [],
      "metadata": {
        "id": "WMOg9SmpiFt1"
      },
      "execution_count": null,
      "outputs": []
    }
  ]
}