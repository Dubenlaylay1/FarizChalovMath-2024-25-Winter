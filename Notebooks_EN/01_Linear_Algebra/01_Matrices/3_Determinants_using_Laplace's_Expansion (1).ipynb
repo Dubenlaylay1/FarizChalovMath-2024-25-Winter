{
  "nbformat": 4,
  "nbformat_minor": 0,
  "metadata": {
    "colab": {
      "provenance": []
    },
    "kernelspec": {
      "name": "python3",
      "display_name": "Python 3"
    },
    "language_info": {
      "name": "python"
    }
  },
  "cells": [
    {
      "cell_type": "code",
      "execution_count": null,
      "metadata": {
        "colab": {
          "base_uri": "https://localhost:8080/",
          "height": 78
        },
        "id": "XvEsgpV1htOS",
        "outputId": "0ff4d48f-18ff-45cc-e70e-b1e4fa9025f1"
      },
      "outputs": [
        {
          "output_type": "execute_result",
          "data": {
            "text/plain": [
              "Matrix([\n",
              "[2, 3, 1],\n",
              "[1, 4, 0],\n",
              "[3, 2, 1]])"
            ],
            "text/latex": "$\\displaystyle \\left[\\begin{matrix}2 & 3 & 1\\\\1 & 4 & 0\\\\3 & 2 & 1\\end{matrix}\\right]$"
          },
          "metadata": {},
          "execution_count": 1
        }
      ],
      "source": [
        "import sympy as sp\n",
        "\n",
        "# Define the matrix\n",
        "A = sp.Matrix([[2, 3, 1], [1, 4, 0], [3, 2, 1]])\n",
        "A # display the matrix"
      ]
    },
    {
      "cell_type": "markdown",
      "source": [
        "The determinant of the 3×3 matrix \\( A \\) using Laplace's Expansion is calculated as follows:\n",
        "\n",
        "### Given Matrix:\n",
        "$$\n",
        "A = \\begin{pmatrix} 2 & 3 & 1 \\\\ 1 & 4 & 0 \\\\ 3 & 2 & 1 \\end{pmatrix}\n",
        "$$\n",
        "\n",
        "### Step 1: Expand along the second row (row 2) for simplicity (contains a zero):\n",
        "\\[\n",
        "\\text{det}(A) = 1 \\cdot C_{21} + 4 \\cdot C_{22} + 0 \\cdot C_{23}\n",
        "\\]\n",
        "where \\( C_{ij} \\) is the cofactor of the element in row \\( i \\), column \\( j \\).\n",
        "\n",
        "### Step 2: Calculate cofactors:\n",
        "1. **Cofactor \\( C_{21} \\)**:\n",
        "   $\n",
        "   C_{21} = (-1)^{2+1} \\cdot \\det\\begin{pmatrix} 3 & 1 \\\\ 2 & 1 \\end{pmatrix} = -1 \\cdot (3 \\cdot 1 - 1 \\cdot 2) = -1 \\cdot 1 = -1\n",
        "   $\n",
        "\n",
        "2. **Cofactor \\( C_{22} \\)**:\n",
        "   $\n",
        "   C_{22} = (-1)^{2+2} \\cdot \\det\\begin{pmatrix} 2 & 1 \\\\ 3 & 1 \\end{pmatrix} = 1 \\cdot (2 \\cdot 1 - 1 \\cdot 3) = 1 \\cdot (-1) = -1\n",
        "   $\n",
        "\n",
        "3. **Cofactor $ C_{23} $** (not needed due to the zero term).\n",
        "\n",
        "### Step 3: Substitute back into the expansion:\n",
        "$\n",
        "\\text{det}(A) = 1 \\cdot (-1) + 4 \\cdot (-1) + 0 = -1 - 4 = \\boxed{-5}\n",
        "$\n",
        "\n",
        "Thus, the determinant of matrix \\( A \\) is **-5**."
      ],
      "metadata": {
        "id": "WFShB-PaI0hY"
      }
    },
    {
      "cell_type": "code",
      "source": [
        "# Select the first row [2, 3, 1]\n",
        "# Define the appropriate minors\n",
        "M11 = sp.Matrix([[4, 0], [2, 1]])\n",
        "M12 = sp.Matrix([[1, 0], [2, 1]])\n",
        "M13 = sp.Matrix([[1, 4], [3, 2]])\n",
        "\n",
        "# Calculate the determinant\n",
        "d = 2*M11.det() - 3*M12.det() + 1*M13.det()\n",
        "\n",
        "d == A.det()"
      ],
      "metadata": {
        "colab": {
          "base_uri": "https://localhost:8080/"
        },
        "id": "d5-qBDCbh2Cg",
        "outputId": "729eaf51-9769-498d-a6fe-6290cacf1dda"
      },
      "execution_count": null,
      "outputs": [
        {
          "output_type": "execute_result",
          "data": {
            "text/plain": [
              "True"
            ]
          },
          "metadata": {},
          "execution_count": 2
        }
      ]
    },
    {
      "cell_type": "code",
      "source": [
        "# Define the matrix\n",
        "C = sp.Matrix([[2, 3, 1, 4,], [1, 0, 0, 6], [3, 2, 1, 5], [2, 1, 4, 0]])\n",
        "C # display the matrix"
      ],
      "metadata": {
        "colab": {
          "base_uri": "https://localhost:8080/",
          "height": 98
        },
        "id": "zkOaZOaKh6nF",
        "outputId": "83e1456f-97f4-4b3e-e9f7-9678673f3c86"
      },
      "execution_count": null,
      "outputs": [
        {
          "output_type": "execute_result",
          "data": {
            "text/plain": [
              "Matrix([\n",
              "[2, 3, 1, 4],\n",
              "[1, 0, 0, 6],\n",
              "[3, 2, 1, 5],\n",
              "[2, 1, 4, 0]])"
            ],
            "text/latex": "$\\displaystyle \\left[\\begin{matrix}2 & 3 & 1 & 4\\\\1 & 0 & 0 & 6\\\\3 & 2 & 1 & 5\\\\2 & 1 & 4 & 0\\end{matrix}\\right]$"
          },
          "metadata": {},
          "execution_count": 3
        }
      ]
    },
    {
      "cell_type": "markdown",
      "source": [
        "The determinant of the 3×3 matrix \\( B \\) using Laplace's Expansion is calculated as follows:\n",
        "\n",
        "### Given Matrix:\n",
        "$$\n",
        "B = \\begin{pmatrix} 2 & 3 & 1 \\\\ 1 & 4 & 0 \\\\ 3 & 2 & 0 \\end{pmatrix}\n",
        "$$\n",
        "\n",
        "### Step 1: Expand along the third column (column 3) for simplicity (contains two zeros):\n",
        "$\n",
        "\\text{det}(B) = 1 \\cdot C_{13} + 0 \\cdot C_{23} + 0 \\cdot C_{33}\n",
        "$\n",
        "where $ C_{ij} $ is the cofactor of the element in row \\( i \\), column $ j $.\n",
        "\n",
        "### Step 2: Calculate the only non-zero cofactor $ C_{13} $:\n",
        "$\n",
        "C_{13} = (-1)^{1+3} \\cdot \\det\\begin{pmatrix} 1 & 4 \\\\ 3 & 2 \\end{pmatrix} = (+1) \\cdot \\left(1 \\cdot 2 - 4 \\cdot 3\\right) = 1 \\cdot (2 - 12) = -10\n",
        "$\n",
        "\n",
        "### Step 3: Substitute back into the expansion:\n",
        "$\n",
        "\\text{det}(B) = 1 \\cdot (-10) + 0 + 0 = \\boxed{-10}\n",
        "$\n",
        "\n",
        "Thus, the determinant of matrix \\( B \\) is **-10**."
      ],
      "metadata": {
        "id": "Ta6V52UiJJDx"
      }
    },
    {
      "cell_type": "code",
      "source": [
        "# Verify the correctness of the calculations\n",
        "M11 = sp.Matrix([[0, 0, 6], [2, 1, 5], [1, 4, 0]])\n",
        "M12 = sp.Matrix([[1, 0, 6], [3, 1, 5], [2, 4, 0]])\n",
        "M13 = sp.Matrix([[1, 0, 6], [3, 2, 5], [2, 1, 0]])\n",
        "M14 = sp.Matrix([[1, 0, 0], [3, 2, 1], [2, 1, 4]])\n",
        "\n",
        "(2*M11.det() - 3*M12.det() + 1*M13.det() - 4*M14.det()) == C.det()\n",
        "\n",
        "d = 2*M11.det() - 3*M12.det() + 1*M13.det() - 4*M14.det()\n",
        "d == C.det()"
      ],
      "metadata": {
        "colab": {
          "base_uri": "https://localhost:8080/"
        },
        "id": "JbsE_VBth9SD",
        "outputId": "4740d0fc-8dbf-4dd7-aab1-827f25e3e854"
      },
      "execution_count": null,
      "outputs": [
        {
          "output_type": "execute_result",
          "data": {
            "text/plain": [
              "True"
            ]
          },
          "metadata": {},
          "execution_count": 4
        }
      ]
    },
    {
      "cell_type": "markdown",
      "source": [
        "\n",
        "\n",
        "---\n",
        "\n",
        "### Step-by-Step Explanation:\n",
        "\n",
        "1. **Expand along the third row** (contains three zeros for simplification):  \n",
        "   $\n",
        "   \\det(D) = 3 \\cdot (-1)^{3+1} \\cdot M_{31} = 3 \\cdot M_{31}\n",
        "   $\n",
        "   where \\( M_{31} \\) is the minor obtained by removing row 3 and column 1.\n",
        "\n",
        "2. **Calculate minor $ M_{31} $:**\n",
        "   $\n",
        "   M_{31} = \\det\\begin{pmatrix}\n",
        "   3 & 1 & 4 & 5 \\\\\n",
        "   4 & 0 & 0 & 7 \\\\\n",
        "   1 & 4 & 3 & 2 \\\\\n",
        "   2 & 3 & 4 & 5\n",
        "   \\end{pmatrix}\n",
        "   $\n",
        "   - **Expand along the second row** (contains two zeros):  \n",
        "     $\n",
        "     \\det(M_{31}) = -4 \\cdot \\det\\begin{pmatrix} 1 & 4 & 5 \\\\ 4 & 3 & 2 \\\\ 3 & 4 & 5 \\end{pmatrix} + 7 \\cdot \\det\\begin{pmatrix} 3 & 1 & 4 \\\\ 1 & 4 & 3 \\\\ 2 & 3 & 4 \\end{pmatrix}\n",
        "     $\n",
        "   - **Compute the 3×3 determinants:**  \n",
        "     - First minor:  \n",
        "       $\n",
        "       \\det\\begin{pmatrix} 1 & 4 & 5 \\\\ 4 & 3 & 2 \\\\ 3 & 4 & 5 \\end{pmatrix} = -14\n",
        "       $\n",
        "     - Second minor:  \n",
        "       $\n",
        "       \\det\\begin{pmatrix} 3 & 1 & 4 \\\\ 1 & 4 & 3 \\\\ 2 & 3 & 4 \\end{pmatrix} = 3\n",
        "       $\n",
        "   - Combine results:  \n",
        "     $\n",
        "     \\det(M_{31}) = -4(-14) + 7(3) = 56 + 21 = 77\n",
        "     $\n",
        "\n",
        "3. **Final determinant of \\( D \\):**  \n",
        "   $\n",
        "   \\det(D) = 3 \\cdot 77 = 231\n",
        "   $\n",
        "\n",
        "---\n",
        "\n",
        "### Final Answer:  \n",
        "$\n",
        "\\boxed{231}\n",
        "$"
      ],
      "metadata": {
        "id": "QBNCrIU1-wPb"
      }
    },
    {
      "cell_type": "markdown",
      "source": [],
      "metadata": {
        "id": "p6ulE61bJ_MH"
      }
    },
    {
      "cell_type": "code",
      "source": [
        "\n",
        "\n",
        "# 5x5 Matrix\n",
        "D = sp.Matrix([[2, 3, 1, 4, 5], [1, 4, 0, 0, 7], [3, 0, 0, 0, 0], [2, 1, 4, 3, 2], [1, 2, 3, 4, 5]]) # Separate each row with a comma\n",
        "D"
      ],
      "metadata": {
        "colab": {
          "base_uri": "https://localhost:8080/",
          "height": 119
        },
        "id": "zdBlgUByh_qT",
        "outputId": "71797637-3554-4caf-920a-06a5091c133e"
      },
      "execution_count": null,
      "outputs": [
        {
          "output_type": "execute_result",
          "data": {
            "text/plain": [
              "Matrix([\n",
              "[2, 3, 1, 4, 5],\n",
              "[1, 4, 0, 0, 7],\n",
              "[3, 0, 0, 0, 0],\n",
              "[2, 1, 4, 3, 2],\n",
              "[1, 2, 3, 4, 5]])"
            ],
            "text/latex": "$\\displaystyle \\left[\\begin{matrix}2 & 3 & 1 & 4 & 5\\\\1 & 4 & 0 & 0 & 7\\\\3 & 0 & 0 & 0 & 0\\\\2 & 1 & 4 & 3 & 2\\\\1 & 2 & 3 & 4 & 5\\end{matrix}\\right]$"
          },
          "metadata": {},
          "execution_count": 5
        }
      ]
    },
    {
      "cell_type": "code",
      "source": [
        "# Verify the correctness of the calculations\n",
        "M11 = sp.Matrix([[4, 0, 0, 7], [0, 0, 0, 0,], [1, 4, 3, 2], [2, 3, 4, 5]])\n",
        "M12 = sp.Matrix([[1, 0, 0, 7], [3,0, 0, 0], [2, 4, 3, 2], [1, 3, 4, 5]])\n",
        "M13 = sp.Matrix([[1, 4, 0, 7], [3, 0, 0, 0], [2, 1, 3, 2], [1, 2, 4, 5]])\n",
        "M14 = sp.Matrix([[1, 4, 0, 7], [3, 0, 0, 0], [2, 1, 4, 2], [1, 2, 3, 5]])\n",
        "M15 = sp.Matrix([[1, 4, 0, 0], [3, 0, 0, 0], [2, 1, 4, 3], [1, 2, 3, 4]])\n",
        "\n",
        "(2*M11.det() - 3*M12.det() + 1*M13.det() - 4*M14.det() + 5*M15.det()) == D.det()\n",
        "d = 2*M11.det() - 3*M12.det() + 1*M13.det() - 4*M14.det() + 5*M15.det()\n",
        "d == D.det()"
      ],
      "metadata": {
        "colab": {
          "base_uri": "https://localhost:8080/"
        },
        "id": "xoQaeH_ciDTX",
        "outputId": "bd1824f0-7e3d-4303-a191-e5d9691f232f"
      },
      "execution_count": null,
      "outputs": [
        {
          "output_type": "execute_result",
          "data": {
            "text/plain": [
              "True"
            ]
          },
          "metadata": {},
          "execution_count": 6
        }
      ]
    },
    {
      "cell_type": "markdown",
      "source": [
        "The determinant of matrix \\( D \\) is calculated as follows:\n",
        "\n",
        "\\[\n",
        "\\det(D) = 231\n",
        "\\]\n",
        "\n",
        "---\n",
        "\n",
        "### Step-by-Step Explanation:\n",
        "\n",
        "1. **Expand along the third row** (contains three zeros for simplification):  \n",
        "   \\[\n",
        "   \\det(D) = 3 \\cdot (-1)^{3+1} \\cdot M_{31} = 3 \\cdot M_{31}\n",
        "   \\]\n",
        "   where \\( M_{31} \\) is the minor obtained by removing row 3 and column 1.\n",
        "\n",
        "2. **Calculate minor \\( M_{31} \\):**\n",
        "   \\[\n",
        "   M_{31} = \\det\\begin{pmatrix}\n",
        "   3 & 1 & 4 & 5 \\\\\n",
        "   4 & 0 & 0 & 7 \\\\\n",
        "   1 & 4 & 3 & 2 \\\\\n",
        "   2 & 3 & 4 & 5\n",
        "   \\end{pmatrix}\n",
        "   \\]\n",
        "   - **Expand along the second row** (contains two zeros):  \n",
        "     \\[\n",
        "     \\det(M_{31}) = -4 \\cdot \\det\\begin{pmatrix} 1 & 4 & 5 \\\\ 4 & 3 & 2 \\\\ 3 & 4 & 5 \\end{pmatrix} + 7 \\cdot \\det\\begin{pmatrix} 3 & 1 & 4 \\\\ 1 & 4 & 3 \\\\ 2 & 3 & 4 \\end{pmatrix}\n",
        "     \\]\n",
        "   - **Compute the 3×3 determinants:**  \n",
        "     - First minor:  \n",
        "       \\[\n",
        "       \\det\\begin{pmatrix} 1 & 4 & 5 \\\\ 4 & 3 & 2 \\\\ 3 & 4 & 5 \\end{pmatrix} = -14\n",
        "       \\]\n",
        "     - Second minor:  \n",
        "       \\[\n",
        "       \\det\\begin{pmatrix} 3 & 1 & 4 \\\\ 1 & 4 & 3 \\\\ 2 & 3 & 4 \\end{pmatrix} = 3\n",
        "       \\]\n",
        "   - Combine results:  \n",
        "     \\[\n",
        "     \\det(M_{31}) = -4(-14) + 7(3) = 56 + 21 = 77\n",
        "     \\]\n",
        "\n",
        "3. **Final determinant of \\( D \\):**  \n",
        "   \\[\n",
        "   \\det(D) = 3 \\cdot 77 = 231\n",
        "   \\]\n",
        "\n",
        "---\n",
        "\n",
        "### Final Answer:  \n",
        "\\[\n",
        "\\boxed{231}"
      ],
      "metadata": {
        "id": "t8bekzh0Bnn0"
      }
    },
    {
      "cell_type": "code",
      "source": [],
      "metadata": {
        "id": "WMOg9SmpiFt1"
      },
      "execution_count": null,
      "outputs": []
    }
  ]
}