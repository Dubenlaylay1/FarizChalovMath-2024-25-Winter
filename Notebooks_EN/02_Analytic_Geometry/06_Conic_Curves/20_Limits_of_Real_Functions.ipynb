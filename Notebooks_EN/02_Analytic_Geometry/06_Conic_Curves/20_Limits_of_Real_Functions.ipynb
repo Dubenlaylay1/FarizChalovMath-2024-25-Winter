{
  "nbformat": 4,
  "nbformat_minor": 0,
  "metadata": {
    "colab": {
      "provenance": [],
      "authorship_tag": "ABX9TyMtUslt1p2O8CTlfInx3LdC",
      "include_colab_link": true
    },
    "kernelspec": {
      "name": "python3",
      "display_name": "Python 3"
    },
    "language_info": {
      "name": "python"
    }
  },
  "cells": [
    {
      "cell_type": "markdown",
      "metadata": {
        "id": "view-in-github",
        "colab_type": "text"
      },
      "source": [
        "<a href=\"https://colab.research.google.com/github/Dubenlaylay1/FarizChalovMath-2024-25-Winter/blob/main/20_Limits_of_Real_Functions.ipynb\" target=\"_parent\"><img src=\"https://colab.research.google.com/assets/colab-badge.svg\" alt=\"Open In Colab\"/></a>"
      ]
    },
    {
      "cell_type": "code",
      "execution_count": 1,
      "metadata": {
        "colab": {
          "base_uri": "https://localhost:8080/"
        },
        "id": "bBqABPCkvOOl",
        "outputId": "f7ed45fa-e1ba-4ccc-b7ab-fe5c7b5bd154"
      },
      "outputs": [
        {
          "output_type": "stream",
          "name": "stdout",
          "text": [
            "The limit of the expression as x → ∞ is: 0\n"
          ]
        }
      ],
      "source": [
        "#1\n",
        "from sympy import symbols, limit, oo\n",
        "\n",
        "# Define the variable\n",
        "x = symbols('x')\n",
        "\n",
        "# Define the expression\n",
        "expression = (x**3 + 2*x**2) / (x**4 - 3*x**3)\n",
        "\n",
        "# Compute the limit as x approaches infinity\n",
        "result = limit(expression, x, oo)\n",
        "\n",
        "# Print the result\n",
        "print(\"The limit of the expression as x → ∞ is:\", result)\n"
      ]
    },
    {
      "cell_type": "code",
      "source": [
        "#2\n",
        "from sympy import symbols, sin, limit\n",
        "\n",
        "# Define the variable\n",
        "x = symbols('x')\n",
        "\n",
        "# Define the expression\n",
        "expression = sin(3*x) / (2*x + 1)\n",
        "\n",
        "# Compute the limit as x approaches 0\n",
        "result = limit(expression, x, 0)\n",
        "\n",
        "# Print the result\n",
        "print(\"The limit of the expression as x → 0 is:\", result)\n"
      ],
      "metadata": {
        "colab": {
          "base_uri": "https://localhost:8080/"
        },
        "id": "TrkgVYVxvphd",
        "outputId": "250ec064-fda4-42f3-bcb3-f26749f441a6"
      },
      "execution_count": 2,
      "outputs": [
        {
          "output_type": "stream",
          "name": "stdout",
          "text": [
            "The limit of the expression as x → 0 is: 0\n"
          ]
        }
      ]
    },
    {
      "cell_type": "code",
      "source": [
        "#3.1\n",
        "from sympy import symbols, limit, oo, solve\n",
        "\n",
        "# Define the variable and the function\n",
        "x = symbols('x')\n",
        "f = (x**2 - 1) / (x**2 + 1)\n",
        "\n",
        "# 1. Vertical Asymptotes (denominator equals zero)\n",
        "denominator = x**2 + 1\n",
        "vertical_asymptotes = solve(denominator, x)\n",
        "print(\"Vertical Asymptotes:\", vertical_asymptotes)\n",
        "\n",
        "# 2. Horizontal Asymptotes (limit as x → ±∞)\n",
        "horizontal_asymptote_pos_inf = limit(f, x, oo)\n",
        "horizontal_asymptote_neg_inf = limit(f, x, -oo)\n",
        "print(\"Horizontal Asymptote as x → ∞:\", horizontal_asymptote_pos_inf)\n",
        "print(\"Horizontal Asymptote as x → -∞:\", horizontal_asymptote_neg_inf)\n"
      ],
      "metadata": {
        "colab": {
          "base_uri": "https://localhost:8080/"
        },
        "id": "NIeI7EgZwGEK",
        "outputId": "b035a2ef-c462-450b-a687-1995ca263530"
      },
      "execution_count": 3,
      "outputs": [
        {
          "output_type": "stream",
          "name": "stdout",
          "text": [
            "Vertical Asymptotes: [-I, I]\n",
            "Horizontal Asymptote as x → ∞: 1\n",
            "Horizontal Asymptote as x → -∞: 1\n"
          ]
        }
      ]
    },
    {
      "cell_type": "code",
      "source": [
        "#3.2\n",
        "from sympy import symbols, sin, limit, oo\n",
        "\n",
        "# Define the variable\n",
        "x = symbols('x')\n",
        "\n",
        "# Define the expression\n",
        "g_x = sin(x) / (x**2 + 1)\n",
        "\n",
        "# Analysis of vertical asymptotes\n",
        "# The denominator x^2 + 1 has no real roots, so no vertical asymptotes\n",
        "# (No real solutions for x^2 + 1 = 0 as x^2 = -1 has no real solutions)\n",
        "\n",
        "# Analysis of horizontal asymptotes\n",
        "# Compute the limit as x approaches positive infinity\n",
        "horizontal_asymptote_pos_inf = limit(g_x, x, oo)\n",
        "\n",
        "# Compute the limit as x approaches negative infinity\n",
        "horizontal_asymptote_neg_inf = limit(g_x, x, -oo)\n",
        "\n",
        "# Print the results\n",
        "print(\"Horizontal asymptote as x → ∞ is:\", horizontal_asymptote_pos_inf)\n",
        "print(\"Horizontal asymptote as x → -∞ is:\", horizontal_asymptote_neg_inf)\n",
        "\n"
      ],
      "metadata": {
        "colab": {
          "base_uri": "https://localhost:8080/"
        },
        "id": "XNPwMm6dw2SB",
        "outputId": "be3f1422-0d0b-4c57-8838-cb83d6506aa3"
      },
      "execution_count": 6,
      "outputs": [
        {
          "output_type": "stream",
          "name": "stdout",
          "text": [
            "Horizontal asymptote as x → ∞ is: 0\n",
            "Horizontal asymptote as x → -∞ is: 0\n"
          ]
        }
      ]
    },
    {
      "cell_type": "code",
      "source": [],
      "metadata": {
        "id": "qi6e98OXxHr_"
      },
      "execution_count": null,
      "outputs": []
    }
  ]
}