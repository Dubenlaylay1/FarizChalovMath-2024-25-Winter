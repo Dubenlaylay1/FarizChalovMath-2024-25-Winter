{
  "nbformat": 4,
  "nbformat_minor": 0,
  "metadata": {
    "colab": {
      "provenance": [],
      "authorship_tag": "ABX9TyNMgSx7nKDLGTG1D7+gGtkC",
      "include_colab_link": true
    },
    "kernelspec": {
      "name": "python3",
      "display_name": "Python 3"
    },
    "language_info": {
      "name": "python"
    }
  },
  "cells": [
    {
      "cell_type": "markdown",
      "metadata": {
        "id": "view-in-github",
        "colab_type": "text"
      },
      "source": [
        "<a href=\"https://colab.research.google.com/github/Dubenlaylay1/FarizChalovMath-2024-25-Winter/blob/main/19_Limits_of_Sequences.ipynb\" target=\"_parent\"><img src=\"https://colab.research.google.com/assets/colab-badge.svg\" alt=\"Open In Colab\"/></a>"
      ]
    },
    {
      "cell_type": "code",
      "execution_count": 2,
      "metadata": {
        "colab": {
          "base_uri": "https://localhost:8080/"
        },
        "id": "khddyNustH5k",
        "outputId": "66e9310a-bfd8-4bc9-d3c8-527c8b02e28f"
      },
      "outputs": [
        {
          "output_type": "stream",
          "name": "stdout",
          "text": [
            "The limit is: 1/2\n"
          ]
        }
      ],
      "source": [
        "#1\n",
        "from sympy import symbols, limit, oo\n",
        "\n",
        "# Define the variable\n",
        "n = symbols('n')\n",
        "\n",
        "# Define the sequence\n",
        "sequence = (n**2 + 3*n) / (2*n**2 - 2*n)\n",
        "\n",
        "# Calculate the limit as n approaches infinity\n",
        "result = limit(sequence, n, oo)\n",
        "print(\"The limit is:\", result)\n"
      ]
    },
    {
      "cell_type": "code",
      "source": [
        "#1.2\n",
        "from sympy import symbols, limit, oo\n",
        "\n",
        "# Define the variable\n",
        "n = symbols('n')\n",
        "\n",
        "# Define the sequence\n",
        "sequence = ((2*n + 3)**3) / (n**3 - 1)\n",
        "\n",
        "# Calculate the limit as n approaches infinity\n",
        "result = limit(sequence, n, oo)\n",
        "print(\"The limit is:\", result)\n"
      ],
      "metadata": {
        "colab": {
          "base_uri": "https://localhost:8080/"
        },
        "id": "dN4UQwphtItQ",
        "outputId": "bb5d6d2a-099d-4e96-cf0c-319d46cf31b1"
      },
      "execution_count": 4,
      "outputs": [
        {
          "output_type": "stream",
          "name": "stdout",
          "text": [
            "The limit is: 8\n"
          ]
        }
      ]
    },
    {
      "cell_type": "code",
      "source": [
        "#2\n",
        "from sympy import symbols, sin, limit, oo\n",
        "\n",
        "# Define the variable\n",
        "n = symbols('n')\n",
        "\n",
        "# Define the bounds\n",
        "lower_bound = -1 / n\n",
        "upper_bound = 1 / n\n",
        "sequence = sin(n) / n\n",
        "\n",
        "# Calculate the limits of the bounds and the sequence as n approaches infinity\n",
        "lower_limit = limit(lower_bound, n, oo)\n",
        "upper_limit = limit(upper_bound, n, oo)\n",
        "sequence_limit = limit(sequence, n, oo)\n",
        "\n",
        "# Display the results\n",
        "print(\"Lower Bound Limit:\", lower_limit)\n",
        "print(\"Upper Bound Limit:\", upper_limit)\n",
        "print(\"Sequence Limit:\", sequence_limit)\n",
        "\n",
        "# Conclusion: Squeeze Theorem applies because lower_limit = upper_limit = sequence_limit = 0\n",
        "\n"
      ],
      "metadata": {
        "colab": {
          "base_uri": "https://localhost:8080/"
        },
        "id": "cfSmXbeFtiiJ",
        "outputId": "30177ae5-3992-40bc-e3b0-d23343599311"
      },
      "execution_count": 5,
      "outputs": [
        {
          "output_type": "stream",
          "name": "stdout",
          "text": [
            "Lower Bound Limit: 0\n",
            "Upper Bound Limit: 0\n",
            "Sequence Limit: 0\n"
          ]
        }
      ]
    },
    {
      "cell_type": "code",
      "source": [
        "#3\n",
        "from sympy import symbols, limit, oo\n",
        "\n",
        "# Define the variable\n",
        "n = symbols('n')\n",
        "\n",
        "# Define the sequence\n",
        "sequence = (1 + 1/n)**n\n",
        "\n",
        "# Compute the limit as n approaches infinity\n",
        "result = limit(sequence, n, oo)\n",
        "\n",
        "# Print the result\n",
        "print(\"The limit of the sequence (1 + 1/n)^n as n → ∞ is:\", result)\n"
      ],
      "metadata": {
        "colab": {
          "base_uri": "https://localhost:8080/"
        },
        "id": "KzLZT7Ykuq0T",
        "outputId": "4f6e1dd5-592a-4b49-d986-f67df8c5e5c7"
      },
      "execution_count": 9,
      "outputs": [
        {
          "output_type": "stream",
          "name": "stdout",
          "text": [
            "The limit of the sequence (1 + 1/n)^n as n → ∞ is: E\n"
          ]
        }
      ]
    },
    {
      "cell_type": "code",
      "source": [],
      "metadata": {
        "id": "rw0n9JFzu3gZ"
      },
      "execution_count": null,
      "outputs": []
    }
  ]
}