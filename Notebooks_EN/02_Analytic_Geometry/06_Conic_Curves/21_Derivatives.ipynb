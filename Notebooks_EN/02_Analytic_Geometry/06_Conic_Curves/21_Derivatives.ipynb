{
  "nbformat": 4,
  "nbformat_minor": 0,
  "metadata": {
    "colab": {
      "provenance": [],
      "authorship_tag": "ABX9TyPo+M309FKUoO7eyPyfiRVI",
      "include_colab_link": true
    },
    "kernelspec": {
      "name": "python3",
      "display_name": "Python 3"
    },
    "language_info": {
      "name": "python"
    }
  },
  "cells": [
    {
      "cell_type": "markdown",
      "metadata": {
        "id": "view-in-github",
        "colab_type": "text"
      },
      "source": [
        "<a href=\"https://colab.research.google.com/github/Dubenlaylay1/FarizChalovMath-2024-25-Winter/blob/main/21_Derivatives.ipynb\" target=\"_parent\"><img src=\"https://colab.research.google.com/assets/colab-badge.svg\" alt=\"Open In Colab\"/></a>"
      ]
    },
    {
      "cell_type": "code",
      "execution_count": 1,
      "metadata": {
        "colab": {
          "base_uri": "https://localhost:8080/"
        },
        "id": "BtIkOoMsQRcH",
        "outputId": "b9974086-ebd0-4420-b417-f92bd6090881"
      },
      "outputs": [
        {
          "output_type": "stream",
          "name": "stdout",
          "text": [
            "Function 1: 3 - 3*x\n",
            "Derivative 1: -3\n",
            "\n",
            "Function 2: pi*x + sin(1)\n",
            "Derivative 2: pi\n",
            "\n",
            "Function 3: sin(2) + 4\n",
            "Derivative 3: 0\n",
            "\n",
            "Function 4: 2*x**3 - 3*x**2 + 8*x - 9\n",
            "Derivative 4: 6*x**2 - 6*x + 8\n",
            "\n",
            "Function 5: 6*x**0.333333333333333\n",
            "Derivative 5: 2.0/x**0.666666666666667\n",
            "\n",
            "Function 6: sqrt(x)\n",
            "Derivative 6: 1/(2*sqrt(x))\n",
            "\n",
            "Function 7: sin(x) + cos(x)\n",
            "Derivative 7: -sin(x) + cos(x)\n",
            "\n",
            "Function 8: 2*sin(x)*cos(x)\n",
            "Derivative 8: -2*sin(x)**2 + 2*cos(x)**2\n",
            "\n",
            "Function 9: x*sin(x)\n",
            "Derivative 9: x*cos(x) + sin(x)\n",
            "\n",
            "Function 10: (x + 1)**2\n",
            "Derivative 10: 2*x + 2\n",
            "\n",
            "Function 11: x/(x + 1)\n",
            "Derivative 11: -x/(x + 1)**2 + 1/(x + 1)\n",
            "\n",
            "Function 12: (x + 1)*exp(x)\n",
            "Derivative 12: (x + 1)*exp(x) + exp(x)\n",
            "\n",
            "Function 13: sin(x**2)\n",
            "Derivative 13: 2*x*cos(x**2)\n",
            "\n",
            "Function 14: exp(-2*x)\n",
            "Derivative 14: -2*exp(-2*x)\n",
            "\n",
            "Function 15: 1/sin(x + 1)\n",
            "Derivative 15: -cos(x + 1)/sin(x + 1)**2\n",
            "\n",
            "Function 16: sqrt(2*x + 1)\n",
            "Derivative 16: 1/sqrt(2*x + 1)\n",
            "\n"
          ]
        }
      ],
      "source": [
        "from sympy import symbols, diff, sin, cos, sqrt, exp, pi\n",
        "\n",
        "# Simvolik dəyişənlər\n",
        "x = symbols('x')\n",
        "\n",
        "# Funksiyalar və törəmələri\n",
        "functions = [\n",
        "    -3*x + 3,\n",
        "    pi*x + sin(1),\n",
        "    4 + sin(2),\n",
        "    2*x**3 - 3*x**2 + 8*x - 9,\n",
        "    6*x**(1/3),\n",
        "    sqrt(x),\n",
        "    cos(x) + sin(x),\n",
        "    2*sin(x)*cos(x),\n",
        "    x*sin(x),\n",
        "    (x + 1)*(x + 1),\n",
        "    x / (x + 1),\n",
        "    (x + 1)*exp(x),\n",
        "    sin(x**2),\n",
        "    exp(-2*x),\n",
        "    1 / sin(x + 1),\n",
        "    sqrt(2*x + 1)\n",
        "]\n",
        "\n",
        "# Törəmələri hesabla və nəticələri göstər\n",
        "for i, func in enumerate(functions, start=1):\n",
        "    derivative = diff(func, x)\n",
        "    print(f\"Function {i}: {func}\")\n",
        "    print(f\"Derivative {i}: {derivative}\\n\")\n"
      ]
    },
    {
      "cell_type": "code",
      "source": [
        "#2\n",
        "from sympy import symbols, diff, ln, sin, cot, simplify\n",
        "\n",
        "# Simvolik dəyişən\n",
        "theta = symbols('x')\n",
        "\n",
        "# Funksiya\n",
        "func = ln(sin(theta))\n",
        "\n",
        "# Funksiyanın törəməsini hesabla\n",
        "derivative = diff(func, theta)\n",
        "\n",
        "# Törəməni sadələşdir və cot(x) ilə müqayisə et\n",
        "expected = cot(theta)\n",
        "\n",
        "# Nəticəni çap et\n",
        "print(\"Function:\", func)\n",
        "print(\"Derivative:\", derivative)\n",
        "print(\"Simplified Derivative:\", simplify(derivative))\n",
        "print(\"Is derivative equal to cot(x)?:\", simplify(derivative - expected) == 0)\n"
      ],
      "metadata": {
        "colab": {
          "base_uri": "https://localhost:8080/"
        },
        "id": "F7yeeOQWXLX1",
        "outputId": "004ab8bd-0b8e-4535-cad6-0665256efdfa"
      },
      "execution_count": 2,
      "outputs": [
        {
          "output_type": "stream",
          "name": "stdout",
          "text": [
            "Function: log(sin(x))\n",
            "Derivative: cos(x)/sin(x)\n",
            "Simplified Derivative: 1/tan(x)\n",
            "Is derivative equal to cot(x)?: True\n"
          ]
        }
      ]
    },
    {
      "cell_type": "code",
      "source": [
        "#3\n",
        "from sympy import symbols, diff, cos, simplify\n",
        "\n",
        "# Simvolik dəyişən\n",
        "x = symbols('x')\n",
        "\n",
        "# Funksiya\n",
        "f = cos(x)\n",
        "\n",
        "# Birinci törəmə\n",
        "f_prime = diff(f, x)\n",
        "\n",
        "# İkinci törəmə\n",
        "f_double_prime = diff(f_prime, x)\n",
        "\n",
        "# Fərqi yoxlayırıq\n",
        "result = simplify(f_double_prime + f)\n",
        "\n",
        "# Nəticələri çap edirik\n",
        "print(\"Function, f(x):\", f)\n",
        "print(\"First Derivative, f'(x):\", f_prime)\n",
        "print(\"Second Derivative, f''(x):\", f_double_prime)\n",
        "print(\"Is f''(x) + f(x) = 0? :\", result == 0)\n"
      ],
      "metadata": {
        "colab": {
          "base_uri": "https://localhost:8080/"
        },
        "id": "UE8dzV3HYg41",
        "outputId": "ab8db01b-6bb7-457a-bee1-d7dbe03fa5d0"
      },
      "execution_count": 3,
      "outputs": [
        {
          "output_type": "stream",
          "name": "stdout",
          "text": [
            "Function, f(x): cos(x)\n",
            "First Derivative, f'(x): -sin(x)\n",
            "Second Derivative, f''(x): -cos(x)\n",
            "Is f''(x) + f(x) = 0? : True\n"
          ]
        }
      ]
    },
    {
      "cell_type": "code",
      "source": [
        "#4\n",
        "import sympy as sp\n",
        "\n",
        "# Define the variables\n",
        "x = sp.symbols('x')\n",
        "\n",
        "# Define the functions for the limits\n",
        "f1 = sp.sin(x) / x\n",
        "f2 = sp.ln(x) / x\n",
        "f3 = sp.exp(x) / x\n",
        "\n",
        "# Calculate the limits using sympy's limit function\n",
        "limit1 = sp.limit(f1, x, 0)\n",
        "limit2 = sp.limit(f2, x, sp.oo)\n",
        "limit3 = sp.limit(f3, x, sp.oo)\n",
        "\n",
        "# Print the results\n",
        "print(\"lim (x -> 0) sin(x)/x =\", limit1)\n",
        "print(\"lim (x -> ∞) ln(x)/x =\", limit2)\n",
        "print(\"lim (x -> ∞) exp(x)/x =\", limit3)\n",
        "\n",
        "# Identify the improper limit\n",
        "if limit3 == sp.oo:\n",
        "    print(\"The limit lim (x -> ∞) exp(x)/x is an improper limit because it diverges to infinity.\")\n",
        "\n"
      ],
      "metadata": {
        "colab": {
          "base_uri": "https://localhost:8080/"
        },
        "id": "X-Add4CZYtx_",
        "outputId": "fdd1fd44-93d0-4ccd-e0a5-9f9f745ae468"
      },
      "execution_count": 5,
      "outputs": [
        {
          "output_type": "stream",
          "name": "stdout",
          "text": [
            "lim (x -> 0) sin(x)/x = 1\n",
            "lim (x -> ∞) ln(x)/x = 0\n",
            "lim (x -> ∞) exp(x)/x = oo\n",
            "The limit lim (x -> ∞) exp(x)/x is an improper limit because it diverges to infinity.\n"
          ]
        }
      ]
    },
    {
      "cell_type": "code",
      "source": [
        "#5\n",
        "import sympy as sp\n",
        "\n",
        "# Define the variable\n",
        "t = sp.symbols('t')\n",
        "\n",
        "# Define the position function\n",
        "x_t = 3 * t**2 - 6 * t + 1\n",
        "\n",
        "# Calculate velocity and acceleration\n",
        "v_t = sp.diff(x_t, t)  # Velocity is the first derivative of position\n",
        "a_t = sp.diff(v_t, t)  # Acceleration is the second derivative of position\n",
        "\n",
        "# Evaluate velocity and acceleration at t = 2\n",
        "v_at_2 = v_t.subs(t, 2)\n",
        "a_at_2 = a_t.subs(t, 2)\n",
        "\n",
        "# Print the results\n",
        "print(\"Position function x(t) =\", x_t)\n",
        "print(\"Velocity function V(t) =\", v_t)\n",
        "print(\"Acceleration function A(t) =\", a_t)\n",
        "print(\"Velocity at t = 2:\", v_at_2)\n",
        "print(\"Acceleration at t = 2:\", a_at_2)\n"
      ],
      "metadata": {
        "colab": {
          "base_uri": "https://localhost:8080/"
        },
        "id": "oUJx-iHmZzw9",
        "outputId": "1da71ac6-cf01-45b8-b0b6-ed27ae6558c2"
      },
      "execution_count": 7,
      "outputs": [
        {
          "output_type": "stream",
          "name": "stdout",
          "text": [
            "Position function x(t) = 3*t**2 - 6*t + 1\n",
            "Velocity function V(t) = 6*t - 6\n",
            "Acceleration function A(t) = 6\n",
            "Velocity at t = 2: 6\n",
            "Acceleration at t = 2: 6\n"
          ]
        }
      ]
    },
    {
      "cell_type": "code",
      "source": [],
      "metadata": {
        "id": "WBY-6-zzaUb0"
      },
      "execution_count": null,
      "outputs": []
    }
  ]
}