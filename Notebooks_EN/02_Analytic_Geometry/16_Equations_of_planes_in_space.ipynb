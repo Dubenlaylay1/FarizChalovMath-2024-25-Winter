{
  "nbformat": 4,
  "nbformat_minor": 0,
  "metadata": {
    "colab": {
      "provenance": [],
      "authorship_tag": "ABX9TyMgFmd5kN2QWPB/lIgTV2s+",
      "include_colab_link": true
    },
    "kernelspec": {
      "name": "python3",
      "display_name": "Python 3"
    },
    "language_info": {
      "name": "python"
    }
  },
  "cells": [
    {
      "cell_type": "markdown",
      "metadata": {
        "id": "view-in-github",
        "colab_type": "text"
      },
      "source": [
        "<a href=\"https://colab.research.google.com/github/Dubenlaylay1/FarizChalovMath-2024-25-Winter/blob/main/16_Equations_of_planes_in_space.ipynb\" target=\"_parent\"><img src=\"https://colab.research.google.com/assets/colab-badge.svg\" alt=\"Open In Colab\"/></a>"
      ]
    },
    {
      "cell_type": "code",
      "source": [
        "#1\n",
        "import numpy as np\n",
        "\n",
        "# Define the points A, B, and C as numpy arrays\n",
        "A = np.array([1, 2, 3])\n",
        "B = np.array([3, 4, 5])\n",
        "C = np.array([2, 1, 4])\n",
        "\n",
        "# Calculate two vectors in the plane\n",
        "AB = B - A\n",
        "AC = C - A\n",
        "\n",
        "# Calculate the normal vector to the plane using the cross product\n",
        "normal_vector = np.cross(AB, AC)\n",
        "\n",
        "# Extract the coefficients of the plane equation (ax + by + cz + d = 0)\n",
        "a, b, c = normal_vector\n",
        "\n",
        "# Find d using point A\n",
        "d = -np.dot(normal_vector, A)\n",
        "\n",
        "# Print the equation of the plane\n",
        "print(f\"The equation of the plane is: {a}x + {b}y + {c}z + {d} = 0\")"
      ],
      "metadata": {
        "colab": {
          "base_uri": "https://localhost:8080/"
        },
        "id": "Z4CtjvK1ijN2",
        "outputId": "3f15f18e-76b2-4a66-ada9-5cceae87266a"
      },
      "execution_count": 7,
      "outputs": [
        {
          "output_type": "stream",
          "name": "stdout",
          "text": [
            "The equation of the plane is: 4x + 0y + -4z + 8 = 0\n"
          ]
        }
      ]
    },
    {
      "cell_type": "code",
      "source": [
        "#2\n",
        "import sympy as sp\n",
        "\n",
        "# Define variables for the plane equation\n",
        "x, y, z = sp.symbols('x y z')\n",
        "\n",
        "# Normal vector coefficients\n",
        "a, b, c = 2, 3, 4\n",
        "\n",
        "# Point through which the plane passes\n",
        "point = (1, 2, 3)\n",
        "\n",
        "# Calculate 'd' using the point (substitute into the plane equation)\n",
        "d = a * point[0] + b * point[1] + c * point[2]\n",
        "\n",
        "# Define the equation of the plane\n",
        "plane_equation = sp.Eq(a * x + b * y + c * z, d)\n",
        "\n",
        "# Display the result\n",
        "print(\"The equation of the plane is:\", plane_equation)\n"
      ],
      "metadata": {
        "colab": {
          "base_uri": "https://localhost:8080/"
        },
        "id": "AgOLn82EybEm",
        "outputId": "569e84e4-c852-4ad9-e41a-096e17965da5"
      },
      "execution_count": 11,
      "outputs": [
        {
          "output_type": "stream",
          "name": "stdout",
          "text": [
            "The equation of the plane is: Eq(2*x + 3*y + 4*z, 20)\n"
          ]
        }
      ]
    },
    {
      "cell_type": "code",
      "source": [
        "#3\n",
        "import sympy as sp\n",
        "\n",
        "# Define the variables\n",
        "x, y, z = sp.symbols('x y z')\n",
        "\n",
        "# Define the normal vector and the point A\n",
        "normal_vector = (2, 3, 4)  # [a, b, c]\n",
        "point_A = (1, 2, 3)  # (x0, y0, z0)\n",
        "\n",
        "# Equation of the plane: a(x - x0) + b(y - y0) + c(z - z0) = 0\n",
        "plane_eq = (normal_vector[0] * (x - point_A[0]) +\n",
        "            normal_vector[1] * (y - point_A[1]) +\n",
        "            normal_vector[2] * (z - point_A[2]))\n",
        "\n",
        "# Simplify the equation\n",
        "plane_eq_simplified = sp.simplify(plane_eq)\n",
        "\n",
        "# Display the equation of the plane\n",
        "plane_eq_simplified\n"
      ],
      "metadata": {
        "colab": {
          "base_uri": "https://localhost:8080/",
          "height": 39
        },
        "id": "_eXkFRIyzy-h",
        "outputId": "3f13c070-3975-46fc-d5a5-0284cda6c68a"
      },
      "execution_count": 13,
      "outputs": [
        {
          "output_type": "execute_result",
          "data": {
            "text/plain": [
              "2*x + 3*y + 4*z - 20"
            ],
            "text/latex": "$\\displaystyle 2 x + 3 y + 4 z - 20$"
          },
          "metadata": {},
          "execution_count": 13
        }
      ]
    },
    {
      "cell_type": "code",
      "source": [
        "#4\n",
        "import sympy as sp\n",
        "\n",
        "# Define symbols\n",
        "x, y, z, t = sp.symbols('x y z t')\n",
        "\n",
        "# Define the planes\n",
        "plane1 = 2*x + 3*y + 4*z - 5\n",
        "plane2 = 3*x + 4*y + 2*z - 6\n",
        "\n",
        "# Solve for a point on the line (set one variable to a parameter, e.g., z = t)\n",
        "point_solution = sp.solve([plane1, plane2], (x, y))\n",
        "\n",
        "# Compute the normal vectors of the planes\n",
        "normal1 = sp.Matrix([2, 3, 4])\n",
        "normal2 = sp.Matrix([3, 4, 2])\n",
        "\n",
        "# Compute the direction vector (cross product of the normal vectors)\n",
        "direction_vector = normal1.cross(normal2)\n",
        "\n",
        "# Display results\n",
        "point_solution, direction_vector\n"
      ],
      "metadata": {
        "colab": {
          "base_uri": "https://localhost:8080/"
        },
        "id": "JiQnWDQ60FVS",
        "outputId": "0528ff08-2021-443f-fc76-d8457daea10c"
      },
      "execution_count": 14,
      "outputs": [
        {
          "output_type": "execute_result",
          "data": {
            "text/plain": [
              "({x: 10*z - 2, y: 3 - 8*z},\n",
              " Matrix([\n",
              " [-10],\n",
              " [  8],\n",
              " [ -1]]))"
            ]
          },
          "metadata": {},
          "execution_count": 14
        }
      ]
    },
    {
      "cell_type": "code",
      "source": [
        "#5\n",
        "import numpy as np\n",
        "\n",
        "# Define point A\n",
        "A = np.array([1, 2, 3])\n",
        "\n",
        "# Define vectors v1 and v2\n",
        "v1 = np.array([1, 0, 1])\n",
        "v2 = np.array([0, 1, -1])\n",
        "\n",
        "# Calculate the normal vector using the cross product\n",
        "n = np.cross(v1, v2)\n",
        "\n",
        "# Extract the components of the normal vector\n",
        "A_coef, B_coef, C_coef = n\n",
        "\n",
        "# Calculate D using the point A\n",
        "D = -np.dot(n, A)\n",
        "\n",
        "# Print the equation of the plane\n",
        "print(f\"The equation of the plane is: {A_coef}x + {B_coef}y + {C_coef}z + {D} = 0\")\n"
      ],
      "metadata": {
        "colab": {
          "base_uri": "https://localhost:8080/"
        },
        "id": "wOvnuVy-0hew",
        "outputId": "f1e22907-d96c-4032-c86a-070e0e73342f"
      },
      "execution_count": 15,
      "outputs": [
        {
          "output_type": "stream",
          "name": "stdout",
          "text": [
            "The equation of the plane is: -1x + 1y + 1z + -4 = 0\n"
          ]
        }
      ]
    },
    {
      "cell_type": "code",
      "source": [
        "#6\n",
        "import numpy as np\n",
        "\n",
        "# Define the normal vector of the given plane\n",
        "normal_vector = np.array([2, 3, 4])\n",
        "\n",
        "# Parallel Plane\n",
        "# Define a new constant D for the parallel plane\n",
        "D_parallel = 10\n",
        "\n",
        "# Print the equation of the parallel plane\n",
        "print(f\"The equation of the parallel plane is: 2x + 3y + 4z = {D_parallel}\")\n",
        "\n",
        "# Perpendicular Plane\n",
        "# Define a simple vector to find a perpendicular vector using the cross product\n",
        "simple_vector = np.array([1, 0, 0])\n",
        "\n",
        "# Calculate the perpendicular normal vector using the cross product\n",
        "perpendicular_normal_vector = np.cross(normal_vector, simple_vector)\n",
        "\n",
        "# Extract the components of the perpendicular normal vector\n",
        "A_perp, B_perp, C_perp = perpendicular_normal_vector\n",
        "\n",
        "# Assuming the perpendicular plane passes through the origin (0, 0, 0), D_perp = 0\n",
        "D_perp = 0\n",
        "\n",
        "# Print the equation of the perpendicular plane\n",
        "print(f\"The equation of the perpendicular plane is: {A_perp}x + {B_perp}y + {C_perp}z = {D_perp}\")\n"
      ],
      "metadata": {
        "colab": {
          "base_uri": "https://localhost:8080/"
        },
        "id": "vuiau3CR1IDU",
        "outputId": "f2b2b6a4-bab9-41ef-d79b-405a041a8368"
      },
      "execution_count": 16,
      "outputs": [
        {
          "output_type": "stream",
          "name": "stdout",
          "text": [
            "The equation of the parallel plane is: 2x + 3y + 4z = 10\n",
            "The equation of the perpendicular plane is: 0x + 4y + -3z = 0\n"
          ]
        }
      ]
    },
    {
      "cell_type": "code",
      "source": [
        "#7\n",
        "import numpy as np\n",
        "\n",
        "# Coordinates of the point\n",
        "x0, y0, z0 = 1, 2, 3\n",
        "\n",
        "# Coefficients of the plane equation 2x + 3y + 4z = 5\n",
        "A, B, C, D = 2, 3, 4, -5\n",
        "\n",
        "# Calculate the numerator of the distance formula\n",
        "numerator = abs(A * x0 + B * y0 + C * z0 + D)\n",
        "\n",
        "# Calculate the denominator of the distance formula\n",
        "denominator = np.sqrt(A**2 + B**2 + C**2)\n",
        "\n",
        "# Calculate the distance\n",
        "distance = numerator / denominator\n",
        "\n",
        "# Print the result\n",
        "print(f\"The distance from point A(1, 2, 3) to the plane 2x + 3y + 4z = 5 is approximately {distance:.3f} units.\")\n"
      ],
      "metadata": {
        "colab": {
          "base_uri": "https://localhost:8080/"
        },
        "id": "iqDiam9_1ecb",
        "outputId": "1557bbc1-f97a-41ad-a059-05fa89f2e2f9"
      },
      "execution_count": 17,
      "outputs": [
        {
          "output_type": "stream",
          "name": "stdout",
          "text": [
            "The distance from point A(1, 2, 3) to the plane 2x + 3y + 4z = 5 is approximately 2.785 units.\n"
          ]
        }
      ]
    },
    {
      "cell_type": "code",
      "source": [
        "#8\n",
        "# Define the intercepts\n",
        "a, b, c = 2, 3, 4\n",
        "\n",
        "# Calculate the coefficients for the standard form\n",
        "A_coef = b * c  # 3 * 4 = 12\n",
        "B_coef = a * c  # 2 * 4 = 8\n",
        "C_coef = a * b  # 2 * 3 = 6\n",
        "D_coef = -(a * b * c)  # -(2 * 3 * 4) = -24\n",
        "\n",
        "# Print the equation of the plane in standard form\n",
        "print(f\"The equation of the plane is: {A_coef}x + {B_coef}y + {C_coef}z + {D_coef} = 0\")\n"
      ],
      "metadata": {
        "colab": {
          "base_uri": "https://localhost:8080/"
        },
        "id": "xTa4LFrL106w",
        "outputId": "5aff70a3-34e1-4735-a9cb-3f30514f18e1"
      },
      "execution_count": 18,
      "outputs": [
        {
          "output_type": "stream",
          "name": "stdout",
          "text": [
            "The equation of the plane is: 12x + 8y + 6z + -24 = 0\n"
          ]
        }
      ]
    },
    {
      "cell_type": "code",
      "source": [
        "#9import sympy as sp\n",
        "\n",
        "# Define the normal vectors\n",
        "n1 = sp.Matrix([1, 1, 1])  # Normal vector of the plane x + y + z = 1\n",
        "n2 = sp.Matrix([1, 0, 0])  # Normal vector of the yz-plane (x = 0)\n",
        "\n",
        "# Calculate the dot product of the normal vectors\n",
        "dot_product = n1.dot(n2)\n",
        "\n",
        "# Calculate the magnitudes of the normal vectors\n",
        "magnitude_n1 = sp.sqrt(sum(component**2 for component in n1))\n",
        "magnitude_n2 = sp.sqrt(sum(component**2 for component in n2))\n",
        "\n",
        "# Calculate the cosine of the angle\n",
        "cos_theta = dot_product / (magnitude_n1 * magnitude_n2)\n",
        "\n",
        "# Calculate the angle in degrees\n",
        "theta = sp.acos(cos_theta)\n",
        "theta_degrees = sp.deg(theta)\n",
        "\n",
        "# Display the results\n",
        "print(\"Cosine of the angle:\", cos_theta)\n",
        "print(\"Angle in degrees:\", theta_degrees)\n"
      ],
      "metadata": {
        "colab": {
          "base_uri": "https://localhost:8080/"
        },
        "id": "AO2y4--R2Mu6",
        "outputId": "f700de2f-6b5a-40dc-a5d3-8c13a477122a"
      },
      "execution_count": 19,
      "outputs": [
        {
          "output_type": "stream",
          "name": "stdout",
          "text": [
            "Cosine of the angle: sqrt(3)/3\n",
            "Angle in degrees: 180*acos(sqrt(3)/3)/pi\n"
          ]
        }
      ]
    },
    {
      "cell_type": "code",
      "source": [
        "#10\n",
        "# Define the coefficients of the plane equation x + y + z = 1\n",
        "A, B, C = 1, 1, 1\n",
        "\n",
        "# The normal vector is simply the coefficients\n",
        "normal_vector = (A, B, C)\n",
        "\n",
        "# Print the normal vector\n",
        "print(f\"The normal vector to the plane x + y + z = 1 is {normal_vector}\")\n"
      ],
      "metadata": {
        "colab": {
          "base_uri": "https://localhost:8080/"
        },
        "id": "PHS5NSTX2zWh",
        "outputId": "59d30d01-ab78-4682-89b9-5a2b863b5d34"
      },
      "execution_count": 21,
      "outputs": [
        {
          "output_type": "stream",
          "name": "stdout",
          "text": [
            "The normal vector to the plane x + y + z = 1 is (1, 1, 1)\n"
          ]
        }
      ]
    },
    {
      "cell_type": "code",
      "source": [],
      "metadata": {
        "id": "2yg68mNe3Ct9"
      },
      "execution_count": null,
      "outputs": []
    }
  ]
}