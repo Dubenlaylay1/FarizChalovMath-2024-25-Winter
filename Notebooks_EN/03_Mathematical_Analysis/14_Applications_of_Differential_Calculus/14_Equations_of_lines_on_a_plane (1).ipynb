{
  "nbformat": 4,
  "nbformat_minor": 0,
  "metadata": {
    "colab": {
      "provenance": []
    },
    "kernelspec": {
      "name": "python3",
      "display_name": "Python 3"
    },
    "language_info": {
      "name": "python"
    }
  },
  "cells": [
    {
      "cell_type": "code",
      "execution_count": null,
      "metadata": {
        "colab": {
          "base_uri": "https://localhost:8080/"
        },
        "id": "fbQg4kTglMXP",
        "outputId": "643841dd-1e18-4acb-9897-4d11aeeee4b0"
      },
      "outputs": [
        {
          "output_type": "stream",
          "name": "stdout",
          "text": [
            "The equation of the line is: y = 1.0x + 1.0\n"
          ]
        }
      ],
      "source": [
        "#1\n",
        "# Define the points\n",
        "x1, y1 = 1, 2  # Point A\n",
        "x2, y2 = 3, 4  # Point B\n",
        "\n",
        "# Calculate the slope (m)\n",
        "m = (y2 - y1) / (x2 - x1)\n",
        "\n",
        "# Find the y-intercept (b) using the slope-intercept formula: y = mx + b\n",
        "b = y1 - m * x1\n",
        "\n",
        "# Print the equation of the line\n",
        "print(f\"The equation of the line is: y = {m}x + {b}\")\n"
      ]
    },
    {
      "cell_type": "markdown",
      "source": [
        "To find the equation of the line passing through points $ A(1, 2) $ and $ B(3, 4) $:\n",
        "\n",
        "### Step 1: Calculate the slope $\\ m \\$\n",
        "$\n",
        "m = \\frac{y_2 - y_1}{x_2 - x_1} = \\frac{4 - 2}{3 - 1} = \\frac{2}{2} = 1\n",
        "$\n",
        "\n",
        "### Step 2: Use the point-slope formula\n",
        "Using point $ A(1, 2) $:\n",
        "$\n",
        "y - y_1 = m(x - x_1) \\implies y - 2 = 1(x - 1)\n",
        "$\n",
        "\n",
        "### Step 3: Simplify to slope-intercept form\n",
        "$\n",
        "y - 2 = x - 1 \\implies y = x + 1\n",
        "$\n",
        "\n",
        "### Verification:\n",
        "- For $ A(1, 2) $: $ 2 = 1 + 1 \\quad \\checkmark $\n",
        "- For $ B(3, 4) $: $ 4 = 3 + 1 \\quad \\checkmark $\n",
        "\n",
        "### Final Answer:\n",
        "$\n",
        "\\boxed{y = x + 1}\n",
        "$"
      ],
      "metadata": {
        "id": "vSYcL5EjW5pQ"
      }
    },
    {
      "cell_type": "code",
      "source": [
        "#2\n",
        "# Define the given point\n",
        "x1, y1 = 1, 2  # Point A\n",
        "\n",
        "# Define the slope of the parallel line (same as the given line)\n",
        "m = 2  # Slope of the line y = 2x + 3\n",
        "\n",
        "# Use the point-slope formula: y - y1 = m(x - x1)\n",
        "# Rearrange to get the slope-intercept form: y = mx + b\n",
        "b = y1 - m * x1\n",
        "\n",
        "# Print the equation of the line\n",
        "print(f\"The equation of the line is: y = {m}x + {b}\")\n"
      ],
      "metadata": {
        "colab": {
          "base_uri": "https://localhost:8080/"
        },
        "id": "ZB1QhG0FnOoY",
        "outputId": "4000605f-cfe4-4ece-9e5e-d890536cd9b9"
      },
      "execution_count": null,
      "outputs": [
        {
          "output_type": "stream",
          "name": "stdout",
          "text": [
            "The equation of the line is: y = 2x + 0\n"
          ]
        }
      ]
    },
    {
      "cell_type": "markdown",
      "source": [
        "To find the equation of the line passing through point $ A(1, 2) $ and parallel to $ y = 2x + 3 $:\n",
        "\n",
        "### Step 1: Identify the slope\n",
        "Parallel lines share the same slope.  \n",
        "Given line: $ y = 2x + 3 $  \n",
        "Slope $ m \\ = $ 2 .\n",
        "\n",
        "### Step 2: Use the point-slope formula\n",
        "Substitute $ m = 2 $ and point $ (1, 2) $:  \n",
        "$\n",
        "y - y_1 = m(x - x_1) \\implies y - 2 = 2(x - 1)\n",
        "$\n",
        "\n",
        "### Step 3: Simplify to slope-intercept form\n",
        "$\n",
        "y - 2 = 2x - 2 \\implies y = 2x\n",
        "$\n",
        "\n",
        "### Verification:\n",
        "For point $ A(1, 2) $:  \n",
        "$\n",
        "2 = 2(1) \\quad \\checkmark\n",
        "$\n",
        "\n",
        "### Final Answer:\n",
        "$\n",
        "\\boxed{y = 2x}\n",
        "$"
      ],
      "metadata": {
        "id": "6GqXSGdcXJB4"
      }
    },
    {
      "cell_type": "code",
      "source": [
        "#3\n",
        "# Define the given point\n",
        "x1, y1 = 1, 2  # Point A\n",
        "\n",
        "# Define the slope of the perpendicular line\n",
        "# Slope of the given line y = 2x + 3 is 2\n",
        "# The slope of a perpendicular line is the negative reciprocal\n",
        "m_perpendicular = -1 / 2\n",
        "\n",
        "# Use the point-slope formula: y - y1 = m(x - x1)\n",
        "# Rearrange to get the slope-intercept form: y = mx + b\n",
        "b = y1 - m_perpendicular * x1\n",
        "\n",
        "# Print the equation of the line\n",
        "print(f\"The equation of the line is: y = {m_perpendicular}x + {b}\")\n"
      ],
      "metadata": {
        "colab": {
          "base_uri": "https://localhost:8080/"
        },
        "id": "GegedgrDnqZh",
        "outputId": "73680252-970b-4dd9-a177-2556246067a4"
      },
      "execution_count": null,
      "outputs": [
        {
          "output_type": "stream",
          "name": "stdout",
          "text": [
            "The equation of the line is: y = -0.5x + 2.5\n"
          ]
        }
      ]
    },
    {
      "cell_type": "markdown",
      "source": [
        "To find the equation of the line passing through point $ A(1, 2) $ and perpendicular to $ y = 2x + 3 $:\n",
        "\n",
        "### Step 1: Determine the slope of the perpendicular line  \n",
        "Perpendicular lines have slopes that are negative reciprocals.  \n",
        "Given line: $ y = 2x + 3 $  \n",
        "Slope of given line $$ m_1 \\$ = $ 2 $.  \n",
        "Slope of perpendicular line $ m_2 \\$ = $ -\\frac{1}{2} $.\n",
        "\n",
        "### Step 2: Use the point-slope formula  \n",
        "Substitute $ m = -\\frac{1}{2} $ and point $ (1, 2) $:  \n",
        "$\n",
        "y - y_1 = m(x - x_1) \\implies y - 2 = -\\frac{1}{2}(x - 1)\n",
        "$\n",
        "\n",
        "### Step 3: Simplify to slope-intercept form  \n",
        "$\n",
        "y - 2 = -\\frac{1}{2}x + \\frac{1}{2} \\implies y = -\\frac{1}{2}x + \\frac{5}{2}\n",
        "$\n",
        "\n",
        "### Verification:  \n",
        "For point \\( A(1, 2) \\):  \n",
        "$\n",
        "2 = -\\frac{1}{2}(1) + \\frac{5}{2} \\implies 2 = 2 \\quad \\checkmark\n",
        "$\n",
        "\n",
        "### Final Answer:  \n",
        "$\n",
        "\\boxed{y = -\\frac{1}{2}x + \\frac{5}{2}}\n",
        "$"
      ],
      "metadata": {
        "id": "AT-9RghtX1-5"
      }
    },
    {
      "cell_type": "code",
      "source": [
        "#4\n",
        "import math\n",
        "\n",
        "# Define the slopes of the lines\n",
        "m1 = 2  # Slope of line 1 (y = 2x + 3)\n",
        "m2 = 3  # Slope of line 2 (y = 3x + 2)\n",
        "\n",
        "# Solve for the intersection point\n",
        "# Line equations: y = 2x + 3 and y = 3x + 2\n",
        "# At intersection, 2x + 3 = 3x + 2\n",
        "# Rearrange to find x\n",
        "x_intersection = (3 - 2) / (3 - 2)\n",
        "y_intersection = 2 * x_intersection + 3\n",
        "\n",
        "# The intersection point\n",
        "intersection_point = (x_intersection, y_intersection)\n",
        "\n",
        "# Calculate the angle between the two lines\n",
        "tan_theta = abs((m1 - m2) / (1 + m1 * m2))\n",
        "theta_radians = math.atan(tan_theta)  # Angle in radians\n",
        "theta_degrees = math.degrees(theta_radians)  # Convert to degrees\n",
        "\n",
        "# Print the results\n",
        "print(f\"The intersection point of the lines is: {intersection_point}\")\n",
        "print(f\"The angle between the lines is approximately: {theta_degrees:.2f} degrees\")\n",
        "\n"
      ],
      "metadata": {
        "colab": {
          "base_uri": "https://localhost:8080/"
        },
        "id": "aUG647tloKCN",
        "outputId": "34dd7e7d-409f-49d2-d3ce-f7f469916375"
      },
      "execution_count": null,
      "outputs": [
        {
          "output_type": "stream",
          "name": "stdout",
          "text": [
            "The intersection point of the lines is: (1.0, 5.0)\n",
            "The angle between the lines is approximately: 8.13 degrees\n"
          ]
        }
      ]
    },
    {
      "cell_type": "markdown",
      "source": [
        "To find the intersection point and the angle between the lines \\( y = 2x + 3 \\) and \\( y = 3x + 2 \\):\n",
        "\n",
        "---\n",
        "\n",
        "### **1. Intersection Point**\n",
        "**Step 1:** Set the equations equal to solve for \\( x \\):\n",
        "$\n",
        "2x + 3 = 3x + 2 \\implies x = 1\n",
        "$\n",
        "\n",
        "**Step 2:** Substitute \\( x = 1 \\) into \\( y = 2x + 3 \\):\n",
        "$\n",
        "y = 2(1) + 3 = 5\n",
        "$\n",
        "\n",
        "**Intersection Point:** \\(\\boxed{(1, 5)}\\)\n",
        "\n",
        "---\n",
        "\n",
        "### **2. Angle Between the Lines**\n",
        "**Step 1:** Identify the slopes:\n",
        "- Slope of \\( y = 2x + 3 \\): \\( m_1 = 2 \\)\n",
        "- Slope of \\( y = 3x + 2 \\): \\( m_2 = 3 \\)\n",
        "\n",
        "**Step 2:** Use the angle formula:\n",
        "$\n",
        "\\tan\\theta = \\left| \\frac{m_2 - m_1}{1 + m_1 m_2} \\right| = \\left| \\frac{3 - 2}{1 + (2)(3)} \\right| = \\frac{1}{7}\n",
        "$\n",
        "\n",
        "**Step 3:** Solve for $ \\theta $:\n",
        "$\n",
        "\\theta = \\arctan\\left\\rac{1}{7}\\right) \\approx 8.13^\\circ\n",
        "$\n",
        "\n",
        "**Angle Between the Lines:** $\\boxed{8.13^\\circ}$\n",
        "\n",
        "---\n",
        "\n",
        "**Verification:**\n",
        "- **Intersection Point:** Both lines yield \\( y = 5 \\) when \\( x = 1 \\).\n",
        "- **Angle Calculation:** The small angle aligns with the closeness of the slopes (2 and 3)."
      ],
      "metadata": {
        "id": "5s3doQroZ3B0"
      }
    },
    {
      "cell_type": "code",
      "source": [
        "#5\n",
        "# Define the given point\n",
        "x1, y1 = 1, 2  # Point A\n",
        "\n",
        "# Define the slope of the line parallel to the vector v = [2, 3]\n",
        "# The slope is the ratio of the change in y to the change in x\n",
        "m = 3 / 2  # Slope of the line\n",
        "\n",
        "# Use the point-slope formula: y - y1 = m(x - x1)\n",
        "# Rearrange to get the slope-intercept form: y = mx + b\n",
        "b = y1 - m * x1\n",
        "\n",
        "# Print the equation of the line\n",
        "print(f\"The equation of the line is: y = {m}x + {b}\")\n"
      ],
      "metadata": {
        "colab": {
          "base_uri": "https://localhost:8080/"
        },
        "id": "q36RFsbvol-G",
        "outputId": "bc290630-36dc-4c1f-b020-7955cefab202"
      },
      "execution_count": null,
      "outputs": [
        {
          "output_type": "stream",
          "name": "stdout",
          "text": [
            "The equation of the line is: y = 1.5x + 0.5\n"
          ]
        }
      ]
    },
    {
      "cell_type": "markdown",
      "source": [
        "To find the equation of the line passing through point $ A(1, 2) $ and parallel to the vector $ \\mathbf{v} = [2, 3] $:\n",
        "\n",
        "---\n",
        "\n",
        "### **Step 1: Determine the slope from the vector**  \n",
        "The direction vector $ \\mathbf{v} = [2, 3] $ corresponds to a slope:  \n",
        "$\n",
        "m = \\frac{\\Delta y}{\\Delta x} = \\frac{3}{2}\n",
        "$\n",
        "\n",
        "---\n",
        "\n",
        "### **Step 2: Use the point-slope formula**  \n",
        "Substitute $ m = \\frac{3}{2} $ and point $ (1, 2) $:  \n",
        "$\n",
        "y - y_1 = m(x - x_1) \\implies y - 2 = \\frac{3}{2}(x - 1)\n",
        "$\n",
        "\n",
        "---\n",
        "\n",
        "### **Step 3: Simplify to slope-intercept form**  \n",
        "$\n",
        "y - 2 = \\frac{3}{2}x - \\frac{3}{2} \\implies y = \\frac{3}{2}x + \\frac{1}{2}\n",
        "$\n",
        "\n",
        "---\n",
        "\n",
        "### **Final Answer**  \n",
        "$\n",
        "\\boxed{y = \\frac{3}{2}x + \\frac{1}{2}}\n",
        "$\n",
        "\n",
        "---\n",
        "\n",
        "**Verification:**  \n",
        "- For \\( x = 1 \\):  \n",
        "  $\n",
        "  y = \\frac{3}{2}(1) + \\frac{1}{2} = 2 \\quad \\checkmark\n",
        "  $\n",
        "- **Parametric form** (optional):  \n",
        "  $\n",
        "  x = 1 + 2t, \\quad y = 2 + 3t\n",
        "  $  \n",
        "  Eliminating \\( t \\) confirms the same equation."
      ],
      "metadata": {
        "id": "Xa05IZYFa4z7"
      }
    },
    {
      "cell_type": "code",
      "source": [
        "#6\n",
        "# Define the slope of the given line\n",
        "m_given = 2  # Slope of the given line\n",
        "\n",
        "# Parallel line: Same slope, different y-intercept\n",
        "m_parallel = m_given\n",
        "b_parallel = 5  # Example y-intercept\n",
        "parallel_line = f\"y = {m_parallel}x + {b_parallel}\"\n",
        "\n",
        "# Perpendicular line: Slope is the negative reciprocal\n",
        "m_perpendicular = -1 / m_given\n",
        "b_perpendicular = 1  # Example y-intercept\n",
        "perpendicular_line = f\"y = {m_perpendicular}x + {b_perpendicular}\"\n",
        "\n",
        "# Print the results\n",
        "print(f\"An example of a parallel line: {parallel_line}\")\n",
        "print(f\"An example of a perpendicular line: {perpendicular_line}\")\n"
      ],
      "metadata": {
        "colab": {
          "base_uri": "https://localhost:8080/"
        },
        "id": "kaHsQ0g0pCJK",
        "outputId": "e583841f-3aaa-4360-a6f7-94f1053d22c1"
      },
      "execution_count": null,
      "outputs": [
        {
          "output_type": "stream",
          "name": "stdout",
          "text": [
            "An example of a parallel line: y = 2x + 5\n",
            "An example of a perpendicular line: y = -0.5x + 1\n"
          ]
        }
      ]
    },
    {
      "cell_type": "markdown",
      "source": [
        "To find examples of lines **parallel** and **perpendicular** to $ y = 2x + 3 $:\n",
        "\n",
        "---\n",
        "\n",
        "### **1. Parallel Line**  \n",
        "Parallel lines share the **same slope** as the original line.  \n",
        "- Given slope: $ m = 2 $.  \n",
        "- Example equation (using a different y-intercept):  \n",
        "  $\n",
        "  y = 2x + 5\n",
        "  $  \n",
        "**Verification**:  \n",
        "- Slopes are identical $ 2 = 2 $.  \n",
        "- Lines never intersect (different intercepts).  \n",
        "\n",
        "---\n",
        "\n",
        "### **2. Perpendicular Line**  \n",
        "Perpendicular lines have slopes that are **negative reciprocals**.  \n",
        "- Original slope: $ m = 2 $.  \n",
        "- Perpendicular slope: $ m_{\\perp} = -\\frac{1}{2} $.  \n",
        "- Example equation:  \n",
        "  $\n",
        "  y = -\\frac{1}{2}x + 4\n",
        "  $  \n",
        "**Verification**:  \n",
        "- Product of slopes: $ 2 \\times \\left(-\\frac{1}{2}\\right) = -1 $, confirming perpendicularity.  \n",
        "\n",
        "---\n",
        "\n",
        "### **Final Answer**  \n",
        "- **Parallel Line**: $\\boxed{y = 2x + 5}$\n",
        "- **Perpendicular Line**: $\\boxed{y = -\\frac{1}{2}x + 4}$  "
      ],
      "metadata": {
        "id": "rDSraYDMcc6r"
      }
    },
    {
      "cell_type": "code",
      "source": [
        "#7\n",
        "import math\n",
        "\n",
        "# 1. Equation of the perpendicular line\n",
        "# Given line slope\n",
        "m_given = 2\n",
        "\n",
        "# Slope of the perpendicular line\n",
        "m_perpendicular = -1 / m_given\n",
        "\n",
        "# Point A\n",
        "x1, y1 = 1, 2\n",
        "\n",
        "# Point-slope form: y - y1 = m(x - x1)\n",
        "b_perpendicular = y1 - m_perpendicular * x1  # Solve for b\n",
        "perpendicular_line = f\"y = {m_perpendicular}x + {b_perpendicular}\"\n",
        "\n",
        "print(f\"Equation of the perpendicular line: {perpendicular_line}\")\n",
        "\n",
        "# 2. Intersection of the two lines\n",
        "# Equations:\n",
        "# Line 1: y = 2x + 3\n",
        "# Line 2: y = -1/2x + 5/2\n",
        "\n",
        "# Solving 2x + 3 = -1/2x + 5/2\n",
        "# Rearrange: (5/2)x = -1/2\n",
        "x_intersection = -1 / 5\n",
        "\n",
        "# Substitute x into the first line: y = 2x + 3\n",
        "y_intersection = 2 * x_intersection + 3\n",
        "\n",
        "intersection_point = (x_intersection, y_intersection)\n",
        "print(f\"Intersection point: {intersection_point}\")\n",
        "\n",
        "# 3. Distance from point A to the intersection point\n",
        "x2, y2 = intersection_point\n",
        "\n",
        "# Distance formula: sqrt((x2 - x1)^2 + (y2 - y1)^2)\n",
        "distance = math.sqrt((x2 - x1)**2 + (y2 - y1)**2)\n",
        "print(f\"Distance from point A to the intersection point: {distance:.2f}\")\n"
      ],
      "metadata": {
        "colab": {
          "base_uri": "https://localhost:8080/"
        },
        "id": "cNajk7C9pohS",
        "outputId": "e486d939-02b3-4ef7-c32f-71694b0d8acd"
      },
      "execution_count": null,
      "outputs": [
        {
          "output_type": "stream",
          "name": "stdout",
          "text": [
            "Equation of the perpendicular line: y = -0.5x + 2.5\n",
            "Intersection point: (-0.2, 2.6)\n",
            "Distance from point A to the intersection point: 1.34\n"
          ]
        }
      ]
    },
    {
      "cell_type": "markdown",
      "source": [
        "To find the distance from point \\( A(1, 2) \\) to the line $ y = 2x + 3 $:\n",
        "\n",
        "---\n",
        "\n",
        "### **Step 1: Rewrite the line in standard form**\n",
        "$\n",
        "y = 2x + 3 \\implies -2x + y - 3 = 0\n",
        "$\n",
        "Here, \\( A = -2 \\), $ B = 1 $, and $ C = -3 $.\n",
        "\n",
        "---\n",
        "\n",
        "### **Step 2: Apply the distance formula**\n",
        "The distance $ d $ from a point $ (x_0, y_0) $ to the line $ Ax + By + C = 0 $ is:\n",
        "$\n",
        "d = \\frac{|A x_0 + B y_0 + C|}{\\sqrt{A^2 + B^2}}\n",
        "$\n",
        "Substitute $ A = -2 $, $ B = 1 $, $ C = -3 $, $ x_0 = 1 $, $ y_0 = 2 $:\n",
        "$\n",
        "d = \\frac{|-2(1) + 1(2) - 3|}{\\sqrt{(-2)^2 + 1^2}} = \\frac{|-2 + 2 - 3|}{\\sqrt{5}} = \\frac{3}{\\sqrt{5}}\n",
        "$\n",
        "\n",
        "---\n",
        "\n",
        "### **Step 3: Rationalize the denominator**\n",
        "$\n",
        "d = \\frac{3}{\\sqrt{5}} \\times \\frac{\\sqrt{5}}{\\sqrt{5}} = \\frac{3\\sqrt{5}}{5}\n",
        "$\n",
        "\n",
        "---\n",
        "\n",
        "### **Verification Using Perpendicular Intersection**\n",
        "1. **Equation of the perpendicular line** through $ A(1, 2) $:  \n",
        "   Slope of perpendicular line = $ -\\frac{1}{2} $.  \n",
        "   Using point-slope form:  \n",
        "   $\n",
        "   y - 2 = -\\frac{1}{2}(x - 1) \\implies y = -\\frac{1}{2}x + \\frac{5}{2}\n",
        "   $\n",
        "\n",
        "2. **Find intersection** with $ y = 2x + 3 $:  \n",
        "   Solve $ 2x + 3 = -\\frac{1}{2}x + \\frac{5}{2} $:  \n",
        "   $\n",
        "   \\frac{5}{2}x = -\\frac{1}{2} \\implies x = -\\frac{1}{5}, \\quad y = \\frac{13}{5}\n",
        "   $\n",
        "\n",
        "3. **Distance between $ A(1, 2) $ and $ \\left(-\\frac{1}{5}, \\frac{13}{5}\\right) $**:\n",
        "   $\n",
        "   \\sqrt{\\left(1 + \\frac{1}{5}\\right)^2 + \\left(2 - \\frac{13}{5}\\right)^2} = \\sqrt{\\left(\\frac{6}{5}\\right)^2 + \\left(-\\frac{3}{5}\\right)^2} = \\frac{3\\sqrt{5}}{5}\n",
        "   $\n",
        "\n",
        "---\n",
        "\n",
        "### **Final Answer**\n",
        "The distance from $ A(1, 2) $ to the line $ y = 2x + 3\n",
        "$\n",
        "$\n",
        "\\boxed{\\frac{3\\sqrt{5}}{5}}\n",
        "$"
      ],
      "metadata": {
        "id": "yFrQK7MqfuIW"
      }
    },
    {
      "cell_type": "code",
      "source": [
        "#8\n",
        "# Define the points A and B\n",
        "x1, y1 = 2, 0  # Point A\n",
        "x2, y2 = 0, 3  # Point B\n",
        "\n",
        "# Calculate the slope (m)\n",
        "m = (y2 - y1) / (x2 - x1)\n",
        "\n",
        "# Find the y-intercept (b) using the slope-intercept formula y = mx + b\n",
        "b = y1 - m * x1\n",
        "\n",
        "# Print the equation of the line\n",
        "print(f\"The equation of the line is: y = {m}x + {b}\")\n"
      ],
      "metadata": {
        "colab": {
          "base_uri": "https://localhost:8080/"
        },
        "id": "OiN5RWlsqD2H",
        "outputId": "7daac066-6267-48d1-b4dd-6ffe049ab370"
      },
      "execution_count": null,
      "outputs": [
        {
          "output_type": "stream",
          "name": "stdout",
          "text": [
            "The equation of the line is: y = -1.5x + 3.0\n"
          ]
        }
      ]
    },
    {
      "cell_type": "markdown",
      "source": [
        "To find the equation of the line intersecting the coordinate axes at $ A(2, 0) $ and $ B(0, 3) $:\n",
        "\n",
        "---\n",
        "\n",
        "### **Method 1: Intercept Form**  \n",
        "The intercept form of a line is:  \n",
        "$\n",
        "\\frac{x}{a} + \\frac{y}{b} = 1\n",
        "$  \n",
        "where $ a = 2 $ (x-intercept) and $ b = 3 $ (y-intercept).  \n",
        "Substitute \\( a \\) and \\( b \\):  \n",
        "$\n",
        "\\frac{x}{2} + \\frac{y}{3} = 1\n",
        "$\n",
        "\n",
        "---\n",
        "\n",
        "### **Method 2: Slope-Intercept Form**  \n",
        "1. **Calculate the slope (\\( m \\))** using the two points:  \n",
        "   $\n",
        "   m = \\frac{y_2 - y_1}{x_2 - x_1} = \\frac{3 - 0}{0 - 2} = -\\frac{3}{2}\n",
        "   $\n",
        "\n",
        "2. **Use the point-slope formula** with $ A(2, 0) $:  \n",
        "   $\n",
        "   y - y_1 = m(x - x_1) \\implies y - 0 = -\\frac{3}{2}(x - 2)\n",
        "   $\n",
        "\n",
        "3. **Simplify**:  \n",
        "   $\n",
        "   y = -\\frac{3}{2}x + 3\n",
        "   $\n",
        "\n",
        "---\n",
        "\n",
        "### **Verification**  \n",
        "- **At $ x = 2 $:**  \n",
        "  $\n",
        "  y = -\\frac{3}{2}(2) + 3 = 0 \\quad \\checkmark \\quad (A(2, 0))\n",
        "  $\n",
        "- **At \\( x = 0 \\):**  \n",
        "  $\n",
        "  y = -\\frac{3}{2}(0) + 3 = 3 \\quad \\checkmark \\quad (B(0, 3))\n",
        "  $\n",
        "\n",
        "---\n",
        "\n",
        "### **Final Answer**  \n",
        "The equation of the line is:  \n",
        "$\n",
        "\\boxed{y = -\\frac{3}{2}x + 3}\n",
        "$"
      ],
      "metadata": {
        "id": "mHb8KfJKg7us"
      }
    },
    {
      "cell_type": "code",
      "source": [
        "#9\n",
        "import math\n",
        "\n",
        "# Slope of the line\n",
        "m = 1  # Slope of y = x + 3\n",
        "\n",
        "# Calculate the angle in radians using arctan\n",
        "theta_radians = math.atan(m)\n",
        "\n",
        "# Convert the angle to degrees\n",
        "theta_degrees = math.degrees(theta_radians)\n",
        "\n",
        "# Print the angle\n",
        "print(f\"The angle between the line and the x-axis is approximately {theta_degrees:.2f} degrees.\")\n"
      ],
      "metadata": {
        "colab": {
          "base_uri": "https://localhost:8080/"
        },
        "id": "sw9DyOq4qc_e",
        "outputId": "0f16f589-1825-47ca-dc3a-8937e4a519f6"
      },
      "execution_count": null,
      "outputs": [
        {
          "output_type": "stream",
          "name": "stdout",
          "text": [
            "The angle between the line and the x-axis is approximately 45.00 degrees.\n"
          ]
        }
      ]
    },
    {
      "cell_type": "markdown",
      "source": [
        "## Calculating the Angle Between the Line and the \\( x \\)-Axis\n",
        "\n",
        "The equation of the given line is:\n",
        "\n",
        "$\n",
        "y = x + 3\n",
        "$\n",
        "\n",
        "### Step 1: Find the Slope\n",
        "The equation is in the slope-intercept form $ y = mx + c $, where $ m $ is the slope. From the given equation, we see that:\n",
        "\n",
        "$\n",
        "m = 1\n",
        "$\n",
        "\n",
        "### Step 2: Find the Angle with the \\( x \\)-Axis\n",
        "The angle $ \\theta $ between the line and the positive direction of the $ x $-axis is given by:\n",
        "\n",
        "$\n",
        "\\theta = \\tan^{-1}(m)\n",
        "$\n",
        "\n",
        "Substituting $ m = 1 $:\n",
        "\n",
        "$\n",
        "\\theta = \\tan^{-1}(1)\n",
        "$\n",
        "\n",
        "$\n",
        "\\theta = 45^\\circ\n",
        "$\n",
        "\n",
        "### Final Answer:\n",
        "The angle between the given line and the $ x $-axis is **45 degrees**.\n"
      ],
      "metadata": {
        "id": "Wa26So8kyXjG"
      }
    },
    {
      "cell_type": "code",
      "source": [
        "#10\n",
        "# Given line equation: x + y + 1 = 0\n",
        "# Standard form: Ax + By + C = 0\n",
        "# A = 1, B = 1 (coefficients directly give the perpendicular vector to the line)\n",
        "\n",
        "# Define the coefficients A and B\n",
        "A = 1\n",
        "B = 1\n",
        "\n",
        "# Perpendicular vector to the line\n",
        "perpendicular_vector = (A, B)\n",
        "\n",
        "# Print the result\n",
        "perpendicular_vector"
      ],
      "metadata": {
        "colab": {
          "base_uri": "https://localhost:8080/"
        },
        "id": "uAuj42xBscfU",
        "outputId": "b5165f5a-9a2a-43dc-a4d1-bcad06fe98fe"
      },
      "execution_count": null,
      "outputs": [
        {
          "output_type": "execute_result",
          "data": {
            "text/plain": [
              "(1, 1)"
            ]
          },
          "metadata": {},
          "execution_count": 12
        }
      ]
    },
    {
      "cell_type": "markdown",
      "source": [
        "To find a vector perpendicular to the line \\$x + y + 1 = 0 $:\n",
        "\n",
        "1. **General Form of a Line**:  \n",
        "   The equation $ Ax + By + C = 0 $ has a normal vector $ \\begin{pmatrix}A \\\\ B\\end{pmatrix} $.  \n",
        "   For $ x + y + 1 = 0 $, the coefficients are $ A = 1 $ and $ B = 1 $, so the normal vector is:  \n",
        "   $\n",
        "   \\begin{pmatrix}1 \\\\ 1\\end{pmatrix}.\n",
        "   $\n",
        "\n",
        "2. **Verification via Slope**:  \n",
        "   Rewrite the line as $ y = -x - 1 $.  \n",
        "   - Slope of the line: $ -1 $.  \n",
        "   - Slope of the normal vector (negative reciprocal): $ 1 $, which matches the vector $ \\begin{pmatrix}1 \\\\ 1\\end{pmatrix} $.\n",
        "\n",
        "3. **Direction Vector Check**:  \n",
        "   Two points on the line: $ (0, -1) $ and $ (-1, 0) $.  \n",
        "   Direction vector: $ \\begin{pmatrix}-1 \\\\ 1\\end{pmatrix} $.  \n",
        "   Dot product with $ \\begin{pmatrix}1 \\\\ 1\\end{pmatrix} $:  \n",
        "   $\n",
        "   1 \\cdot (-1) + 1 \\cdot 1 = -1 + 1 = 0 \\quad (\\text{perpendicular}).\n",
        "   $\n",
        "\n",
        "**Final Answer**:  \n",
        "The vector perpendicular to the line is $\\boxed{\\begin{pmatrix}1 \\\\ 1\\end{pmatrix}}$."
      ],
      "metadata": {
        "id": "ybw47D0quu2v"
      }
    }
  ]
}