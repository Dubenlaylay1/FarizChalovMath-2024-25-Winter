{
  "nbformat": 4,
  "nbformat_minor": 0,
  "metadata": {
    "colab": {
      "provenance": []
    },
    "kernelspec": {
      "name": "python3",
      "display_name": "Python 3"
    },
    "language_info": {
      "name": "python"
    }
  },
  "cells": [
    {
      "cell_type": "code",
      "source": [
        "import sympy as sp  # import the sympy module\n",
        "\n",
        "# For vector $\\mathbf{a} = [a_1, a_2]$, the magnitude is given by the formula:\n",
        "# $$ |\\mathbf{a}| = a = \\sqrt{a_x^2 + a_y^2} $$\n",
        "\n",
        "a_1, a_2 = sp.symbols('a_1 a_2')\n",
        "magnitude_a = sp.sqrt(a_1**2 + a_2**2)  # Step 2: Create the formula for the magnitude of vector a\n",
        "magnitude_a  # Step 3: Display the result"
      ],
      "metadata": {
        "colab": {
          "base_uri": "https://localhost:8080/",
          "height": 48
        },
        "id": "7zkT2Y_rwqYJ",
        "outputId": "960f0486-39d2-408f-da32-5dda2913760f"
      },
      "execution_count": null,
      "outputs": [
        {
          "output_type": "execute_result",
          "data": {
            "text/plain": [
              "sqrt(a_1**2 + a_2**2)"
            ],
            "text/latex": "$\\displaystyle \\sqrt{a_{1}^{2} + a_{2}^{2}}$"
          },
          "metadata": {},
          "execution_count": 9
        }
      ]
    },
    {
      "cell_type": "markdown",
      "source": [
        "To determine the scalar $ k $ by which the vector $ \\mathbf{a} = \\begin{bmatrix} 3 \\\\ 4 \\end{bmatrix} $ should be multiplied to achieve a length of 1, follow these steps:\n",
        "\n",
        "---\n",
        "\n",
        "### **Step 1: Calculate the original length of $ \\mathbf{a} $:**\n",
        "$\n",
        "\\|\\mathbf{a}\\| = \\sqrt{3^2 + 4^2} = \\sqrt{9 + 16} = \\sqrt{25} = 5.\n",
        "$\n",
        "\n",
        "---\n",
        "\n",
        "### **Step 2: Set up the equation for the scaled vector $ k\\mathbf{a} $:**\n",
        "The length of $ k\\mathbf{a} $ must equal 1:\n",
        "$\n",
        "\\|k\\mathbf{a}\\| = \\sqrt{(3k)^2 + (4k)^2} = \\sqrt{9k^2 + 16k^2} = \\sqrt{25k^2} = 5k.\n",
        "$\n",
        "$\n",
        "5k = 1 \\quad \\Rightarrow \\quad k = \\frac{1}{5}.\n",
        "$\n",
        "\n",
        "---\n",
        "\n",
        "### **Step 3: Verify the result:**\n",
        "Multiply $ \\mathbf{a} $ by $ \\frac{1}{5} $:\n",
        "$\n",
        "\\frac{1}{5}\\mathbf{a} = \\begin{bmatrix} \\frac{3}{5} \\\\ \\frac{4}{5} \\end{bmatrix}.\n",
        "$\n",
        "The length of this scaled vector is:\n",
        "$\n",
        "\\sqrt{\\left(\\frac{3}{5}\\right)^2 + \\left(\\frac{4}{5}\\right)^2} = \\sqrt{\\frac{9}{25} + \\frac{16}{25}} = \\sqrt{1} = 1.\n",
        "$\n",
        "\n",
        "---\n",
        "\n",
        "### **Final Answer:**\n",
        "The vector $ \\mathbf{a} = \\begin{bmatrix} 3 \\\\ 4 \\end{bmatrix} $ should be multiplied by $ \\boxed{\\dfrac{1}{5}} $ to have a length of 1."
      ],
      "metadata": {
        "id": "DXMBANrgBtMa"
      }
    },
    {
      "cell_type": "code",
      "source": [
        "# Assign values to a_x and a_y\n",
        "a_1 = 3  # 1 component of the vector\n",
        "a_2 = 4  # 2 component of the vector\n",
        "\n",
        "magnitude_a = sp.sqrt(a_1**2 + a_2**2)  # Calculate the magnitude of the vector for a_1 = 3 and a_2 = 4\n",
        "magnitude_a.evalf()"
      ],
      "metadata": {
        "colab": {
          "base_uri": "https://localhost:8080/",
          "height": 37
        },
        "id": "K-BC8ZM8xFWz",
        "outputId": "e051bbac-6ce6-43a1-fdee-c59c756f2594"
      },
      "execution_count": null,
      "outputs": [
        {
          "output_type": "execute_result",
          "data": {
            "text/plain": [
              "5.00000000000000"
            ],
            "text/latex": "$\\displaystyle 5.0$"
          },
          "metadata": {},
          "execution_count": 10
        }
      ]
    },
    {
      "cell_type": "code",
      "source": [
        "import numpy as np\n",
        "\n",
        "# Define the vector\n",
        "vector = np.array([3, 4])\n",
        "\n",
        "# Define the scalar\n",
        "scalar = 1/5\n",
        "\n",
        "# Multiply the vector by the scalar\n",
        "result = scalar * vector\n",
        "\n",
        "# Print the result\n",
        "print(\"Result of multiplying the vector by the scalar 1/5:\")\n",
        "print(result)\n"
      ],
      "metadata": {
        "colab": {
          "base_uri": "https://localhost:8080/"
        },
        "id": "cVnKO6GNzzhL",
        "outputId": "d0551163-84e3-4819-bbd0-ed4038c94afe"
      },
      "execution_count": null,
      "outputs": [
        {
          "output_type": "stream",
          "name": "stdout",
          "text": [
            "Result of multiplying the vector by the scalar 1/5:\n",
            "[0.6 0.8]\n"
          ]
        }
      ]
    },
    {
      "cell_type": "code",
      "source": [
        "#2\n",
        "import sympy as sp  # import the sympy module\n",
        "\n",
        "# For vector $\\mathbf{a} = [b_1, b_2]$, the magnitude is given by the formula:\n",
        "# $$ |\\mathbf{b}| = a = \\sqrt{b_1^2 + b_2^2} $$\n",
        "\n",
        "b_1, b_2 = sp.symbols('b_1 b_2')  # Step 1: Define symbolic variables b_1 and b_2\n",
        "magnitude_a = sp.sqrt(b_1**2 + b_2**2)  # Step 2: Create the formula for the magnitude of vector b\n",
        "magnitude_a  # Step 3: Display the result\n"
      ],
      "metadata": {
        "colab": {
          "base_uri": "https://localhost:8080/",
          "height": 48
        },
        "id": "qE7uiSBx0Mcd",
        "outputId": "320132f2-1962-4636-8243-a241ca63e7ae"
      },
      "execution_count": null,
      "outputs": [
        {
          "output_type": "execute_result",
          "data": {
            "text/plain": [
              "sqrt(b_1**2 + b_2**2)"
            ],
            "text/latex": "$\\displaystyle \\sqrt{b_{1}^{2} + b_{2}^{2}}$"
          },
          "metadata": {},
          "execution_count": 12
        }
      ]
    },
    {
      "cell_type": "markdown",
      "source": [
        "### **Step 1: Calculate the length of vector $ \\mathbf{b} = \\begin{bmatrix} 1 \\\\ 1 \\end{bmatrix} $:**\n",
        "The length (magnitude) of a vector $ \\mathbf{b} = \\begin{bmatrix} x \\\\ y \\end{bmatrix} $ is given by:\n",
        "$\n",
        "\\|\\mathbf{b}\\| = \\sqrt{x^2 + y^2}.\n",
        "$\n",
        "For $ \\mathbf{b} = \\begin{bmatrix} 1 \\\\ 1 \\end{bmatrix} $:\n",
        "$\n",
        "\\|\\mathbf{b}\\| = \\sqrt{1^2 + 1^2} = \\sqrt{1 + 1} = \\sqrt{2}.\n",
        "$\n",
        "\n",
        "---\n",
        "\n",
        "### **Step 2: Find the unit vector of $ \\mathbf{b} $:**\n",
        "The unit vector $ \\hat{\\mathbf{b}} $ in the direction of $ \\mathbf{b} $ is:\n",
        "$\n",
        "\\hat{\\mathbf{b}} = \\frac{\\mathbf{b}}{\\|\\mathbf{b}\\|} = \\frac{1}{\\sqrt{2}} \\begin{bmatrix} 1 \\\\ 1 \\end{bmatrix}.\n",
        "$\n",
        "This simplifies to:\n",
        "$\n",
        "\\hat{\\mathbf{b}} = \\begin{bmatrix} \\frac{1}{\\sqrt{2}} \\\\ \\frac{1}{\\sqrt{2}} \\end{bmatrix} \\quad \\text{or} \\quad \\begin{bmatrix} \\frac{\\sqrt{2}}{2} \\\\ \\frac{\\sqrt{2}}{2} \\end{bmatrix}.\n",
        "$\n",
        "\n",
        "---\n",
        "\n",
        "### **Verification:**\n",
        "The length of the unit vector $ \\hat{\\mathbf{b}} $ should be 1:\n",
        "$\n",
        "\\|\\hat{\\mathbf{b}}\\| = \\sqrt{\\left(\\frac{1}{\\sqrt{2}}\\right)^2 + \\left(\\frac{1}{\\sqrt{2}}\\right)^2} = \\sqrt{\\frac{1}{2} + \\frac{1}{2}} = \\sqrt{1} = 1.\n",
        "$\n",
        "\n",
        "---\n",
        "\n",
        "### **Final Answer:**\n",
        "- **Length of \\( \\mathbf{b} \\):** $ \\boxed{\\sqrt{2}} $.\n",
        "- **Unit vector of $ \\mathbf{b} $:** $ \\boxed{\\begin{bmatrix} \\frac{\\sqrt{2}}{2} \\\\ \\frac{\\sqrt{2}}{2} \\end{bmatrix}} $."
      ],
      "metadata": {
        "id": "Pvp8p3rCDJMM"
      }
    },
    {
      "cell_type": "code",
      "source": [
        "# Assign values to b_1 and b_2\n",
        "b_1 = 1  # x component of the vector\n",
        "b_2 = 1  # y component of the vector\n",
        "\n",
        "magnitude_a = sp.sqrt(b_1**2 + b_2**2)  # Calculate the magnitude of the vector for b_1 = 1 and b_2 = 1\n",
        "magnitude_a.evalf()\n"
      ],
      "metadata": {
        "colab": {
          "base_uri": "https://localhost:8080/",
          "height": 37
        },
        "id": "JQibWhZW1Efh",
        "outputId": "1d71e125-8b7d-4601-d184-be6a14aec9a8"
      },
      "execution_count": null,
      "outputs": [
        {
          "output_type": "execute_result",
          "data": {
            "text/plain": [
              "1.41421356237310"
            ],
            "text/latex": "$\\displaystyle 1.4142135623731$"
          },
          "metadata": {},
          "execution_count": 18
        }
      ]
    },
    {
      "cell_type": "code",
      "source": [
        "import numpy as np\n",
        "\n",
        "# Define vector\n",
        "b = np.array([1, 1])\n",
        "\n",
        "# Define scalar value for division operation\n",
        "scalar = np.sqrt(2)\n",
        "\n",
        "# Divide vector by scalar value\n",
        "result = b / scalar\n",
        "\n",
        "# Print result\n",
        "print(\"Vector b / sqrt(2):\")\n",
        "print(result)\n"
      ],
      "metadata": {
        "colab": {
          "base_uri": "https://localhost:8080/"
        },
        "id": "H3MRYVAu6RTh",
        "outputId": "b6797b2c-353a-472b-bb9f-99260411b392"
      },
      "execution_count": null,
      "outputs": [
        {
          "output_type": "stream",
          "name": "stdout",
          "text": [
            "Vector b / sqrt(2):\n",
            "[0.70710678 0.70710678]\n"
          ]
        }
      ]
    },
    {
      "cell_type": "code",
      "source": [
        "pip install matplotlib\n"
      ],
      "metadata": {
        "colab": {
          "base_uri": "https://localhost:8080/"
        },
        "id": "fI174m4p8gQw",
        "outputId": "f34efb28-f674-42fb-eb08-def8c6bfde5a"
      },
      "execution_count": null,
      "outputs": [
        {
          "output_type": "stream",
          "name": "stdout",
          "text": [
            "Requirement already satisfied: matplotlib in /usr/local/lib/python3.10/dist-packages (3.8.0)\n",
            "Requirement already satisfied: contourpy>=1.0.1 in /usr/local/lib/python3.10/dist-packages (from matplotlib) (1.3.1)\n",
            "Requirement already satisfied: cycler>=0.10 in /usr/local/lib/python3.10/dist-packages (from matplotlib) (0.12.1)\n",
            "Requirement already satisfied: fonttools>=4.22.0 in /usr/local/lib/python3.10/dist-packages (from matplotlib) (4.55.3)\n",
            "Requirement already satisfied: kiwisolver>=1.0.1 in /usr/local/lib/python3.10/dist-packages (from matplotlib) (1.4.7)\n",
            "Requirement already satisfied: numpy<2,>=1.21 in /usr/local/lib/python3.10/dist-packages (from matplotlib) (1.26.4)\n",
            "Requirement already satisfied: packaging>=20.0 in /usr/local/lib/python3.10/dist-packages (from matplotlib) (24.2)\n",
            "Requirement already satisfied: pillow>=6.2.0 in /usr/local/lib/python3.10/dist-packages (from matplotlib) (11.0.0)\n",
            "Requirement already satisfied: pyparsing>=2.3.1 in /usr/local/lib/python3.10/dist-packages (from matplotlib) (3.2.0)\n",
            "Requirement already satisfied: python-dateutil>=2.7 in /usr/local/lib/python3.10/dist-packages (from matplotlib) (2.8.2)\n",
            "Requirement already satisfied: six>=1.5 in /usr/local/lib/python3.10/dist-packages (from python-dateutil>=2.7->matplotlib) (1.17.0)\n"
          ]
        }
      ]
    },
    {
      "cell_type": "code",
      "source": [
        "import numpy as np\n",
        "import matplotlib.pyplot as plt\n",
        "\n",
        "# Define the vector\n",
        "b = np.array([1, 1])\n",
        "\n",
        "# Calculate the magnitude of the vector\n",
        "magnitude = np.linalg.norm(b)\n",
        "\n",
        "# Calculate the unit vector\n",
        "unit_vector = b / magnitude\n",
        "\n",
        "# Plot the vector b\n",
        "plt.quiver(0, 0, b[0], b[1], angles='xy', scale_units='xy', scale=1, color='b', label='Vector b')\n",
        "\n",
        "# Plot the unit vector\n",
        "plt.quiver(0, 0, unit_vector[0], unit_vector[1], angles='xy', scale_units='xy', scale=1, color='r', label='Unit vector of b')\n",
        "\n",
        "# Set the limits of the plot\n",
        "plt.xlim(-1.5, 1.5)\n",
        "plt.ylim(-1.5, 1.5)\n",
        "\n",
        "# Add grid, labels, and legend\n",
        "plt.grid()\n",
        "plt.xlabel('x')\n",
        "plt.ylabel('y')\n",
        "plt.legend()\n",
        "plt.axhline(0, color='grey', lw=0.5)\n",
        "plt.axvline(0, color='grey', lw=0.5)\n",
        "\n",
        "# Add title\n",
        "plt.title('Vector and Unit Vector')\n",
        "\n",
        "# Show the plot\n",
        "plt.show()\n"
      ],
      "metadata": {
        "colab": {
          "base_uri": "https://localhost:8080/",
          "height": 472
        },
        "id": "Q4_bJVvb88RH",
        "outputId": "668713d2-e0bd-4a71-a42d-5488eb747635"
      },
      "execution_count": null,
      "outputs": [
        {
          "output_type": "display_data",
          "data": {
            "text/plain": [
              "<Figure size 640x480 with 1 Axes>"
            ],
            "image/png": "[encoded data removed]"
          },
          "metadata": {}
        }
      ]
    },
    {
      "cell_type": "code",
      "source": [
        "import sympy as sp  # import the sympy module\n",
        "\n",
        "# For vector $\\mathbf{c} = [C_1, c_2, c_3]$, the magnitude is given by the formula:\n",
        "# $$ |\\mathbf{c}| = a = \\sqrt{c_1^2 + c_2^2 + c_3^2} $$\n",
        "\n",
        "c_1, c_2, c_3 = sp.symbols('c_1 c_2 c_3')  # Step 1: Define symbolic variables c_1, c_2 and c_3\n",
        "magnitude_a = sp.sqrt(c_1**2 + c_2**2 + c_3**2)  # Step 2: Create the formula for the magnitude of vector c\n",
        "magnitude_a  # Step 3: Display the result"
      ],
      "metadata": {
        "colab": {
          "base_uri": "https://localhost:8080/",
          "height": 48
        },
        "id": "wHEXIurM8_s1",
        "outputId": "6aafb752-0556-4137-f213-2cc5d85d41c8"
      },
      "execution_count": null,
      "outputs": [
        {
          "output_type": "execute_result",
          "data": {
            "text/plain": [
              "sqrt(c_1**2 + c_2**2 + c_3**2)"
            ],
            "text/latex": "$\\displaystyle \\sqrt{c_{1}^{2} + c_{2}^{2} + c_{3}^{2}}$"
          },
          "metadata": {},
          "execution_count": 33
        }
      ]
    },
    {
      "cell_type": "code",
      "source": [
        "# Assign values to c_1, c_2 and c_3\n",
        "c_1 = 1  # x component of the vector\n",
        "c_2 = 2  # y component of the vector\n",
        "c_3 = 3  # z component of the vector\n",
        "magnitude_a = sp.sqrt(c_1**2 + c_2**2 + c_3**2)  # Calculate the magnitude of the vector for c_1 = 1, c_2 = 2 and c_3 = 3\n",
        "magnitude_a.evalf()\n"
      ],
      "metadata": {
        "colab": {
          "base_uri": "https://localhost:8080/",
          "height": 37
        },
        "id": "oGIpNOXTKJpC",
        "outputId": "7100868b-d1b4-4eb2-c18c-b6040cd45c2c"
      },
      "execution_count": null,
      "outputs": [
        {
          "output_type": "execute_result",
          "data": {
            "text/plain": [
              "3.74165738677394"
            ],
            "text/latex": "$\\displaystyle 3.74165738677394$"
          },
          "metadata": {},
          "execution_count": 34
        }
      ]
    },
    {
      "cell_type": "code",
      "source": [
        "import numpy as np\n",
        "\n",
        "# Define vector\n",
        "c = np.array([1, 2, 3])\n",
        "\n",
        "# Define scalar value for division operation\n",
        "scalar = np.sqrt(14)\n",
        "\n",
        "# Divide vector by scalar value\n",
        "result = c / scalar\n",
        "\n",
        "# Print result\n",
        "print(\"Vector c / sqrt(14):\")\n",
        "print(result)\n"
      ],
      "metadata": {
        "colab": {
          "base_uri": "https://localhost:8080/"
        },
        "id": "rq0jtHHsK5CH",
        "outputId": "5e1eb7b3-c181-423f-e848-e9d131177a2d"
      },
      "execution_count": null,
      "outputs": [
        {
          "output_type": "stream",
          "name": "stdout",
          "text": [
            "Vector c / sqrt(14):\n",
            "[0.26726124 0.53452248 0.80178373]\n"
          ]
        }
      ]
    },
    {
      "cell_type": "markdown",
      "source": [
        "### **Step 1: Calculate the length of vector ### **Step 1: Calculate the length of vector $ \\mathbf{c} = \\begin{bmatrix} 1 \\\\ 2 \\\\ 3 \\end{bmatrix} $:**\n",
        "The length (magnitude) of a vector $ \\mathbf{c} = \\begin{bmatrix} x \\\\ y \\\\ z \\end{bmatrix} $ is given by:\n",
        "$\n",
        "\\|\\mathbf{c}\\| = \\sqrt{x^2 + y^2 + z^2}.\n",
        "$\n",
        "For $ \\mathbf{c} = \\begin{bmatrix} 1 \\\\ 2 \\\\ 3 \\end{bmatrix}\n",
        "$\n",
        "\n",
        "$\n",
        "\\|\\mathbf{c}\\| = \\sqrt{1^2 + 2^2 + 3^2} = \\sqrt{1 + 4 + 9} = \\sqrt{14}.\n",
        "$\n",
        "\n",
        "---\n",
        "\n",
        "### **Step 2: Find the unit vector of $ \\mathbf{c} $:**\n",
        "The unit vector $ \\hat{\\mathbf{c}} $ in the direction of $ \\mathbf{c} $ is:\n",
        "$\n",
        "\\hat{\\mathbf{c}} = \\frac{\\mathbf{c}}{\\|\\mathbf{c}\\|} = \\frac{1}{\\sqrt{14}} \\begin{bmatrix} 1 \\\\ 2 \\\\ 3 \\end{bmatrix}.\n",
        "$\n",
        "This simplifies to:\n",
        "$\n",
        "\\hat{\\mathbf{c}} = \\begin{bmatrix} \\frac{1}{\\sqrt{14}} \\\\ \\frac{2}{\\sqrt{14}} \\\\ \\frac{3}{\\sqrt{14}} \\end{bmatrix} \\quad \\text{or} \\quad \\begin{bmatrix} \\frac{\\sqrt{14}}{14} \\\\ \\frac{\\sqrt{14}}{7} \\\\ \\frac{3\\sqrt{14}}{14} \\end{bmatrix}.\n",
        "$\n",
        "\n",
        "---\n",
        "\n",
        "### **Verification:**\n",
        "The length of the unit vector $ \\hat{\\mathbf{c}} $ should be 1:\n",
        "$\n",
        "\\|\\hat{\\mathbf{c}}\\| = \\sqrt{\\left(\\frac{1}{\\sqrt{14}}\\right)^2 + \\left(\\frac{2}{\\sqrt{14}}\\right)^2 + \\left(\\frac{3}{\\sqrt{14}}\\right)^2} = \\sqrt{\\frac{1 + 4 + 9}{14}} = \\sqrt{1} = 1.\n",
        "$\n",
        "\n",
        "---\n",
        "\n",
        "### **Final Answer:**\n",
        "- **Length of $ \\mathbf{c} $:** $ \\boxed{\\sqrt{14}} $.\n",
        "- **Unit vector of $ \\mathbf{c} $:** $ \\boxed{\\begin{bmatrix} \\frac{\\sqrt{14}}{14} \\\\ \\frac{\\sqrt{14}}{7} \\\\ \\frac{3\\sqrt{14}}{14} \\end{bmatrix}} $. \\mathbf{c} = \\begin{bmatrix} 1 \\\\ 2 \\\\ 3 \\end{bmatrix} $:**\n",
        "The length (magnitude) of a vector $ \\mathbf{c} = \\begin{bmatrix} x \\\\ y \\\\ z \\end{bmatrix} $ is given by:\n",
        "$\n",
        "\\|\\mathbf{c}\\| = \\sqrt{x^2 + y^2 + z^2}.\n",
        "$\n",
        "For $ \\mathbf{c} = \\begin{bmatrix} 1 \\\\ 2 \\\\ 3 \\end{bmatrix} $:\n",
        "$\n",
        "\\|\\mathbf{c}\\| = \\sqrt{1^2 + 2^2 + 3^2} = \\sqrt{1 + 4 + 9} = \\sqrt{14}.\n",
        "$\n",
        "\n",
        "---\n",
        "\n",
        "### **Step 2: Find the unit vector of $ \\mathbf{c} $:**\n",
        "The unit vector $ \\hat{\\mathbf{c}} $ in the direction of $ \\mathbf{c} $ is:\n",
        "$\n",
        "\\hat{\\mathbf{c}} = \\frac{\\mathbf{c}}{\\|\\mathbf{c}\\|} = \\frac{1}{\\sqrt{14}} \\begin{bmatrix} 1 \\\\ 2 \\\\ 3 \\end{bmatrix}.\n",
        "$\n",
        "This simplifies to:\n",
        "$\n",
        "\\hat{\\mathbf{c}} = \\begin{bmatrix} \\frac{1}{\\sqrt{14}} \\\\ \\frac{2}{\\sqrt{14}} \\\\ \\frac{3}{\\sqrt{14}} \\end{bmatrix} \\quad \\text{or} \\quad \\begin{bmatrix} \\frac{\\sqrt{14}}{14} \\\\ \\frac{\\sqrt{14}}{7} \\\\ \\frac{3\\sqrt{14}}{14} \\end{bmatrix}.\n",
        "$\n",
        "\n",
        "---\n",
        "\n",
        "### **Verification:**\n",
        "The length of the unit vector $ \\hat{\\mathbf{c}} $ should be 1:\n",
        "$\n",
        "\\|\\hat{\\mathbf{c}}\\| = \\sqrt{\\left(\\frac{1}{\\sqrt{14}}\\right)^2 + \\left(\\frac{2}{\\sqrt{14}}\\right)^2 + \\left(\\frac{3}{\\sqrt{14}}\\right)^2} = \\sqrt{\\frac{1 + 4 + 9}{14}} = \\sqrt{1} = 1.\n",
        "$\n",
        "\n",
        "---\n",
        "\n",
        "### **Final Answer:**\n",
        "- **Length of $ \\mathbf{c} $:** $ \\boxed{\\sqrt{14}} $.\n",
        "- **Unit vector of $ \\mathbf{c} $:** $ \\boxed{\\begin{bmatrix} \\frac{\\sqrt{14}}{14} \\\\ \\frac{\\sqrt{14}}{7} \\\\ \\frac{3\\sqrt{14}}{14} \\end{bmatrix}} $."
      ],
      "metadata": {
        "id": "h5hyuysBDuWi"
      }
    },
    {
      "cell_type": "code",
      "source": [
        "import numpy as np\n",
        "\n",
        "# Base vectors\n",
        "b1 = np.array([1, 0, 1])\n",
        "b2 = np.array([0, 1, 0])\n",
        "b3 = np.array([1, 0, -1])\n",
        "\n",
        "# Coordinates in the new base\n",
        "c = np.array([2, 3, 4])\n",
        "\n",
        "# Calculate Cartesian coordinates\n",
        "v_cartesian = c[0] * b1 + c[1] * b2 + c[2] * b3\n",
        "\n",
        "print(\"Cartesian Coordinates:\", v_cartesian)\n"
      ],
      "metadata": {
        "colab": {
          "base_uri": "https://localhost:8080/"
        },
        "id": "u4IZzYuRLhPk",
        "outputId": "80bfb9d1-e2f0-4c06-e455-531747ffbfa3"
      },
      "execution_count": null,
      "outputs": [
        {
          "output_type": "stream",
          "name": "stdout",
          "text": [
            "Cartesian Coordinates: [ 6  3 -2]\n"
          ]
        }
      ]
    },
    {
      "cell_type": "markdown",
      "source": [
        "To find the Cartesian coordinates of vector $ \\mathbf{v} = \\begin{bmatrix} 2 \\\\ 3 \\\\ 4 \\end{bmatrix} $ in the basis $ \\mathcal{B} = \\{\\mathbf{b}_1, \\mathbf{b}_2, \\mathbf{b}_3\\} $, where:\n",
        "$\n",
        "\\mathbf{b}_1 = \\begin{bmatrix} 1 \\\\ 0 \\\\ 1 \\end{bmatrix}, \\quad\n",
        "\\mathbf{b}_2 = \\begin{bmatrix} 0 \\\\ 1 \\\\ 0 \\end{bmatrix}, \\quad\n",
        "\\mathbf{b}_3 = \\begin{bmatrix} 1 \\\\ 0 \\\\ -1 \\end{bmatrix},\n",
        "$\n",
        "we solve for scalars $ c_1, c_2, c_3 $ such that:\n",
        "$\n",
        "c_1 \\mathbf{b}_1 + c_2 \\mathbf{b}_2 + c_3 \\mathbf{b}_3 = \\mathbf{v}.\n",
        "$\n",
        "\n",
        "---\n",
        "\n",
        "### **Step 1: Set up the system of equations**\n",
        "$\n",
        "\\begin{cases}\n",
        "c_1 + c_3 = 2 \\quad \\text{(from the first component)} \\\\\n",
        "c_2 = 3 \\quad \\quad \\quad \\quad \\text{(from the second component)} \\\\\n",
        "c_1 - c_3 = 4 \\quad \\text{(from the third component)}\n",
        "\\end{cases}\n",
        "$\n",
        "\n",
        "---\n",
        "\n",
        "### **Step 2: Solve for $ c_1, c_2, c_3 $**\n",
        "1. **Second equation:**  \n",
        "   $\n",
        "   c_2 = 3.\n",
        "   $\n",
        "2. **Add the first and third equations:**  \n",
        "   $\n",
        "   (c_1 + c_3) + (c_1 - c_3) = 2 + 4 \\implies 2c_1 = 6 \\implies c_1 = 3.\n",
        "   $\n",
        "3. **Substitute \\( c_1 = 3 \\) into \\( c_1 + c_3 = 2 \\):**  \n",
        "   $\n",
        "   3 + c_3 = 2 \\implies c_3 = -1.\n",
        "   $\n",
        "\n",
        "---\n",
        "\n",
        "### **Step 3: Verify the solution**\n",
        "Substitute $ c_1 = 3 $, $ c_2 = 3 $, and $ c_3 = -1 $ into the basis combination:\n",
        "$\n",
        "3\\mathbf{b}_1 + 3\\mathbf{b}_2 - \\mathbf{b}_3 = 3\\begin{bmatrix} 1 \\\\ 0 \\\\ 1 \\end{bmatrix} + 3\\begin{bmatrix} 0 \\\\ 1 \\\\ 0 \\end{bmatrix} - \\begin{bmatrix} 1 \\\\ 0 \\\\ -1 \\end{bmatrix} = \\begin{bmatrix} 2 \\\\ 3 \\\\ 4 \\end{bmatrix}.\n",
        "$\n",
        "\n",
        "---\n",
        "\n",
        "### **Final Answer**\n",
        "The Cartesian coordinates of $ \\mathbf{v} $ in the basis $ \\mathcal{B}\n",
        "$\n",
        "\\boxed{\\begin{bmatrix} 3 \\\\ 3 \\\\ -1 \\end{bmatrix}}.\n",
        "$"
      ],
      "metadata": {
        "id": "RyLugdrzFtmY"
      }
    },
    {
      "cell_type": "code",
      "source": [],
      "metadata": {
        "id": "o-zw58RLX7TJ"
      },
      "execution_count": null,
      "outputs": []
    }
  ]
}