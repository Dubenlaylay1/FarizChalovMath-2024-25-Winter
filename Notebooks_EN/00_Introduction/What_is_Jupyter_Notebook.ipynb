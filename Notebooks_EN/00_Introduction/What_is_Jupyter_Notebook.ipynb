{
  "cells": [
    {
      "cell_type": "markdown",
      "metadata": {
        "id": "NKkP85GG_vF1"
      },
      "source": [
        "# Introduction to Jupyter Notebook\n",
        "\n",
        "**Jupyter Notebook** is an interactive programming environment that allows you to create and share documents containing code, equations, visualizations, and text. It is a tool for creating reports, presentations, as well as learning programming.\n",
        "\n",
        "Larger portions of text in Jupyter Notebook are written in **Markdown**, which allows for formatting. Below, we'll see some examples of text formatting in [Markdown](https://www.markdownguide.org/cheat-sheet/) (more examples: [here](https://quarto.org/docs/authoring/markdown-basics.html) and [here](https://markdown-it.github.io/)). Mathematical formulas can be introduced using [LaTeX](https://tilburgsciencehub.com/topics/research-skills/templates-dynamic-content/templates/amsmath-latex-cheatsheet/).\n",
        "Remember, you can always ask AI for Markdown or LaTeX syntax!\n",
        "\n",
        "Mathematical calculations can be performed using **Python**. Python's syntax is clear and intuitive, allowing for quick script and program creation. In **Jupyter Notebook** (.ipynb), you can run Python code in code cells.\n",
        "\n",
        "**Colab** is a Google-hosted Jupyter Notebook service that requires no setup and provides free access to computing resources, including GPUs. Colab is particularly well-suited for machine learning, data science, and education.\n",
        "\n",
        "Using AI tools such as [ChatGPT](https://openai.com/chatgpt), [Gemini](https://www.google.com/search?q=gemini+AI), [Claude](https://www.anthropic.com/claude), can greatly facilitate learning math in academic courses. These language models offer quick answers, explanations of difficult concepts, and help with solving problems, enabling interactive learning at any time.\n",
        "\n",
        "## Introduction to Markdown\n",
        "\n",
        "* \"# First Level Heading\"\n",
        "* \"## Second Level Heading\"\n",
        "* \"### Third Level Heading\"\n",
        "\n",
        "This is **bold** text, and this is *italic*. You can also combine both styles like **_bold italic_**.\n",
        "\n",
        "You can insert lists:\n",
        "- Item 1\n",
        "- Item 2\n",
        "  - Sub-item 1\n",
        "  - Sub-item 2\n",
        "\n",
        "Or numbered lists:\n",
        "1. First step\n",
        "2. Second step\n",
        "3. Third step\n",
        "\n",
        "Insert a link: [Visit Google](https://www.google.com)\n",
        "\n",
        "Insert an image:  \n",
        "![Example Image](https://www.mediawiki.org/static/images/icons/mediawikiwiki.svg)\n",
        "\n",
        "Insert an inline code snippet: `print(\"Hello World!\")`\n",
        "\n",
        "Insert a code block:\n",
        "\n",
        "```python\n",
        "def function():\n",
        "    print(\"This is a block of Python code.\")\n",
        "```\n",
        "\n",
        "Mathematical equations in LaTeX:\n",
        "\n",
        "Inline equation: $e^{i\\pi} + 1 = 0$\n",
        "\n",
        "Displayed equation:\n",
        "\n",
        "$$e^{i\\pi} + 1 = 0$$\n",
        "\n",
        "## Introduction to Mathematics in Jupyter Notebooks\n",
        "\n",
        "### Numerical Mathematical Calculations\n",
        "\n",
        "#### Python Standard Math Library"
      ]
    },
    {
      "cell_type": "code",
      "source": [
        "pauline"
      ],
      "metadata": {
        "id": "d-kmTeAD_xSy"
      },
      "execution_count": null,
      "outputs": []
    },
    {
      "cell_type": "code",
      "execution_count": null,
      "metadata": {
        "id": "ZGkcxWmd_vF5"
      },
      "outputs": [],
      "source": [
        "# Python as a calculator\n",
        "2**10, 2**100"
      ]
    },
    {
      "cell_type": "code",
      "execution_count": null,
      "metadata": {
        "id": "B0eFP5JB_vF6"
      },
      "outputs": [],
      "source": [
        "# To calculate more complex expressions, you need additional modules (math, numpy, sympy)\n",
        "\n",
        "import math # math module\n",
        "\n",
        "# Return sine\n",
        "print(math.sin(math.pi))\n",
        "print(math.sin(math.pi/2))\n",
        "print(math.sqrt(2))"
      ]
    },
    {
      "cell_type": "code",
      "execution_count": null,
      "metadata": {
        "id": "5p2xP230_vF7"
      },
      "outputs": [],
      "source": [
        "# Presenting results\n",
        "import math # math module\n",
        "print(f\"Square root of 2 is {math.sqrt(2)}\")\n",
        "print(f\"Sine of 30 degrees is {math.sin(math.radians(30))}\")"
      ]
    },
    {
      "cell_type": "markdown",
      "metadata": {
        "id": "OKq2U5d4_vF8"
      },
      "source": [
        "#### Numerical Python (NumPy)\n",
        "\n",
        "For more demanding, efficient, and accurate calculations, we use the NumPy library"
      ]
    },
    {
      "cell_type": "code",
      "execution_count": null,
      "metadata": {
        "id": "BfPZWQJy_vF8"
      },
      "outputs": [],
      "source": [
        "import numpy as np # Numerical Python module\n",
        "print(f\"Sine of 30 degrees is {np.sin(np.radians(30))}\")\n",
        "print(f\"Log base 10 of 2 is {np.log10(2)}\")\n",
        "print(f\"Norm of vector [1,1,1,1,1] is {np.linalg.norm([1, 1, 1, 1, 1])}\")"
      ]
    },
    {
      "cell_type": "code",
      "execution_count": null,
      "metadata": {
        "id": "f-Ci-L5M_vF9"
      },
      "outputs": [],
      "source": [
        "# Determinant of a matrix\n",
        "A = np.array([[1, 2], [3, 4]])\n",
        "print(f\"Determinant of matrix A is {np.linalg.det(A)}\")"
      ]
    },
    {
      "cell_type": "code",
      "execution_count": null,
      "metadata": {
        "id": "B95aOheT_vF-"
      },
      "outputs": [],
      "source": [
        "# Solving systems of equations\n",
        "b = np.array([5, 7])\n",
        "x = np.linalg.solve(A, b)\n",
        "print(f\"Solution to system Ax=b is x={x}\")"
      ]
    },
    {
      "cell_type": "code",
      "execution_count": null,
      "metadata": {
        "id": "aK57YC-E_vF-"
      },
      "outputs": [],
      "source": [
        "# Unfortunately, numerical solutions are always approximations, not exact solutions.\n",
        "print(f\"{1/3:.30f}\")"
      ]
    },
    {
      "cell_type": "markdown",
      "metadata": {
        "id": "Y_YG46DW_vF_"
      },
      "source": [
        "#### Symbolic Mathematical Calculations\n",
        "\n",
        "SymPy is a Python library for symbolic calculations, allowing for manipulation of mathematical symbols such as variables, equations, functions, derivatives, integrals, limits, and matrices."
      ]
    },
    {
      "cell_type": "code",
      "execution_count": null,
      "metadata": {
        "id": "AsRR1gII_vF_"
      },
      "outputs": [],
      "source": [
        "# Python allows symbolic calculations\n",
        "import sympy as sp\n",
        "x, y, z = sp.symbols('x y z') # declare variables\n",
        "f, g = sp.symbols('f g', cls=sp.Function) # declare functions"
      ]
    },
    {
      "cell_type": "code",
      "execution_count": null,
      "metadata": {
        "id": "BZkPi0hf_vGA"
      },
      "outputs": [],
      "source": [
        "# Sine of 30 degrees\n",
        "sp.sin(sp.rad(30)) # exact result 1/2"
      ]
    },
    {
      "cell_type": "code",
      "execution_count": null,
      "metadata": {
        "id": "GnrALld3_vGA"
      },
      "outputs": [],
      "source": [
        "# Natural logarithm of e\n",
        "sp.log(sp.E)"
      ]
    },
    {
      "cell_type": "code",
      "execution_count": null,
      "metadata": {
        "id": "xYq-jGYE_vGB"
      },
      "outputs": [],
      "source": [
        "# Norm of vector [1,1,1,1,1]\n",
        "v = sp.Matrix([1, 1, 1, 1, 1])\n",
        "v.norm()"
      ]
    },
    {
      "cell_type": "code",
      "execution_count": null,
      "metadata": {
        "id": "fDKra6Y8_vGB"
      },
      "outputs": [],
      "source": [
        "f = f(x)"
      ]
    },
    {
      "cell_type": "code",
      "execution_count": null,
      "metadata": {
        "id": "XaPt76lH_vGB"
      },
      "outputs": [],
      "source": [
        "x + y # operations on variables"
      ]
    },
    {
      "cell_type": "code",
      "execution_count": null,
      "metadata": {
        "id": "_3h-GNwm_vGC"
      },
      "outputs": [],
      "source": [
        "eq1 = ((x - y)**2).expand() # expand expression\n",
        "eq1"
      ]
    },
    {
      "cell_type": "code",
      "execution_count": null,
      "metadata": {
        "id": "umSygg2o_vGC"
      },
      "outputs": [],
      "source": [
        "eq2 = eq1.subs(x, 1) # substitute value\n",
        "eq2"
      ]
    },
    {
      "cell_type": "code",
      "execution_count": null,
      "metadata": {
        "id": "k8ppJadO_vGC"
      },
      "outputs": [],
      "source": [
        "# solution of eq2\n",
        "sol = sp.solveset(eq2, y)\n",
        "sol"
      ]
    },
    {
      "cell_type": "code",
      "execution_count": null,
      "metadata": {
        "id": "fFPgZwzH_vGC"
      },
      "outputs": [],
      "source": [
        "# differentiation\n",
        "f = sp.sin(x)\n",
        "sp.diff(f, x)"
      ]
    },
    {
      "cell_type": "code",
      "execution_count": null,
      "metadata": {
        "id": "eTWZTJ4i_vGD"
      },
      "outputs": [],
      "source": [
        "# more complex expressions\n",
        "f = sp.sin(x**sp.cos(x))\n",
        "f"
      ]
    },
    {
      "cell_type": "code",
      "execution_count": null,
      "metadata": {
        "id": "1BKShDAG_vGD"
      },
      "outputs": [],
      "source": [
        "f.diff(x)"
      ]
    },
    {
      "cell_type": "code",
      "execution_count": null,
      "metadata": {
        "id": "4e37scK9_vGD"
      },
      "outputs": [],
      "source": [
        "# integration\n",
        "f = sp.sin(x) * sp.cos(x) * x\n",
        "f.integrate(x)"
      ]
    },
    {
      "cell_type": "code",
      "execution_count": null,
      "metadata": {
        "id": "mOLzJXqy_vGD"
      },
      "outputs": [],
      "source": [
        "# plot of a parabola\n",
        "f = x**2\n",
        "sp.plot(f);"
      ]
    },
    {
      "cell_type": "code",
      "execution_count": null,
      "metadata": {
        "id": "M1DuSw2h_vGE"
      },
      "outputs": [],
      "source": [
        "sp.integrate(x**2, x)"
      ]
    }
  ],
  "metadata": {
    "kernelspec": {
      "display_name": "Python 3 (ipykernel)",
      "language": "python",
      "name": "python3",
      "path": "/media/dch/Disk2/Vizja/Math-2024-25-Winter/.venv/share/jupyter/kernels/python3"
    },
    "colab": {
      "provenance": []
    }
  },
  "nbformat": 4,
  "nbformat_minor": 0
}