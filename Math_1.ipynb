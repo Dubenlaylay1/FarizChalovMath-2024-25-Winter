{
  "nbformat": 4,
  "nbformat_minor": 0,
  "metadata": {
    "colab": {
      "provenance": [],
      "authorship_tag": "ABX9TyOwPAaC1K2Bq7qHC8tme9q0",
      "include_colab_link": true
    },
    "kernelspec": {
      "name": "python3",
      "display_name": "Python 3"
    },
    "language_info": {
      "name": "python"
    }
  },
  "cells": [
    {
      "cell_type": "markdown",
      "metadata": {
        "id": "view-in-github",
        "colab_type": "text"
      },
      "source": [
        "<a href=\"https://colab.research.google.com/github/Dubenlaylay1/Math-2024-25-Winter/blob/main/Math_1.ipynb\" target=\"_parent\"><img src=\"https://colab.research.google.com/assets/colab-badge.svg\" alt=\"Open In Colab\"/></a>"
      ]
    },
    {
      "cell_type": "code",
      "source": [],
      "metadata": {
        "id": "JWzV262G1lBJ"
      },
      "execution_count": 4,
      "outputs": []
    },
    {
      "cell_type": "code",
      "source": [
        "#### Basic Operations on Matrices\n",
        "# prompt: A = [1, 2], [3,4]\n",
        "# B = [5,6], [7,8]\n",
        "# [6, 8], [10, 12] = A + B\n",
        "\n",
        "import numpy as np\n",
        "\n",
        "A = np.array([[1, 2], [3, 4]])\n",
        "B = np.array([[5, 6], [7, 8]])\n",
        "\n",
        "# Addition of matrices A and B\n",
        "result = A + B\n",
        "\n",
        "result"
      ],
      "metadata": {
        "colab": {
          "base_uri": "https://localhost:8080/"
        },
        "id": "RYE9gFxE1oZI",
        "outputId": "2a558e3e-f393-43ba-dee9-f764ed16e6d6"
      },
      "execution_count": 12,
      "outputs": [
        {
          "output_type": "execute_result",
          "data": {
            "text/plain": [
              "array([[ 6,  8],\n",
              "       [10, 12]])"
            ]
          },
          "metadata": {},
          "execution_count": 12
        }
      ]
    },
    {
      "cell_type": "code",
      "source": [
        "import numpy as np\n",
        "\n",
        "A = np.array([[4, 2], [12, 4]])\n",
        "# Note that we are creating a new array with the specified values.\n",
        "# Multiplying a numpy array by a scalar multiplies each element.\n",
        "result = A * (1/2)\n",
        "\n",
        "# Expected result for verification\n",
        "expected_result = np.array([[2, 1], [6, 2]])\n",
        "\n",
        "# Check if the calculated result matches the expected result\n",
        "is_equal = np.array_equal(result, expected_result)\n",
        "\n",
        "result, is_equal\n"
      ],
      "metadata": {
        "colab": {
          "base_uri": "https://localhost:8080/"
        },
        "id": "VskgaAvA5C3U",
        "outputId": "5c8e4adb-a812-46e1-bcff-e77843b7d584"
      },
      "execution_count": 10,
      "outputs": [
        {
          "output_type": "execute_result",
          "data": {
            "text/plain": [
              "(array([[2., 1.],\n",
              "        [6., 2.]]),\n",
              " True)"
            ]
          },
          "metadata": {},
          "execution_count": 10
        }
      ]
    },
    {
      "cell_type": "markdown",
      "source": [],
      "metadata": {
        "id": "j8BInkxA8MTl"
      }
    },
    {
      "cell_type": "code",
      "source": [
        "# prompt: A = np.array([[3, 2], [2, 4]])\n",
        "# B = np.array([[4, 1], [0, 4]])\n",
        "# result = np.dot(A, B)\n",
        "# expected_result = np.array([[18, 11], [16, 18]])\n",
        "# is_correct = np.array_equal(result, expected_result)\n",
        "\n",
        "import numpy as np\n",
        "\n",
        "A = np.array([[3, 2], [2, 4]])\n",
        "B = np.array([[4, 1], [0, 4]])\n",
        "result = np.dot(A, B)\n",
        "expected_result = np.array([[18, 11], [16, 18]])\n",
        "is_correct = np.array_equal(result, expected_result)\n",
        "\n",
        "print(f\"Result of matrix multiplication:\\n{result}\")\n",
        "print(f\"Is the result correct?: {is_correct}\")"
      ],
      "metadata": {
        "colab": {
          "base_uri": "https://localhost:8080/"
        },
        "id": "KZd5WoTm8c7B",
        "outputId": "ee3cfdc9-e69b-4606-8452-83df9ff6dc6b"
      },
      "execution_count": 8,
      "outputs": [
        {
          "output_type": "execute_result",
          "data": {
            "text/plain": [
              "(Matrix([\n",
              " [2, 4],\n",
              " [6, 8]]),\n",
              " True)"
            ]
          },
          "metadata": {},
          "execution_count": 8
        }
      ]
    },
    {
      "cell_type": "code",
      "source": [
        "####2. Determinants 2x2 and 3x3\n"
      ],
      "metadata": {
        "id": "c11ROp95_cPb"
      },
      "execution_count": null,
      "outputs": []
    },
    {
      "cell_type": "code",
      "source": [],
      "metadata": {
        "id": "edP8xrnQ83Lq"
      },
      "execution_count": null,
      "outputs": []
    }
  ]
}