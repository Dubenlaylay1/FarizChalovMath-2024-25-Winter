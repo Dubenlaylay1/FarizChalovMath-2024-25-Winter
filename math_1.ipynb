{
  "nbformat": 4,
  "nbformat_minor": 0,
  "metadata": {
    "colab": {
      "provenance": [],
      "authorship_tag": "ABX9TyNWzEbbfWPUrc8txtNUFp0f",
      "include_colab_link": true
    },
    "kernelspec": {
      "name": "python3",
      "display_name": "Python 3"
    },
    "language_info": {
      "name": "python"
    }
  },
  "cells": [
    {
      "cell_type": "markdown",
      "metadata": {
        "id": "view-in-github",
        "colab_type": "text"
      },
      "source": [
        "<a href=\"https://colab.research.google.com/github/Dubenlaylay1/Math-2024-25-Winter/blob/main/math_1.ipynb\" target=\"_parent\"><img src=\"https://colab.research.google.com/assets/colab-badge.svg\" alt=\"Open In Colab\"/></a>"
      ]
    },
    {
      "cell_type": "code",
      "source": [
        "####1. Basic Operations on Matrices"
      ],
      "metadata": {
        "id": "JWzV262G1lBJ"
      },
      "execution_count": null,
      "outputs": []
    },
    {
      "cell_type": "code",
      "source": [
        "\n",
        "# prompt: A = [1, 2], [3,4]\n",
        "# B = [5,6], [7,8]\n",
        "# [6, 8], [10, 12] = A + B\n",
        "\n",
        "import numpy as np\n",
        "\n",
        "A = np.array([[1, 2], [3, 4]])\n",
        "B = np.array([[5, 6], [7, 8]])\n",
        "\n",
        "# Addition of matrices A and B\n",
        "result = A + B\n",
        "\n",
        "result"
      ],
      "metadata": {
        "colab": {
          "base_uri": "https://localhost:8080/"
        },
        "id": "RYE9gFxE1oZI",
        "outputId": "4fce3065-4436-4729-c3f8-2df9d7c8140f"
      },
      "execution_count": null,
      "outputs": [
        {
          "output_type": "execute_result",
          "data": {
            "text/plain": [
              "array([[ 6,  8],\n",
              "       [10, 12]])"
            ]
          },
          "metadata": {},
          "execution_count": 27
        }
      ]
    },
    {
      "cell_type": "code",
      "source": [
        "import numpy as np\n",
        "\n",
        "A = np.array([[4, 2], [12, 4]])\n",
        "# Note that we are creating a new array with the specified values.\n",
        "# Multiplying a numpy array by a scalar multiplies each element.\n",
        "result = A * (1/2)\n",
        "\n",
        "# Expected result for verification\n",
        "expected_result = np.array([[2, 1], [6, 2]])\n",
        "\n",
        "# Check if the calculated result matches the expected result\n",
        "is_equal = np.array_equal(result, expected_result)\n",
        "\n",
        "result, is_equal\n"
      ],
      "metadata": {
        "colab": {
          "base_uri": "https://localhost:8080/"
        },
        "id": "VskgaAvA5C3U",
        "outputId": "59c5d322-2f5e-4f62-d311-28f36173789c"
      },
      "execution_count": null,
      "outputs": [
        {
          "output_type": "execute_result",
          "data": {
            "text/plain": [
              "(array([[2., 1.],\n",
              "        [6., 2.]]),\n",
              " True)"
            ]
          },
          "metadata": {},
          "execution_count": 28
        }
      ]
    },
    {
      "cell_type": "markdown",
      "source": [],
      "metadata": {
        "id": "j8BInkxA8MTl"
      }
    },
    {
      "cell_type": "code",
      "source": [
        "# prompt: A = np.array([[3, 2], [2, 4]])\n",
        "# B = np.array([[4, 1], [0, 4]])\n",
        "# result = np.dot(A, B)\n",
        "# expected_result = np.array([[18, 11], [16, 18]])\n",
        "# is_correct = np.array_equal(result, expected_result)\n",
        "\n",
        "import numpy as np\n",
        "\n",
        "A = np.array([[3, 2], [2, 4]])\n",
        "B = np.array([[4, 1], [0, 4]])\n",
        "result = np.dot(A, B)\n",
        "expected_result = np.array([[18, 11], [16, 18]])\n",
        "is_correct = np.array_equal(result, expected_result)\n",
        "\n",
        "print(f\"Result of matrix multiplication:\\n{result}\")\n",
        "print(f\"Is the result correct?: {is_correct}\")"
      ],
      "metadata": {
        "colab": {
          "base_uri": "https://localhost:8080/"
        },
        "id": "KZd5WoTm8c7B",
        "outputId": "16407855-183a-4cce-a34a-79c47c14dd6e"
      },
      "execution_count": null,
      "outputs": [
        {
          "output_type": "stream",
          "name": "stdout",
          "text": [
            "Result of matrix multiplication:\n",
            "[[12 11]\n",
            " [ 8 18]]\n",
            "Is the result correct?: False\n"
          ]
        }
      ]
    },
    {
      "cell_type": "code",
      "source": [
        "####2. Determinants 2x2 and 3x3\n"
      ],
      "metadata": {
        "id": "c11ROp95_cPb"
      },
      "execution_count": null,
      "outputs": []
    },
    {
      "cell_type": "code",
      "source": [
        "import sympy as sp\n",
        "\n",
        "# Define the matrix\n",
        "A = sp.Matrix([[2, 3], [1, 4]])\n",
        "A # display the matrix"
      ],
      "metadata": {
        "colab": {
          "base_uri": "https://localhost:8080/",
          "height": 58
        },
        "id": "IqXcYBvfszzq",
        "outputId": "ee236873-b290-46d8-e02d-cf284201c220"
      },
      "execution_count": null,
      "outputs": [
        {
          "output_type": "execute_result",
          "data": {
            "text/plain": [
              "Matrix([\n",
              "[2, 3],\n",
              "[1, 4]])"
            ],
            "text/latex": "$\\displaystyle \\left[\\begin{matrix}2 & 3\\\\1 & 4\\end{matrix}\\right]$"
          },
          "metadata": {},
          "execution_count": 31
        }
      ]
    },
    {
      "cell_type": "code",
      "source": [
        "(2*4 - 3*1) == A.det()"
      ],
      "metadata": {
        "colab": {
          "base_uri": "https://localhost:8080/"
        },
        "id": "LU_WNiNGs9Sb",
        "outputId": "3fe6a975-aa31-4774-85de-f26516a3fca7"
      },
      "execution_count": null,
      "outputs": [
        {
          "output_type": "execute_result",
          "data": {
            "text/plain": [
              "True"
            ]
          },
          "metadata": {},
          "execution_count": 32
        }
      ]
    },
    {
      "cell_type": "code",
      "source": [
        "import sympy as sp\n",
        "\n",
        "# Define the matrix\n",
        "A = sp.Matrix([[5, 6], [7, 8]])\n",
        "A # display the matrix"
      ],
      "metadata": {
        "colab": {
          "base_uri": "https://localhost:8080/",
          "height": 58
        },
        "id": "gUKZRzxtthXJ",
        "outputId": "10a693c4-3c97-4a30-bc5a-a5c148d04b57"
      },
      "execution_count": null,
      "outputs": [
        {
          "output_type": "execute_result",
          "data": {
            "text/plain": [
              "Matrix([\n",
              "[5, 6],\n",
              "[7, 8]])"
            ],
            "text/latex": "$\\displaystyle \\left[\\begin{matrix}5 & 6\\\\7 & 8\\end{matrix}\\right]$"
          },
          "metadata": {},
          "execution_count": 33
        }
      ]
    },
    {
      "cell_type": "code",
      "source": [
        "(5*8 - 6*7) == A.det()"
      ],
      "metadata": {
        "colab": {
          "base_uri": "https://localhost:8080/"
        },
        "id": "vXrNCicCuAxc",
        "outputId": "f23f796f-57f5-480b-e36b-e0f71ed147e9"
      },
      "execution_count": null,
      "outputs": [
        {
          "output_type": "execute_result",
          "data": {
            "text/plain": [
              "True"
            ]
          },
          "metadata": {},
          "execution_count": 34
        }
      ]
    },
    {
      "cell_type": "code",
      "source": [
        "import sympy as sp\n",
        "\n",
        "# Define the matrix\n",
        "A = sp.Matrix([[-1, 2], [3, 0]])\n",
        "A # display the matrix"
      ],
      "metadata": {
        "colab": {
          "base_uri": "https://localhost:8080/",
          "height": 58
        },
        "id": "W7v9QpeeuRcq",
        "outputId": "0e12b3b6-5b8b-4e2c-f24b-64db28b2d5ef"
      },
      "execution_count": null,
      "outputs": [
        {
          "output_type": "execute_result",
          "data": {
            "text/plain": [
              "Matrix([\n",
              "[-1, 2],\n",
              "[ 3, 0]])"
            ],
            "text/latex": "$\\displaystyle \\left[\\begin{matrix}-1 & 2\\\\3 & 0\\end{matrix}\\right]$"
          },
          "metadata": {},
          "execution_count": 35
        }
      ]
    },
    {
      "cell_type": "code",
      "source": [
        "(-1*0 - 3*2) == A.det()"
      ],
      "metadata": {
        "colab": {
          "base_uri": "https://localhost:8080/"
        },
        "id": "FjrWYkYjukvb",
        "outputId": "d337beb2-b919-4ce8-d532-d2c17895062b"
      },
      "execution_count": null,
      "outputs": [
        {
          "output_type": "execute_result",
          "data": {
            "text/plain": [
              "True"
            ]
          },
          "metadata": {},
          "execution_count": 36
        }
      ]
    },
    {
      "cell_type": "code",
      "source": [
        "####3x3 Matrices\n",
        "import sympy as sp\n",
        "\n",
        "# Define the matrix\n",
        "A = sp.Matrix([[1, 0, 2], [-1, 3, 1], [2, 4, -2]])\n",
        "A # display the matrix"
      ],
      "metadata": {
        "colab": {
          "base_uri": "https://localhost:8080/",
          "height": 78
        },
        "id": "XGqQqj0Wu2D3",
        "outputId": "e16a0fbf-b1a8-4222-88ea-f679a3819471"
      },
      "execution_count": null,
      "outputs": [
        {
          "output_type": "execute_result",
          "data": {
            "text/plain": [
              "Matrix([\n",
              "[ 1, 0,  2],\n",
              "[-1, 3,  1],\n",
              "[ 2, 4, -2]])"
            ],
            "text/latex": "$\\displaystyle \\left[\\begin{matrix}1 & 0 & 2\\\\-1 & 3 & 1\\\\2 & 4 & -2\\end{matrix}\\right]$"
          },
          "metadata": {},
          "execution_count": 37
        }
      ]
    },
    {
      "cell_type": "code",
      "source": [
        "# Select the first row [1, 0, 2]\n",
        "# Define the appropriate minors\n",
        "M11 = sp.Matrix([[3, 1], [4, -2]])\n",
        "M12 = sp.Matrix([[-1, 1], [2, -2]])\n",
        "M13 = sp.Matrix([[-1, 3], [2, 4]])\n",
        "\n",
        "# Calculate the determinant\n",
        "d = 1*M11.det() - 0*M12.det() + 2*M13.det()\n",
        "\n",
        "d == A.det()"
      ],
      "metadata": {
        "colab": {
          "base_uri": "https://localhost:8080/"
        },
        "id": "iudLc0bMvQ9m",
        "outputId": "c8f5a223-c5ab-4ade-a9ff-7044fa6dccad"
      },
      "execution_count": null,
      "outputs": [
        {
          "output_type": "execute_result",
          "data": {
            "text/plain": [
              "True"
            ]
          },
          "metadata": {},
          "execution_count": 38
        }
      ]
    },
    {
      "cell_type": "code",
      "source": [
        "import sympy as sp\n",
        "\n",
        "# Define the matrix\n",
        "A = sp.Matrix([[3, 1, -1], [0, 2, 4], [5, 3, 2]])\n",
        "A # display the matrix"
      ],
      "metadata": {
        "colab": {
          "base_uri": "https://localhost:8080/",
          "height": 78
        },
        "id": "kmocP14aw3Hu",
        "outputId": "04edb57f-0693-4017-e6e2-79ec913a3054"
      },
      "execution_count": null,
      "outputs": [
        {
          "output_type": "execute_result",
          "data": {
            "text/plain": [
              "Matrix([\n",
              "[3, 1, -1],\n",
              "[0, 2,  4],\n",
              "[5, 3,  2]])"
            ],
            "text/latex": "$\\displaystyle \\left[\\begin{matrix}3 & 1 & -1\\\\0 & 2 & 4\\\\5 & 3 & 2\\end{matrix}\\right]$"
          },
          "metadata": {},
          "execution_count": 39
        }
      ]
    },
    {
      "cell_type": "code",
      "source": [
        "# Select the first row [1, 0, 2]\n",
        "# Define the appropriate minors\n",
        "M11 = sp.Matrix([[2, 4], [3, 2]])\n",
        "M12 = sp.Matrix([[0, 4], [5, 2]])\n",
        "M13 = sp.Matrix([[0, 2], [5, 3]])\n",
        "\n",
        "# Calculate the determinant\n",
        "d = 3*M11.det() - 1*M12.det() + -1*M13.det()\n",
        "\n",
        "d == A.det()"
      ],
      "metadata": {
        "colab": {
          "base_uri": "https://localhost:8080/"
        },
        "id": "5GSJctzPxZ7X",
        "outputId": "c2e4eb93-bc35-4bdd-981e-384679ceb8ce"
      },
      "execution_count": null,
      "outputs": [
        {
          "output_type": "execute_result",
          "data": {
            "text/plain": [
              "True"
            ]
          },
          "metadata": {},
          "execution_count": 40
        }
      ]
    },
    {
      "cell_type": "code",
      "source": [
        "import sympy as sp\n",
        "\n",
        "# Define the matrix\n",
        "A = sp.Matrix([[2, -3, 1], [1, 4, -2], [1, 5, 3]])\n",
        "A # display the matrix\n"
      ],
      "metadata": {
        "colab": {
          "base_uri": "https://localhost:8080/",
          "height": 78
        },
        "id": "cJaLpEB3yEhj",
        "outputId": "019c70c0-639a-425e-f1a6-af4d324a6772"
      },
      "execution_count": null,
      "outputs": [
        {
          "output_type": "execute_result",
          "data": {
            "text/plain": [
              "Matrix([\n",
              "[2, -3,  1],\n",
              "[1,  4, -2],\n",
              "[1,  5,  3]])"
            ],
            "text/latex": "$\\displaystyle \\left[\\begin{matrix}2 & -3 & 1\\\\1 & 4 & -2\\\\1 & 5 & 3\\end{matrix}\\right]$"
          },
          "metadata": {},
          "execution_count": 41
        }
      ]
    },
    {
      "cell_type": "code",
      "source": [
        "# Select the first row [2, -3, 1]\n",
        "# Define the appropriate minors\n",
        "M11 = sp.Matrix([[4, -2], [5, 3]])\n",
        "M12 = sp.Matrix([[1, -2], [1, 3]])\n",
        "M13 = sp.Matrix([[1, 4], [1, 5]])\n",
        "\n",
        "# Calculate the determinant\n",
        "d = 2*M11.det() - -3*M12.det() + 1*M13.det()\n",
        "\n",
        "d == A.det()"
      ],
      "metadata": {
        "colab": {
          "base_uri": "https://localhost:8080/"
        },
        "id": "B8coEA_Sy1NI",
        "outputId": "106a20dc-2ee7-433e-b857-defb4f57444b"
      },
      "execution_count": null,
      "outputs": [
        {
          "output_type": "execute_result",
          "data": {
            "text/plain": [
              "True"
            ]
          },
          "metadata": {},
          "execution_count": 42
        }
      ]
    },
    {
      "cell_type": "code",
      "source": [
        "####3. Determinants using Laplace's Expansion"
      ],
      "metadata": {
        "id": "TeSzhfPgzxwZ"
      },
      "execution_count": null,
      "outputs": []
    },
    {
      "cell_type": "code",
      "source": [
        "import sympy as sp\n",
        "\n",
        "# Define the matrix\n",
        "A = sp.Matrix([[2, 3, 1], [1, 4, 0], [3, 2, 1]])\n",
        "A # display the matrix"
      ],
      "metadata": {
        "colab": {
          "base_uri": "https://localhost:8080/",
          "height": 78
        },
        "id": "44CitpIsz6c2",
        "outputId": "e22f8075-0056-49d9-f8c2-d4a3241f4084"
      },
      "execution_count": null,
      "outputs": [
        {
          "output_type": "execute_result",
          "data": {
            "text/plain": [
              "Matrix([\n",
              "[2, 3, 1],\n",
              "[1, 4, 0],\n",
              "[3, 2, 1]])"
            ],
            "text/latex": "$\\displaystyle \\left[\\begin{matrix}2 & 3 & 1\\\\1 & 4 & 0\\\\3 & 2 & 1\\end{matrix}\\right]$"
          },
          "metadata": {},
          "execution_count": 44
        }
      ]
    },
    {
      "cell_type": "code",
      "source": [
        "# Select the first row [2, 3, 1]\n",
        "# Define the appropriate minors\n",
        "M11 = sp.Matrix([[4, 0], [2, 1]])\n",
        "M12 = sp.Matrix([[1, 0], [2, 1]])\n",
        "M13 = sp.Matrix([[1, 4], [3, 2]])\n",
        "\n",
        "# Calculate the determinant\n",
        "d = 2*M11.det() - 3*M12.det() + 1*M13.det()\n",
        "\n",
        "d == A.det()"
      ],
      "metadata": {
        "colab": {
          "base_uri": "https://localhost:8080/"
        },
        "id": "svthZQA01Ysr",
        "outputId": "f9ab8015-4810-4e21-d53e-16580ea8551d"
      },
      "execution_count": null,
      "outputs": [
        {
          "output_type": "execute_result",
          "data": {
            "text/plain": [
              "True"
            ]
          },
          "metadata": {},
          "execution_count": 45
        }
      ]
    },
    {
      "cell_type": "code",
      "source": [
        "# Define the matrix\n",
        "C = sp.Matrix([[2, 3, 1, 4,], [1, 0, 0, 6], [3, 2, 1, 5], [2, 1, 4, 0]])\n",
        "C # display the matrix"
      ],
      "metadata": {
        "colab": {
          "base_uri": "https://localhost:8080/",
          "height": 98
        },
        "id": "z6CUbGIK1qbo",
        "outputId": "76dabcb2-97e6-4e44-8677-446520a13167"
      },
      "execution_count": null,
      "outputs": [
        {
          "output_type": "execute_result",
          "data": {
            "text/plain": [
              "Matrix([\n",
              "[2, 3, 1, 4],\n",
              "[1, 0, 0, 6],\n",
              "[3, 2, 1, 5],\n",
              "[2, 1, 4, 0]])"
            ],
            "text/latex": "$\\displaystyle \\left[\\begin{matrix}2 & 3 & 1 & 4\\\\1 & 0 & 0 & 6\\\\3 & 2 & 1 & 5\\\\2 & 1 & 4 & 0\\end{matrix}\\right]$"
          },
          "metadata": {},
          "execution_count": 58
        }
      ]
    },
    {
      "cell_type": "code",
      "source": [
        "# Verify the correctness of the calculations\n",
        "M11 = sp.Matrix([[0, 0, 6], [2, 1, 5], [1, 4, 0]])\n",
        "M12 = sp.Matrix([[1, 0, 6], [3, 1, 5], [2, 4, 0]])\n",
        "M13 = sp.Matrix([[1, 0, 6], [3, 2, 5], [2, 1, 0]])\n",
        "M14 = sp.Matrix([[1, 0, 0], [3, 2, 1], [2, 1, 4]])\n",
        "\n",
        "(2*M11.det() - 3*M12.det() + 1*M13.det() - 4*M14.det()) == C.det()\n",
        "\n",
        "d = 2*M11.det() - 3*M12.det() + 1*M13.det() - 4*M14.det()\n",
        "d == C.det()"
      ],
      "metadata": {
        "colab": {
          "base_uri": "https://localhost:8080/"
        },
        "id": "QwQCNSa4267a",
        "outputId": "0d8ed31a-9176-4a85-a368-800951738716"
      },
      "execution_count": null,
      "outputs": [
        {
          "output_type": "execute_result",
          "data": {
            "text/plain": [
              "True"
            ]
          },
          "metadata": {},
          "execution_count": 64
        }
      ]
    },
    {
      "cell_type": "code",
      "source": [
        "\n",
        "\n",
        "# 5x5 Matrix\n",
        "D = sp.Matrix([[2, 3, 1, 4, 5], [1, 4, 0, 0, 7], [3, 0, 0, 0, 0], [2, 1, 4, 3, 2], [1, 2, 3, 4, 5]]) # Separate each row with a comma\n",
        "D"
      ],
      "metadata": {
        "colab": {
          "base_uri": "https://localhost:8080/",
          "height": 119
        },
        "id": "Gt013Qt191Vy",
        "outputId": "845b2529-20e2-4102-bfb5-156b61cafbed"
      },
      "execution_count": null,
      "outputs": [
        {
          "output_type": "execute_result",
          "data": {
            "text/plain": [
              "Matrix([\n",
              "[2, 3, 1, 4, 5],\n",
              "[1, 4, 0, 0, 7],\n",
              "[3, 0, 0, 0, 0],\n",
              "[2, 1, 4, 3, 2],\n",
              "[1, 2, 3, 4, 5]])"
            ],
            "text/latex": "$\\displaystyle \\left[\\begin{matrix}2 & 3 & 1 & 4 & 5\\\\1 & 4 & 0 & 0 & 7\\\\3 & 0 & 0 & 0 & 0\\\\2 & 1 & 4 & 3 & 2\\\\1 & 2 & 3 & 4 & 5\\end{matrix}\\right]$"
          },
          "metadata": {},
          "execution_count": 73
        }
      ]
    },
    {
      "cell_type": "code",
      "source": [
        "# Verify the correctness of the calculations\n",
        "M11 = sp.Matrix([[4, 0, 0, 7], [0, 0, 0, 0,], [1, 4, 3, 2], [2, 3, 4, 5]])\n",
        "M12 = sp.Matrix([[1, 0, 0, 7], [3,0, 0, 0], [2, 4, 3, 2], [1, 3, 4, 5]])\n",
        "M13 = sp.Matrix([[1, 4, 0, 7], [3, 0, 0, 0], [2, 1, 3, 2], [1, 2, 4, 5]])\n",
        "M14 = sp.Matrix([[1, 4, 0, 7], [3, 0, 0, 0], [2, 1, 4, 2], [1, 2, 3, 5]])\n",
        "M15 = sp.Matrix([[1, 4, 0, 0], [3, 0, 0, 0], [2, 1, 4, 3], [1, 2, 3, 4]])\n",
        "\n",
        "(2*M11.det() - 3*M12.det() + 1*M13.det() - 4*M14.det() + 5*M15.det()) == D.det()\n",
        "d = 2*M11.det() - 3*M12.det() + 1*M13.det() - 4*M14.det() + 5*M15.det()\n",
        "d == D.det()"
      ],
      "metadata": {
        "colab": {
          "base_uri": "https://localhost:8080/"
        },
        "id": "Ty5dCiaa-TkB",
        "outputId": "02f63481-f1ed-475f-f07a-0f32e849cba2"
      },
      "execution_count": null,
      "outputs": [
        {
          "output_type": "execute_result",
          "data": {
            "text/plain": [
              "True"
            ]
          },
          "metadata": {},
          "execution_count": 78
        }
      ]
    },
    {
      "cell_type": "code",
      "source": [
        "####4. Determinants from the Gauss Method and Triangular Matrices"
      ],
      "metadata": {
        "id": "0vz0yh-EEaGi"
      },
      "execution_count": null,
      "outputs": []
    },
    {
      "cell_type": "code",
      "source": [],
      "metadata": {
        "id": "r0r4PQL_GoK3"
      },
      "execution_count": null,
      "outputs": []
    }
  ]
}