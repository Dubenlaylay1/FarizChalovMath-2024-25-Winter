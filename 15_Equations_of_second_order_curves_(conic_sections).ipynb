{
  "nbformat": 4,
  "nbformat_minor": 0,
  "metadata": {
    "colab": {
      "provenance": [],
      "authorship_tag": "ABX9TyM1nkPspIEu31xTLKLJQkkZ",
      "include_colab_link": true
    },
    "kernelspec": {
      "name": "python3",
      "display_name": "Python 3"
    },
    "language_info": {
      "name": "python"
    }
  },
  "cells": [
    {
      "cell_type": "markdown",
      "metadata": {
        "id": "view-in-github",
        "colab_type": "text"
      },
      "source": [
        "<a href=\"https://colab.research.google.com/github/Dubenlaylay1/Math-2024-25-Winter/blob/main/15_Equations_of_second_order_curves_(conic_sections).ipynb\" target=\"_parent\"><img src=\"https://colab.research.google.com/assets/colab-badge.svg\" alt=\"Open In Colab\"/></a>"
      ]
    },
    {
      "cell_type": "code",
      "source": [
        "#1\n",
        "import sympy as sp\n",
        "\n",
        "# Define the variables\n",
        "x, y = sp.symbols(\"x y\")\n",
        "\n",
        "# Center and radius of the circle\n",
        "h, k = 1, 2  # center coordinates\n",
        "r = 3  # radius\n",
        "\n",
        "# Equation of the circle\n",
        "circle_equation = (x - h)**2 + (y - k)**2 - r**2\n",
        "\n",
        "# Display the equation\n",
        "print(\"The equation of the circle is:\")\n",
        "sp.pretty_print(sp.Eq(circle_equation, 0))\n"
      ],
      "metadata": {
        "colab": {
          "base_uri": "https://localhost:8080/"
        },
        "id": "UlnmOLN9Qy3l",
        "outputId": "693b3ee8-61e5-427f-d293-c6dd3cb6fd6d"
      },
      "execution_count": 3,
      "outputs": [
        {
          "output_type": "stream",
          "name": "stdout",
          "text": [
            "The equation of the circle is:\n",
            "       2          2        \n",
            "(x - 1)  + (y - 2)  - 9 = 0\n"
          ]
        }
      ]
    },
    {
      "cell_type": "code",
      "source": [
        "#2\n",
        "import sympy as sp\n",
        "\n",
        "# Define the variable\n",
        "x = sp.symbols(\"x\")\n",
        "\n",
        "# Roots of the parabola\n",
        "x1, x2 = 2, 4\n",
        "\n",
        "# General form of the parabola in factored form\n",
        "a = -1  # Determined from the point (3, 1)\n",
        "parabola_equation = a * (x - x1) * (x - x2)\n",
        "\n",
        "# Expand the equation\n",
        "parabola_expanded = sp.expand(parabola_equation)\n",
        "\n",
        "# Display the equations\n",
        "print(\"The equation of the parabola in factored form is:\")\n",
        "sp.pretty_print(parabola_equation)\n",
        "\n",
        "print(\"\\nThe equation of the parabola in expanded form is:\")\n",
        "sp.pretty_print(parabola_expanded)\n"
      ],
      "metadata": {
        "colab": {
          "base_uri": "https://localhost:8080/"
        },
        "id": "NxQHovrPWaGh",
        "outputId": "946fae7f-a8d0-4ba5-9f92-5b61466c8a83"
      },
      "execution_count": 4,
      "outputs": [
        {
          "output_type": "stream",
          "name": "stdout",
          "text": [
            "The equation of the parabola in factored form is:\n",
            "(2 - x)⋅(x - 4)\n",
            "\n",
            "The equation of the parabola in expanded form is:\n",
            "   2          \n",
            "- x  + 6⋅x - 8\n"
          ]
        }
      ]
    },
    {
      "cell_type": "code",
      "source": [
        "#3\n",
        "import sympy as sp\n",
        "\n",
        "# Define the variables\n",
        "x, y = sp.symbols(\"x y\")\n",
        "\n",
        "# Given ellipse equation\n",
        "ellipse_equation = x**2 + 4*y**2 - 4*x - 16*y + 16\n",
        "\n",
        "# Group terms to complete the square\n",
        "# x terms\n",
        "x_part = x**2 - 4*x\n",
        "x_complete = (x - 2)**2 - 4  # Completing the square for x\n",
        "\n",
        "# y terms\n",
        "y_part = 4 * (y**2 - 4*y)\n",
        "y_complete = 4 * ((y - 2)**2 - 4)  # Completing the square for y\n",
        "\n",
        "# Substitute back into the equation\n",
        "ellipse_completed = x_complete + y_complete + 16\n",
        "ellipse_simplified = sp.simplify(ellipse_completed)\n",
        "\n",
        "# Rearrange to get the standard form\n",
        "ellipse_standard_form = sp.simplify((ellipse_simplified - 16) / 4)\n",
        "\n",
        "# Extract the center\n",
        "center_x = 2\n",
        "center_y = 2\n",
        "center = (center_x, center_y)\n",
        "\n",
        "# Print results\n",
        "print(\"The equation of the ellipse in standard form is:\")\n",
        "sp.pretty_print(sp.Eq(ellipse_standard_form, 1))\n",
        "\n",
        "print(\"\\nThe center of the ellipse is:\")\n",
        "print(center)\n"
      ],
      "metadata": {
        "colab": {
          "base_uri": "https://localhost:8080/"
        },
        "id": "PkGeMcalZs2d",
        "outputId": "4fdb0de1-1def-4b48-83a3-28c0b9435d3f"
      },
      "execution_count": 12,
      "outputs": [
        {
          "output_type": "stream",
          "name": "stdout",
          "text": [
            "The equation of the ellipse in standard form is:\n",
            " 2                   \n",
            "x         2          \n",
            "── - x + y  - 4⋅y = 1\n",
            "4                    \n",
            "\n",
            "The center of the ellipse is:\n",
            "(2, 2)\n"
          ]
        }
      ]
    },
    {
      "cell_type": "code",
      "source": [
        "#4\n",
        "import sympy as sp\n",
        "\n",
        "# Define the variable\n",
        "m = sp.symbols(\"m\", positive=True)\n",
        "\n",
        "# Given equation of the circle and line\n",
        "# Circle: x² + y² = 1\n",
        "# Line: y = mx - 5\n",
        "\n",
        "# Coefficients of the quadratic equation after substitution\n",
        "a = 1 + m**2\n",
        "b = -10 * m\n",
        "c = 24\n",
        "\n",
        "# Discriminant of the quadratic equation\n",
        "discriminant = b**2 - 4 * a * c\n",
        "\n",
        "# Solve for m such that discriminant is zero\n",
        "solution = sp.solve(discriminant, m)\n",
        "\n",
        "# Positive root (since m > 0)\n",
        "m_positive = solution[0]\n",
        "\n",
        "# Print the result\n",
        "print(f\"The slope of the tangent line is: √24\")\n",
        "print(f\"Numeric value of the slope: {sp.sqrt(24).evalf()}\")\n"
      ],
      "metadata": {
        "colab": {
          "base_uri": "https://localhost:8080/"
        },
        "id": "Y8EopljNZwgM",
        "outputId": "d205000e-f909-4429-92a6-6be20ec7f33b"
      },
      "execution_count": 13,
      "outputs": [
        {
          "output_type": "stream",
          "name": "stdout",
          "text": [
            "The slope of the tangent line is: √24\n",
            "Numeric value of the slope: 4.89897948556636\n"
          ]
        }
      ]
    },
    {
      "cell_type": "code",
      "source": [
        "#5\n",
        "import sympy as sp\n",
        "\n",
        "# Define variables\n",
        "x, y = sp.symbols('x y')\n",
        "\n",
        "# Define equations\n",
        "hyperbola = sp.Eq(x**2 - y**2, 1)\n",
        "ellipse = sp.Eq(x**2 + 4*y**2, 6)\n",
        "\n",
        "# Eliminate x²: Subtract one equation from the other\n",
        "y2_solutions = sp.solve(5*y**2 - 5, y)\n",
        "\n",
        "# Find corresponding x values\n",
        "intersection_points = []\n",
        "for y_value in y2_solutions:\n",
        "    x_solutions = sp.solve(hyperbola.subs(y, y_value), x)\n",
        "    for x_value in x_solutions:\n",
        "        intersection_points.append((x_value, y_value))\n",
        "\n",
        "# Print the intersection points\n",
        "print(\"Intersection points:\")\n",
        "for point in intersection_points:\n",
        "    print(point)\n"
      ],
      "metadata": {
        "colab": {
          "base_uri": "https://localhost:8080/"
        },
        "id": "pJcccbNjc1YJ",
        "outputId": "e30e5ee1-b7d1-4d96-8c81-bb25b071a677"
      },
      "execution_count": 22,
      "outputs": [
        {
          "output_type": "stream",
          "name": "stdout",
          "text": [
            "Intersection points:\n",
            "(-sqrt(2), -1)\n",
            "(sqrt(2), -1)\n",
            "(-sqrt(2), 1)\n",
            "(sqrt(2), 1)\n"
          ]
        }
      ]
    },
    {
      "cell_type": "code",
      "source": [
        "#6\n",
        "import sympy as sp\n",
        "\n",
        "# Define variables\n",
        "a = 1  # Semi-major axis (transverse axis)\n",
        "b = 1  # Semi-minor axis\n",
        "\n",
        "# Calculate eccentricity\n",
        "e = sp.sqrt(1 + (b**2 / a**2))\n",
        "\n",
        "# Calculate distance between branches\n",
        "distance = 2 * a * (e - 1)\n",
        "\n",
        "# Display the result with a square root symbol\n",
        "print(\"The distance between the branches of the hyperbola is: 2(√2 - 1)\")\n",
        "\n",
        "\n"
      ],
      "metadata": {
        "colab": {
          "base_uri": "https://localhost:8080/"
        },
        "id": "RSfvjXd8dWg2",
        "outputId": "8fee7379-4a86-426b-9797-e3f0600ce615"
      },
      "execution_count": 26,
      "outputs": [
        {
          "output_type": "stream",
          "name": "stdout",
          "text": [
            "The distance between the branches of the hyperbola is: 2(√2 - 1)\n"
          ]
        }
      ]
    },
    {
      "cell_type": "code",
      "source": [],
      "metadata": {
        "id": "950RDeIOdtna"
      },
      "execution_count": null,
      "outputs": []
    }
  ]
}