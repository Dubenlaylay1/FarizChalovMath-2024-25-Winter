{
  "nbformat": 4,
  "nbformat_minor": 0,
  "metadata": {
    "colab": {
      "provenance": [],
      "authorship_tag": "ABX9TyOxixD4odNOOEFLJvZlNOLH",
      "include_colab_link": true
    },
    "kernelspec": {
      "name": "python3",
      "display_name": "Python 3"
    },
    "language_info": {
      "name": "python"
    }
  },
  "cells": [
    {
      "cell_type": "markdown",
      "metadata": {
        "id": "view-in-github",
        "colab_type": "text"
      },
      "source": [
        "<a href=\"https://colab.research.google.com/github/Dubenlaylay1/Math-2024-25-Winter/blob/main/14_Equations_of_lines_on_a_plane.ipynb\" target=\"_parent\"><img src=\"https://colab.research.google.com/assets/colab-badge.svg\" alt=\"Open In Colab\"/></a>"
      ]
    },
    {
      "cell_type": "code",
      "execution_count": 1,
      "metadata": {
        "colab": {
          "base_uri": "https://localhost:8080/"
        },
        "id": "fbQg4kTglMXP",
        "outputId": "643841dd-1e18-4acb-9897-4d11aeeee4b0"
      },
      "outputs": [
        {
          "output_type": "stream",
          "name": "stdout",
          "text": [
            "The equation of the line is: y = 1.0x + 1.0\n"
          ]
        }
      ],
      "source": [
        "#1\n",
        "# Define the points\n",
        "x1, y1 = 1, 2  # Point A\n",
        "x2, y2 = 3, 4  # Point B\n",
        "\n",
        "# Calculate the slope (m)\n",
        "m = (y2 - y1) / (x2 - x1)\n",
        "\n",
        "# Find the y-intercept (b) using the slope-intercept formula: y = mx + b\n",
        "b = y1 - m * x1\n",
        "\n",
        "# Print the equation of the line\n",
        "print(f\"The equation of the line is: y = {m}x + {b}\")\n"
      ]
    },
    {
      "cell_type": "code",
      "source": [
        "#2\n",
        "# Define the given point\n",
        "x1, y1 = 1, 2  # Point A\n",
        "\n",
        "# Define the slope of the parallel line (same as the given line)\n",
        "m = 2  # Slope of the line y = 2x + 3\n",
        "\n",
        "# Use the point-slope formula: y - y1 = m(x - x1)\n",
        "# Rearrange to get the slope-intercept form: y = mx + b\n",
        "b = y1 - m * x1\n",
        "\n",
        "# Print the equation of the line\n",
        "print(f\"The equation of the line is: y = {m}x + {b}\")\n"
      ],
      "metadata": {
        "colab": {
          "base_uri": "https://localhost:8080/"
        },
        "id": "ZB1QhG0FnOoY",
        "outputId": "4000605f-cfe4-4ece-9e5e-d890536cd9b9"
      },
      "execution_count": 2,
      "outputs": [
        {
          "output_type": "stream",
          "name": "stdout",
          "text": [
            "The equation of the line is: y = 2x + 0\n"
          ]
        }
      ]
    },
    {
      "cell_type": "code",
      "source": [
        "#3\n",
        "# Define the given point\n",
        "x1, y1 = 1, 2  # Point A\n",
        "\n",
        "# Define the slope of the perpendicular line\n",
        "# Slope of the given line y = 2x + 3 is 2\n",
        "# The slope of a perpendicular line is the negative reciprocal\n",
        "m_perpendicular = -1 / 2\n",
        "\n",
        "# Use the point-slope formula: y - y1 = m(x - x1)\n",
        "# Rearrange to get the slope-intercept form: y = mx + b\n",
        "b = y1 - m_perpendicular * x1\n",
        "\n",
        "# Print the equation of the line\n",
        "print(f\"The equation of the line is: y = {m_perpendicular}x + {b}\")\n"
      ],
      "metadata": {
        "colab": {
          "base_uri": "https://localhost:8080/"
        },
        "id": "GegedgrDnqZh",
        "outputId": "73680252-970b-4dd9-a177-2556246067a4"
      },
      "execution_count": 4,
      "outputs": [
        {
          "output_type": "stream",
          "name": "stdout",
          "text": [
            "The equation of the line is: y = -0.5x + 2.5\n"
          ]
        }
      ]
    },
    {
      "cell_type": "code",
      "source": [
        "#4\n",
        "import math\n",
        "\n",
        "# Define the slopes of the lines\n",
        "m1 = 2  # Slope of line 1 (y = 2x + 3)\n",
        "m2 = 3  # Slope of line 2 (y = 3x + 2)\n",
        "\n",
        "# Solve for the intersection point\n",
        "# Line equations: y = 2x + 3 and y = 3x + 2\n",
        "# At intersection, 2x + 3 = 3x + 2\n",
        "# Rearrange to find x\n",
        "x_intersection = (3 - 2) / (3 - 2)\n",
        "y_intersection = 2 * x_intersection + 3\n",
        "\n",
        "# The intersection point\n",
        "intersection_point = (x_intersection, y_intersection)\n",
        "\n",
        "# Calculate the angle between the two lines\n",
        "tan_theta = abs((m1 - m2) / (1 + m1 * m2))\n",
        "theta_radians = math.atan(tan_theta)  # Angle in radians\n",
        "theta_degrees = math.degrees(theta_radians)  # Convert to degrees\n",
        "\n",
        "# Print the results\n",
        "print(f\"The intersection point of the lines is: {intersection_point}\")\n",
        "print(f\"The angle between the lines is approximately: {theta_degrees:.2f} degrees\")\n",
        "\n"
      ],
      "metadata": {
        "colab": {
          "base_uri": "https://localhost:8080/"
        },
        "id": "aUG647tloKCN",
        "outputId": "34dd7e7d-409f-49d2-d3ce-f7f469916375"
      },
      "execution_count": 5,
      "outputs": [
        {
          "output_type": "stream",
          "name": "stdout",
          "text": [
            "The intersection point of the lines is: (1.0, 5.0)\n",
            "The angle between the lines is approximately: 8.13 degrees\n"
          ]
        }
      ]
    },
    {
      "cell_type": "code",
      "source": [
        "#5\n",
        "# Define the given point\n",
        "x1, y1 = 1, 2  # Point A\n",
        "\n",
        "# Define the slope of the line parallel to the vector v = [2, 3]\n",
        "# The slope is the ratio of the change in y to the change in x\n",
        "m = 3 / 2  # Slope of the line\n",
        "\n",
        "# Use the point-slope formula: y - y1 = m(x - x1)\n",
        "# Rearrange to get the slope-intercept form: y = mx + b\n",
        "b = y1 - m * x1\n",
        "\n",
        "# Print the equation of the line\n",
        "print(f\"The equation of the line is: y = {m}x + {b}\")\n"
      ],
      "metadata": {
        "colab": {
          "base_uri": "https://localhost:8080/"
        },
        "id": "q36RFsbvol-G",
        "outputId": "bc290630-36dc-4c1f-b020-7955cefab202"
      },
      "execution_count": 6,
      "outputs": [
        {
          "output_type": "stream",
          "name": "stdout",
          "text": [
            "The equation of the line is: y = 1.5x + 0.5\n"
          ]
        }
      ]
    },
    {
      "cell_type": "code",
      "source": [
        "#6\n",
        "# Define the slope of the given line\n",
        "m_given = 2  # Slope of the given line\n",
        "\n",
        "# Parallel line: Same slope, different y-intercept\n",
        "m_parallel = m_given\n",
        "b_parallel = 5  # Example y-intercept\n",
        "parallel_line = f\"y = {m_parallel}x + {b_parallel}\"\n",
        "\n",
        "# Perpendicular line: Slope is the negative reciprocal\n",
        "m_perpendicular = -1 / m_given\n",
        "b_perpendicular = 1  # Example y-intercept\n",
        "perpendicular_line = f\"y = {m_perpendicular}x + {b_perpendicular}\"\n",
        "\n",
        "# Print the results\n",
        "print(f\"An example of a parallel line: {parallel_line}\")\n",
        "print(f\"An example of a perpendicular line: {perpendicular_line}\")\n"
      ],
      "metadata": {
        "colab": {
          "base_uri": "https://localhost:8080/"
        },
        "id": "kaHsQ0g0pCJK",
        "outputId": "e583841f-3aaa-4360-a6f7-94f1053d22c1"
      },
      "execution_count": 7,
      "outputs": [
        {
          "output_type": "stream",
          "name": "stdout",
          "text": [
            "An example of a parallel line: y = 2x + 5\n",
            "An example of a perpendicular line: y = -0.5x + 1\n"
          ]
        }
      ]
    },
    {
      "cell_type": "code",
      "source": [
        "#7\n",
        "import math\n",
        "\n",
        "# 1. Equation of the perpendicular line\n",
        "# Given line slope\n",
        "m_given = 2\n",
        "\n",
        "# Slope of the perpendicular line\n",
        "m_perpendicular = -1 / m_given\n",
        "\n",
        "# Point A\n",
        "x1, y1 = 1, 2\n",
        "\n",
        "# Point-slope form: y - y1 = m(x - x1)\n",
        "b_perpendicular = y1 - m_perpendicular * x1  # Solve for b\n",
        "perpendicular_line = f\"y = {m_perpendicular}x + {b_perpendicular}\"\n",
        "\n",
        "print(f\"Equation of the perpendicular line: {perpendicular_line}\")\n",
        "\n",
        "# 2. Intersection of the two lines\n",
        "# Equations:\n",
        "# Line 1: y = 2x + 3\n",
        "# Line 2: y = -1/2x + 5/2\n",
        "\n",
        "# Solving 2x + 3 = -1/2x + 5/2\n",
        "# Rearrange: (5/2)x = -1/2\n",
        "x_intersection = -1 / 5\n",
        "\n",
        "# Substitute x into the first line: y = 2x + 3\n",
        "y_intersection = 2 * x_intersection + 3\n",
        "\n",
        "intersection_point = (x_intersection, y_intersection)\n",
        "print(f\"Intersection point: {intersection_point}\")\n",
        "\n",
        "# 3. Distance from point A to the intersection point\n",
        "x2, y2 = intersection_point\n",
        "\n",
        "# Distance formula: sqrt((x2 - x1)^2 + (y2 - y1)^2)\n",
        "distance = math.sqrt((x2 - x1)**2 + (y2 - y1)**2)\n",
        "print(f\"Distance from point A to the intersection point: {distance:.2f}\")\n"
      ],
      "metadata": {
        "colab": {
          "base_uri": "https://localhost:8080/"
        },
        "id": "cNajk7C9pohS",
        "outputId": "e486d939-02b3-4ef7-c32f-71694b0d8acd"
      },
      "execution_count": 8,
      "outputs": [
        {
          "output_type": "stream",
          "name": "stdout",
          "text": [
            "Equation of the perpendicular line: y = -0.5x + 2.5\n",
            "Intersection point: (-0.2, 2.6)\n",
            "Distance from point A to the intersection point: 1.34\n"
          ]
        }
      ]
    },
    {
      "cell_type": "code",
      "source": [
        "#8\n",
        "# Define the points A and B\n",
        "x1, y1 = 2, 0  # Point A\n",
        "x2, y2 = 0, 3  # Point B\n",
        "\n",
        "# Calculate the slope (m)\n",
        "m = (y2 - y1) / (x2 - x1)\n",
        "\n",
        "# Find the y-intercept (b) using the slope-intercept formula y = mx + b\n",
        "b = y1 - m * x1\n",
        "\n",
        "# Print the equation of the line\n",
        "print(f\"The equation of the line is: y = {m}x + {b}\")\n"
      ],
      "metadata": {
        "colab": {
          "base_uri": "https://localhost:8080/"
        },
        "id": "OiN5RWlsqD2H",
        "outputId": "7daac066-6267-48d1-b4dd-6ffe049ab370"
      },
      "execution_count": 9,
      "outputs": [
        {
          "output_type": "stream",
          "name": "stdout",
          "text": [
            "The equation of the line is: y = -1.5x + 3.0\n"
          ]
        }
      ]
    },
    {
      "cell_type": "code",
      "source": [
        "#9\n",
        "import math\n",
        "\n",
        "# Slope of the line\n",
        "m = 1  # Slope of y = x + 3\n",
        "\n",
        "# Calculate the angle in radians using arctan\n",
        "theta_radians = math.atan(m)\n",
        "\n",
        "# Convert the angle to degrees\n",
        "theta_degrees = math.degrees(theta_radians)\n",
        "\n",
        "# Print the angle\n",
        "print(f\"The angle between the line and the x-axis is approximately {theta_degrees:.2f} degrees.\")\n"
      ],
      "metadata": {
        "colab": {
          "base_uri": "https://localhost:8080/"
        },
        "id": "sw9DyOq4qc_e",
        "outputId": "0f16f589-1825-47ca-dc3a-8937e4a519f6"
      },
      "execution_count": 10,
      "outputs": [
        {
          "output_type": "stream",
          "name": "stdout",
          "text": [
            "The angle between the line and the x-axis is approximately 45.00 degrees.\n"
          ]
        }
      ]
    },
    {
      "cell_type": "code",
      "source": [
        "#10\n",
        "# Given line equation: x + y + 1 = 0\n",
        "# Standard form: Ax + By + C = 0\n",
        "# A = 1, B = 1 (coefficients directly give the perpendicular vector to the line)\n",
        "\n",
        "# Define the coefficients A and B\n",
        "A = 1\n",
        "B = 1\n",
        "\n",
        "# Perpendicular vector to the line\n",
        "perpendicular_vector = (A, B)\n",
        "\n",
        "# Print the result\n",
        "perpendicular_vector"
      ],
      "metadata": {
        "colab": {
          "base_uri": "https://localhost:8080/"
        },
        "id": "uAuj42xBscfU",
        "outputId": "b5165f5a-9a2a-43dc-a4d1-bcad06fe98fe"
      },
      "execution_count": 12,
      "outputs": [
        {
          "output_type": "execute_result",
          "data": {
            "text/plain": [
              "(1, 1)"
            ]
          },
          "metadata": {},
          "execution_count": 12
        }
      ]
    }
  ]
}